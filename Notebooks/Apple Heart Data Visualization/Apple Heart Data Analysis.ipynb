{
 "cells": [
  {
   "cell_type": "markdown",
   "source": [
    "Copyright ©2022. Stephen Rigden.\n",
    "This program is free software: you can redistribute it and/or modify it under the terms of the GNU General Public License as published by the Free Software Foundation, either version 3 of the License, or (at your option) any later version.\n",
    "This program is distributed in the hope that it will be useful, but WITHOUT ANY WARRANTY; without even the implied warranty of MERCHANTABILITY or FITNESS FOR A PARTICULAR PURPOSE.  See the GNU General Public License for more details.\n",
    "You should have received a copy of the GNU General Public License along with this program.  If not, see <http://www.gnu.org/licenses/>."
   ],
   "metadata": {
    "collapsed": false
   }
  },
  {
   "cell_type": "markdown",
   "source": [
    "## Export iPhone Health Data\n",
    "See <<project folder>>README.md for instructions."
   ],
   "metadata": {
    "collapsed": false
   }
  },
  {
   "cell_type": "markdown",
   "source": [
    "## Load and Refine the xml Data File"
   ],
   "metadata": {
    "collapsed": false
   }
  },
  {
   "cell_type": "code",
   "execution_count": 1,
   "outputs": [],
   "source": [
    "# lxml is needed by pandas.read_xml so…\n",
    "# noinspection PyUnresolvedReferences\n",
    "import lxml\n",
    "from pathlib import Path\n",
    "import pandas"
   ],
   "metadata": {
    "collapsed": false,
    "pycharm": {
     "name": "#%% Imports\n"
    }
   }
  },
  {
   "cell_type": "code",
   "execution_count": 2,
   "outputs": [],
   "source": [
    "project_path = Path.cwd().parent.parent\n",
    "iphone_file = project_path / 'data' / 'raw' / f\"export.xml\"\n",
    "heart_rate_pickle = project_path / 'data' / 'processed' / 'heart_preprocessed.pickle'"
   ],
   "metadata": {
    "collapsed": false,
    "pycharm": {
     "name": "#%% Files\n"
    }
   }
  },
  {
   "cell_type": "code",
   "execution_count": 3,
   "outputs": [
    {
     "data": {
      "text/plain": "(21504, 9)"
     },
     "execution_count": 3,
     "metadata": {},
     "output_type": "execute_result"
    }
   ],
   "source": [
    "hf = pandas.read_xml(iphone_file)  # 1.25m records took 2 min on my 4 y.o MacBook Pro.\n",
    "hf.shape"
   ],
   "metadata": {
    "collapsed": false,
    "pycharm": {
     "name": "#%%\n"
    }
   }
  },
  {
   "cell_type": "code",
   "execution_count": 4,
   "outputs": [
    {
     "data": {
      "text/plain": "Index(['startDate', 'type', 'value', 'creationDate', 'endDate', 'sourceName',\n       'sourceVersion', 'unit', 'device'],\n      dtype='object')"
     },
     "execution_count": 4,
     "metadata": {},
     "output_type": "execute_result"
    }
   ],
   "source": [
    "hf.columns"
   ],
   "metadata": {
    "collapsed": false,
    "pycharm": {
     "name": "#%%\n"
    }
   }
  },
  {
   "cell_type": "code",
   "execution_count": 5,
   "outputs": [
    {
     "name": "stdout",
     "output_type": "stream",
     "text": [
      "<class 'pandas.core.frame.DataFrame'>\n",
      "RangeIndex: 21504 entries, 0 to 21503\n",
      "Data columns (total 9 columns):\n",
      " #   Column         Non-Null Count  Dtype \n",
      "---  ------         --------------  ----- \n",
      " 0   startDate      21504 non-null  object\n",
      " 1   type           21504 non-null  object\n",
      " 2   value          21504 non-null  int64 \n",
      " 3   creationDate   1344 non-null   object\n",
      " 4   endDate        1344 non-null   object\n",
      " 5   sourceName     21504 non-null  object\n",
      " 6   sourceVersion  21504 non-null  object\n",
      " 7   unit           21504 non-null  object\n",
      " 8   device         21504 non-null  object\n",
      "dtypes: int64(1), object(8)\n",
      "memory usage: 1.5+ MB\n"
     ]
    }
   ],
   "source": [
    "hf.info()"
   ],
   "metadata": {
    "collapsed": false,
    "pycharm": {
     "name": "#%%\n"
    }
   }
  },
  {
   "cell_type": "markdown",
   "source": [
    "# Refine Dataset\n",
    "\n",
    "Extract columns and rows with useful information."
   ],
   "metadata": {
    "collapsed": false,
    "pycharm": {
     "name": "#%% md\n"
    }
   }
  },
  {
   "cell_type": "markdown",
   "source": [
    "#### Refine columns (pass 1)"
   ],
   "metadata": {
    "collapsed": false
   }
  },
  {
   "cell_type": "code",
   "execution_count": 6,
   "outputs": [
    {
     "data": {
      "text/plain": "(21504, 9)"
     },
     "execution_count": 6,
     "metadata": {},
     "output_type": "execute_result"
    }
   ],
   "source": [
    "health_file = hf.loc[:, ['value', 'type', 'sourceName', 'sourceVersion', 'unit',\n",
    "                         'creationDate', 'startDate', 'endDate', 'device']]\n",
    "health_file.shape"
   ],
   "metadata": {
    "collapsed": false,
    "pycharm": {
     "name": "#%%\n"
    }
   }
  },
  {
   "cell_type": "code",
   "execution_count": 7,
   "outputs": [
    {
     "name": "stdout",
     "output_type": "stream",
     "text": [
      "<class 'pandas.core.frame.DataFrame'>\n",
      "RangeIndex: 21504 entries, 0 to 21503\n",
      "Data columns (total 9 columns):\n",
      " #   Column         Non-Null Count  Dtype \n",
      "---  ------         --------------  ----- \n",
      " 0   value          21504 non-null  int64 \n",
      " 1   type           21504 non-null  object\n",
      " 2   sourceName     21504 non-null  object\n",
      " 3   sourceVersion  21504 non-null  object\n",
      " 4   unit           21504 non-null  object\n",
      " 5   creationDate   1344 non-null   object\n",
      " 6   startDate      21504 non-null  object\n",
      " 7   endDate        1344 non-null   object\n",
      " 8   device         21504 non-null  object\n",
      "dtypes: int64(1), object(8)\n",
      "memory usage: 1.5+ MB\n"
     ]
    }
   ],
   "source": [
    "health_file.info()"
   ],
   "metadata": {
    "collapsed": false,
    "pycharm": {
     "name": "#%%\n"
    }
   }
  },
  {
   "cell_type": "markdown",
   "source": [
    "#### Refine Rows"
   ],
   "metadata": {
    "collapsed": false
   }
  },
  {
   "cell_type": "code",
   "execution_count": 8,
   "outputs": [
    {
     "data": {
      "text/plain": "   value                                            type           sourceName  \\\n0    122   HKQuantityTypeIdentifierBloodPressureSystolic  Mock Data Generator   \n1     87  HKQuantityTypeIdentifierBloodPressureDiastolic  Mock Data Generator   \n2    155   HKQuantityTypeIdentifierBloodPressureSystolic  Mock Data Generator   \n3     91  HKQuantityTypeIdentifierBloodPressureDiastolic  Mock Data Generator   \n4    125   HKQuantityTypeIdentifierBloodPressureSystolic  Mock Data Generator   \n5     88  HKQuantityTypeIdentifierBloodPressureDiastolic  Mock Data Generator   \n6    127   HKQuantityTypeIdentifierBloodPressureSystolic  Mock Data Generator   \n\n   sourceVersion   unit         creationDate            startDate  \\\n0  1e-googolplex  mm Hg  1875-06-01 00:00:00  1875-06-01 00:00:00   \n1  1e-googolplex  mm Hg  1875-06-01 00:00:00  1875-06-01 00:00:00   \n2  1e-googolplex  mm Hg  1875-06-01 06:00:00  1875-06-01 06:00:00   \n3  1e-googolplex  mm Hg  1875-06-01 06:00:00  1875-06-01 06:00:00   \n4  1e-googolplex  mm Hg  1875-06-01 12:00:00  1875-06-01 12:00:00   \n5  1e-googolplex  mm Hg  1875-06-01 12:00:00  1875-06-01 12:00:00   \n6  1e-googolplex  mm Hg  1875-06-01 18:00:00  1875-06-01 18:00:00   \n\n               endDate      device  \n0  1875-06-01 00:00:00  Holy Grail  \n1  1875-06-01 00:00:00  Holy Grail  \n2  1875-06-01 06:00:00  Holy Grail  \n3  1875-06-01 06:00:00  Holy Grail  \n4  1875-06-01 12:00:00  Holy Grail  \n5  1875-06-01 12:00:00  Holy Grail  \n6  1875-06-01 18:00:00  Holy Grail  ",
      "text/html": "<div>\n<style scoped>\n    .dataframe tbody tr th:only-of-type {\n        vertical-align: middle;\n    }\n\n    .dataframe tbody tr th {\n        vertical-align: top;\n    }\n\n    .dataframe thead th {\n        text-align: right;\n    }\n</style>\n<table border=\"1\" class=\"dataframe\">\n  <thead>\n    <tr style=\"text-align: right;\">\n      <th></th>\n      <th>value</th>\n      <th>type</th>\n      <th>sourceName</th>\n      <th>sourceVersion</th>\n      <th>unit</th>\n      <th>creationDate</th>\n      <th>startDate</th>\n      <th>endDate</th>\n      <th>device</th>\n    </tr>\n  </thead>\n  <tbody>\n    <tr>\n      <th>0</th>\n      <td>122</td>\n      <td>HKQuantityTypeIdentifierBloodPressureSystolic</td>\n      <td>Mock Data Generator</td>\n      <td>1e-googolplex</td>\n      <td>mm Hg</td>\n      <td>1875-06-01 00:00:00</td>\n      <td>1875-06-01 00:00:00</td>\n      <td>1875-06-01 00:00:00</td>\n      <td>Holy Grail</td>\n    </tr>\n    <tr>\n      <th>1</th>\n      <td>87</td>\n      <td>HKQuantityTypeIdentifierBloodPressureDiastolic</td>\n      <td>Mock Data Generator</td>\n      <td>1e-googolplex</td>\n      <td>mm Hg</td>\n      <td>1875-06-01 00:00:00</td>\n      <td>1875-06-01 00:00:00</td>\n      <td>1875-06-01 00:00:00</td>\n      <td>Holy Grail</td>\n    </tr>\n    <tr>\n      <th>2</th>\n      <td>155</td>\n      <td>HKQuantityTypeIdentifierBloodPressureSystolic</td>\n      <td>Mock Data Generator</td>\n      <td>1e-googolplex</td>\n      <td>mm Hg</td>\n      <td>1875-06-01 06:00:00</td>\n      <td>1875-06-01 06:00:00</td>\n      <td>1875-06-01 06:00:00</td>\n      <td>Holy Grail</td>\n    </tr>\n    <tr>\n      <th>3</th>\n      <td>91</td>\n      <td>HKQuantityTypeIdentifierBloodPressureDiastolic</td>\n      <td>Mock Data Generator</td>\n      <td>1e-googolplex</td>\n      <td>mm Hg</td>\n      <td>1875-06-01 06:00:00</td>\n      <td>1875-06-01 06:00:00</td>\n      <td>1875-06-01 06:00:00</td>\n      <td>Holy Grail</td>\n    </tr>\n    <tr>\n      <th>4</th>\n      <td>125</td>\n      <td>HKQuantityTypeIdentifierBloodPressureSystolic</td>\n      <td>Mock Data Generator</td>\n      <td>1e-googolplex</td>\n      <td>mm Hg</td>\n      <td>1875-06-01 12:00:00</td>\n      <td>1875-06-01 12:00:00</td>\n      <td>1875-06-01 12:00:00</td>\n      <td>Holy Grail</td>\n    </tr>\n    <tr>\n      <th>5</th>\n      <td>88</td>\n      <td>HKQuantityTypeIdentifierBloodPressureDiastolic</td>\n      <td>Mock Data Generator</td>\n      <td>1e-googolplex</td>\n      <td>mm Hg</td>\n      <td>1875-06-01 12:00:00</td>\n      <td>1875-06-01 12:00:00</td>\n      <td>1875-06-01 12:00:00</td>\n      <td>Holy Grail</td>\n    </tr>\n    <tr>\n      <th>6</th>\n      <td>127</td>\n      <td>HKQuantityTypeIdentifierBloodPressureSystolic</td>\n      <td>Mock Data Generator</td>\n      <td>1e-googolplex</td>\n      <td>mm Hg</td>\n      <td>1875-06-01 18:00:00</td>\n      <td>1875-06-01 18:00:00</td>\n      <td>1875-06-01 18:00:00</td>\n      <td>Holy Grail</td>\n    </tr>\n  </tbody>\n</table>\n</div>"
     },
     "execution_count": 8,
     "metadata": {},
     "output_type": "execute_result"
    }
   ],
   "source": [
    "health_file.head(7)"
   ],
   "metadata": {
    "collapsed": false,
    "pycharm": {
     "name": "#%%\n"
    }
   }
  },
  {
   "cell_type": "code",
   "execution_count": 9,
   "outputs": [
    {
     "data": {
      "text/plain": "       value                               type           sourceName  \\\n21499     81  HKQuantityTypeIdentifierHeartRate  Mock Data Generator   \n21500     66  HKQuantityTypeIdentifierHeartRate  Mock Data Generator   \n21501     65  HKQuantityTypeIdentifierHeartRate  Mock Data Generator   \n21502     58  HKQuantityTypeIdentifierHeartRate  Mock Data Generator   \n21503     91  HKQuantityTypeIdentifierHeartRate  Mock Data Generator   \n\n       sourceVersion   unit creationDate            startDate endDate  \\\n21499  1e-googolplex  mm Hg         None  1875-11-15 23:00:00    None   \n21500  1e-googolplex  mm Hg         None  1875-11-15 23:12:00    None   \n21501  1e-googolplex  mm Hg         None  1875-11-15 23:24:00    None   \n21502  1e-googolplex  mm Hg         None  1875-11-15 23:36:00    None   \n21503  1e-googolplex  mm Hg         None  1875-11-15 23:48:00    None   \n\n           device  \n21499  Holy Grail  \n21500  Holy Grail  \n21501  Holy Grail  \n21502  Holy Grail  \n21503  Holy Grail  ",
      "text/html": "<div>\n<style scoped>\n    .dataframe tbody tr th:only-of-type {\n        vertical-align: middle;\n    }\n\n    .dataframe tbody tr th {\n        vertical-align: top;\n    }\n\n    .dataframe thead th {\n        text-align: right;\n    }\n</style>\n<table border=\"1\" class=\"dataframe\">\n  <thead>\n    <tr style=\"text-align: right;\">\n      <th></th>\n      <th>value</th>\n      <th>type</th>\n      <th>sourceName</th>\n      <th>sourceVersion</th>\n      <th>unit</th>\n      <th>creationDate</th>\n      <th>startDate</th>\n      <th>endDate</th>\n      <th>device</th>\n    </tr>\n  </thead>\n  <tbody>\n    <tr>\n      <th>21499</th>\n      <td>81</td>\n      <td>HKQuantityTypeIdentifierHeartRate</td>\n      <td>Mock Data Generator</td>\n      <td>1e-googolplex</td>\n      <td>mm Hg</td>\n      <td>None</td>\n      <td>1875-11-15 23:00:00</td>\n      <td>None</td>\n      <td>Holy Grail</td>\n    </tr>\n    <tr>\n      <th>21500</th>\n      <td>66</td>\n      <td>HKQuantityTypeIdentifierHeartRate</td>\n      <td>Mock Data Generator</td>\n      <td>1e-googolplex</td>\n      <td>mm Hg</td>\n      <td>None</td>\n      <td>1875-11-15 23:12:00</td>\n      <td>None</td>\n      <td>Holy Grail</td>\n    </tr>\n    <tr>\n      <th>21501</th>\n      <td>65</td>\n      <td>HKQuantityTypeIdentifierHeartRate</td>\n      <td>Mock Data Generator</td>\n      <td>1e-googolplex</td>\n      <td>mm Hg</td>\n      <td>None</td>\n      <td>1875-11-15 23:24:00</td>\n      <td>None</td>\n      <td>Holy Grail</td>\n    </tr>\n    <tr>\n      <th>21502</th>\n      <td>58</td>\n      <td>HKQuantityTypeIdentifierHeartRate</td>\n      <td>Mock Data Generator</td>\n      <td>1e-googolplex</td>\n      <td>mm Hg</td>\n      <td>None</td>\n      <td>1875-11-15 23:36:00</td>\n      <td>None</td>\n      <td>Holy Grail</td>\n    </tr>\n    <tr>\n      <th>21503</th>\n      <td>91</td>\n      <td>HKQuantityTypeIdentifierHeartRate</td>\n      <td>Mock Data Generator</td>\n      <td>1e-googolplex</td>\n      <td>mm Hg</td>\n      <td>None</td>\n      <td>1875-11-15 23:48:00</td>\n      <td>None</td>\n      <td>Holy Grail</td>\n    </tr>\n  </tbody>\n</table>\n</div>"
     },
     "execution_count": 9,
     "metadata": {},
     "output_type": "execute_result"
    }
   ],
   "source": [
    "health_file.tail()"
   ],
   "metadata": {
    "collapsed": false,
    "pycharm": {
     "name": "#%%\n"
    }
   }
  },
  {
   "cell_type": "code",
   "execution_count": 10,
   "outputs": [
    {
     "data": {
      "text/plain": "HKQuantityTypeIdentifierHeartRate                 20160\nHKQuantityTypeIdentifierBloodPressureSystolic       672\nHKQuantityTypeIdentifierBloodPressureDiastolic      672\nName: type, dtype: int64"
     },
     "execution_count": 10,
     "metadata": {},
     "output_type": "execute_result"
    }
   ],
   "source": [
    "health_file['type'].value_counts()"
   ],
   "metadata": {
    "collapsed": false,
    "pycharm": {
     "name": "#%%\n"
    }
   }
  },
  {
   "cell_type": "markdown",
   "source": [
    "#### Select rows with heart types. Refine columns (pass 2)"
   ],
   "metadata": {
    "collapsed": false
   }
  },
  {
   "cell_type": "code",
   "execution_count": 11,
   "outputs": [
    {
     "name": "stdout",
     "output_type": "stream",
     "text": [
      "<class 'pandas.core.frame.DataFrame'>\n",
      "Int64Index: 21504 entries, 0 to 21503\n",
      "Data columns (total 3 columns):\n",
      " #   Column  Non-Null Count  Dtype         \n",
      "---  ------  --------------  -----         \n",
      " 0   value   21504 non-null  float64       \n",
      " 1   type    21504 non-null  object        \n",
      " 2   date    21504 non-null  datetime64[ns]\n",
      "dtypes: datetime64[ns](1), float64(1), object(1)\n",
      "memory usage: 672.0+ KB\n"
     ]
    }
   ],
   "source": [
    "heart_rate = health_file['type'] == 'HKQuantityTypeIdentifierHeartRate'\n",
    "bp_diastolic = health_file['type'] == 'HKQuantityTypeIdentifierBloodPressureDiastolic'\n",
    "bp_systolic = health_file['type'] == 'HKQuantityTypeIdentifierBloodPressureSystolic'\n",
    "ds = health_file.loc[heart_rate | bp_diastolic | bp_systolic, ['value', 'type', 'startDate']]\n",
    "ds.loc[:, 'value'] = ds['value'].astype('float')\n",
    "ds = ds.rename(columns={'startDate': 'date'})\n",
    "ds.loc[:, 'date'] = ds['date'].astype('datetime64[ns]')\n",
    "ds.info()"
   ],
   "metadata": {
    "collapsed": false,
    "pycharm": {
     "name": "#%%\n"
    }
   }
  },
  {
   "cell_type": "code",
   "execution_count": 12,
   "outputs": [
    {
     "data": {
      "text/plain": "Timestamp('1875-06-01 00:00:00')"
     },
     "execution_count": 12,
     "metadata": {},
     "output_type": "execute_result"
    }
   ],
   "source": [
    "ds.date.min()"
   ],
   "metadata": {
    "collapsed": false,
    "pycharm": {
     "name": "#%%\n"
    }
   }
  },
  {
   "cell_type": "code",
   "execution_count": 13,
   "outputs": [
    {
     "data": {
      "text/plain": "Timestamp('1875-11-15 23:48:00')"
     },
     "execution_count": 13,
     "metadata": {},
     "output_type": "execute_result"
    }
   ],
   "source": [
    "ds.date.max()"
   ],
   "metadata": {
    "collapsed": false,
    "pycharm": {
     "name": "#%%\n"
    }
   }
  },
  {
   "cell_type": "code",
   "execution_count": 14,
   "outputs": [],
   "source": [
    "ds.to_pickle(heart_rate_pickle)"
   ],
   "metadata": {
    "collapsed": false,
    "pycharm": {
     "name": "#%%\n"
    }
   }
  }
 ],
 "metadata": {
  "kernelspec": {
   "display_name": "Python 3",
   "language": "python",
   "name": "python3"
  },
  "language_info": {
   "codemirror_mode": {
    "name": "ipython",
    "version": 2
   },
   "file_extension": ".py",
   "mimetype": "text/x-python",
   "name": "python",
   "nbconvert_exporter": "python",
   "pygments_lexer": "ipython2",
   "version": "2.7.6"
  }
 },
 "nbformat": 4,
 "nbformat_minor": 0
}