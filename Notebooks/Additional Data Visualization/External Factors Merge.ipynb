{
 "cells": [
  {
   "cell_type": "markdown",
   "source": [
    "Copyright ©2022. Stephen Rigden. This program is free software: you can redistribute it and/or modify\n",
    "it under the terms of the GNU General Public License as published by the Free Software Foundation, either version 3 of the License, or (at your option) any later version. This program is distributed in the hope that it will be useful, but WITHOUT ANY WARRANTY; without even the implied warranty of MERCHANTABILITY or FITNESS FOR A PARTICULAR PURPOSE. See the GNU General Public License for more details. You should have received a copy of the GNU General Public License along with this program. If not, see https://www.gnu.org/licenses/."
   ],
   "metadata": {
    "collapsed": false
   }
  },
  {
   "cell_type": "code",
   "execution_count": 34,
   "outputs": [],
   "source": [
    "import pandas\n",
    "from pathlib import Path\n",
    "\n",
    "from heart_health import utilities"
   ],
   "metadata": {
    "collapsed": false,
    "pycharm": {
     "name": "#%%\n"
    }
   }
  },
  {
   "cell_type": "code",
   "execution_count": 35,
   "outputs": [],
   "source": [
    "# Set file paths\n",
    "project_path = Path.cwd().parent.parent\n",
    "extra_data_pickle = project_path / 'data' / 'processed' / 'extra_data_preprocessed.pickle'\n",
    "heart_data_pickle = project_path / 'data' / 'processed' / 'heart_preprocessed.pickle'\n",
    "heart_and_externals_pickle = project_path / 'data' / 'processed' / 'heart_and_externals.pickle'"
   ],
   "metadata": {
    "collapsed": false,
    "pycharm": {
     "name": "#%%\n"
    }
   }
  },
  {
   "cell_type": "markdown",
   "source": [
    "### Load and view the data"
   ],
   "metadata": {
    "collapsed": false,
    "pycharm": {
     "name": "#%% md\n"
    }
   }
  },
  {
   "cell_type": "code",
   "execution_count": 36,
   "outputs": [],
   "source": [
    "hds = pandas.read_pickle(heart_data_pickle)\n",
    "eds = pandas.read_pickle(extra_data_pickle)"
   ],
   "metadata": {
    "collapsed": false,
    "pycharm": {
     "name": "#%%\n"
    }
   }
  },
  {
   "cell_type": "code",
   "execution_count": 37,
   "outputs": [
    {
     "name": "stdout",
     "output_type": "stream",
     "text": [
      "<class 'pandas.core.frame.DataFrame'>\n",
      "Int64Index: 21504 entries, 0 to 21503\n",
      "Data columns (total 3 columns):\n",
      " #   Column  Non-Null Count  Dtype         \n",
      "---  ------  --------------  -----         \n",
      " 0   value   21504 non-null  float64       \n",
      " 1   type    21504 non-null  object        \n",
      " 2   date    21504 non-null  datetime64[ns]\n",
      "dtypes: datetime64[ns](1), float64(1), object(1)\n",
      "memory usage: 672.0+ KB\n"
     ]
    }
   ],
   "source": [
    "hds.info()"
   ],
   "metadata": {
    "collapsed": false,
    "pycharm": {
     "name": "#%%\n"
    }
   }
  },
  {
   "cell_type": "code",
   "execution_count": 38,
   "outputs": [
    {
     "data": {
      "text/plain": "   value                                            type                date\n0  122.0   HKQuantityTypeIdentifierBloodPressureSystolic 1875-06-01 00:00:00\n1   87.0  HKQuantityTypeIdentifierBloodPressureDiastolic 1875-06-01 00:00:00\n2  155.0   HKQuantityTypeIdentifierBloodPressureSystolic 1875-06-01 06:00:00\n3   91.0  HKQuantityTypeIdentifierBloodPressureDiastolic 1875-06-01 06:00:00\n4  125.0   HKQuantityTypeIdentifierBloodPressureSystolic 1875-06-01 12:00:00",
      "text/html": "<div>\n<style scoped>\n    .dataframe tbody tr th:only-of-type {\n        vertical-align: middle;\n    }\n\n    .dataframe tbody tr th {\n        vertical-align: top;\n    }\n\n    .dataframe thead th {\n        text-align: right;\n    }\n</style>\n<table border=\"1\" class=\"dataframe\">\n  <thead>\n    <tr style=\"text-align: right;\">\n      <th></th>\n      <th>value</th>\n      <th>type</th>\n      <th>date</th>\n    </tr>\n  </thead>\n  <tbody>\n    <tr>\n      <th>0</th>\n      <td>122.0</td>\n      <td>HKQuantityTypeIdentifierBloodPressureSystolic</td>\n      <td>1875-06-01 00:00:00</td>\n    </tr>\n    <tr>\n      <th>1</th>\n      <td>87.0</td>\n      <td>HKQuantityTypeIdentifierBloodPressureDiastolic</td>\n      <td>1875-06-01 00:00:00</td>\n    </tr>\n    <tr>\n      <th>2</th>\n      <td>155.0</td>\n      <td>HKQuantityTypeIdentifierBloodPressureSystolic</td>\n      <td>1875-06-01 06:00:00</td>\n    </tr>\n    <tr>\n      <th>3</th>\n      <td>91.0</td>\n      <td>HKQuantityTypeIdentifierBloodPressureDiastolic</td>\n      <td>1875-06-01 06:00:00</td>\n    </tr>\n    <tr>\n      <th>4</th>\n      <td>125.0</td>\n      <td>HKQuantityTypeIdentifierBloodPressureSystolic</td>\n      <td>1875-06-01 12:00:00</td>\n    </tr>\n  </tbody>\n</table>\n</div>"
     },
     "execution_count": 38,
     "metadata": {},
     "output_type": "execute_result"
    }
   ],
   "source": [
    "hds.head()"
   ],
   "metadata": {
    "collapsed": false,
    "pycharm": {
     "name": "#%%\n"
    }
   }
  },
  {
   "cell_type": "code",
   "execution_count": 39,
   "outputs": [
    {
     "data": {
      "text/plain": "       value                               type                date\n21499   81.0  HKQuantityTypeIdentifierHeartRate 1875-11-15 23:00:00\n21500   66.0  HKQuantityTypeIdentifierHeartRate 1875-11-15 23:12:00\n21501   65.0  HKQuantityTypeIdentifierHeartRate 1875-11-15 23:24:00\n21502   58.0  HKQuantityTypeIdentifierHeartRate 1875-11-15 23:36:00\n21503   91.0  HKQuantityTypeIdentifierHeartRate 1875-11-15 23:48:00",
      "text/html": "<div>\n<style scoped>\n    .dataframe tbody tr th:only-of-type {\n        vertical-align: middle;\n    }\n\n    .dataframe tbody tr th {\n        vertical-align: top;\n    }\n\n    .dataframe thead th {\n        text-align: right;\n    }\n</style>\n<table border=\"1\" class=\"dataframe\">\n  <thead>\n    <tr style=\"text-align: right;\">\n      <th></th>\n      <th>value</th>\n      <th>type</th>\n      <th>date</th>\n    </tr>\n  </thead>\n  <tbody>\n    <tr>\n      <th>21499</th>\n      <td>81.0</td>\n      <td>HKQuantityTypeIdentifierHeartRate</td>\n      <td>1875-11-15 23:00:00</td>\n    </tr>\n    <tr>\n      <th>21500</th>\n      <td>66.0</td>\n      <td>HKQuantityTypeIdentifierHeartRate</td>\n      <td>1875-11-15 23:12:00</td>\n    </tr>\n    <tr>\n      <th>21501</th>\n      <td>65.0</td>\n      <td>HKQuantityTypeIdentifierHeartRate</td>\n      <td>1875-11-15 23:24:00</td>\n    </tr>\n    <tr>\n      <th>21502</th>\n      <td>58.0</td>\n      <td>HKQuantityTypeIdentifierHeartRate</td>\n      <td>1875-11-15 23:36:00</td>\n    </tr>\n    <tr>\n      <th>21503</th>\n      <td>91.0</td>\n      <td>HKQuantityTypeIdentifierHeartRate</td>\n      <td>1875-11-15 23:48:00</td>\n    </tr>\n  </tbody>\n</table>\n</div>"
     },
     "execution_count": 39,
     "metadata": {},
     "output_type": "execute_result"
    }
   ],
   "source": [
    "hds.tail()"
   ],
   "metadata": {
    "collapsed": false,
    "pycharm": {
     "name": "#%%\n"
    }
   }
  },
  {
   "cell_type": "code",
   "execution_count": 40,
   "outputs": [
    {
     "name": "stdout",
     "output_type": "stream",
     "text": [
      "<class 'pandas.core.frame.DataFrame'>\n",
      "RangeIndex: 84 entries, 0 to 83\n",
      "Data columns (total 4 columns):\n",
      " #   Column         Non-Null Count  Dtype         \n",
      "---  ------         --------------  -----         \n",
      " 0   date           84 non-null     datetime64[ns]\n",
      " 1   heart_tablets  84 non-null     Int64         \n",
      " 2   alcohol        84 non-null     Int64         \n",
      " 3   notes          84 non-null     object        \n",
      "dtypes: Int64(2), datetime64[ns](1), object(1)\n",
      "memory usage: 2.9+ KB\n"
     ]
    }
   ],
   "source": [
    "eds.info()"
   ],
   "metadata": {
    "collapsed": false,
    "pycharm": {
     "name": "#%%\n"
    }
   }
  },
  {
   "cell_type": "code",
   "execution_count": 41,
   "outputs": [
    {
     "data": {
      "text/plain": "        date  heart_tablets  alcohol   notes\n0 1875-06-01              2        0  A note\n1 1875-06-02              2      177        \n2 1875-06-03              2        0        \n3 1875-06-04              2        0        \n4 1875-06-05              2       30        ",
      "text/html": "<div>\n<style scoped>\n    .dataframe tbody tr th:only-of-type {\n        vertical-align: middle;\n    }\n\n    .dataframe tbody tr th {\n        vertical-align: top;\n    }\n\n    .dataframe thead th {\n        text-align: right;\n    }\n</style>\n<table border=\"1\" class=\"dataframe\">\n  <thead>\n    <tr style=\"text-align: right;\">\n      <th></th>\n      <th>date</th>\n      <th>heart_tablets</th>\n      <th>alcohol</th>\n      <th>notes</th>\n    </tr>\n  </thead>\n  <tbody>\n    <tr>\n      <th>0</th>\n      <td>1875-06-01</td>\n      <td>2</td>\n      <td>0</td>\n      <td>A note</td>\n    </tr>\n    <tr>\n      <th>1</th>\n      <td>1875-06-02</td>\n      <td>2</td>\n      <td>177</td>\n      <td></td>\n    </tr>\n    <tr>\n      <th>2</th>\n      <td>1875-06-03</td>\n      <td>2</td>\n      <td>0</td>\n      <td></td>\n    </tr>\n    <tr>\n      <th>3</th>\n      <td>1875-06-04</td>\n      <td>2</td>\n      <td>0</td>\n      <td></td>\n    </tr>\n    <tr>\n      <th>4</th>\n      <td>1875-06-05</td>\n      <td>2</td>\n      <td>30</td>\n      <td></td>\n    </tr>\n  </tbody>\n</table>\n</div>"
     },
     "execution_count": 41,
     "metadata": {},
     "output_type": "execute_result"
    }
   ],
   "source": [
    "eds.head()"
   ],
   "metadata": {
    "collapsed": false,
    "pycharm": {
     "name": "#%%\n"
    }
   }
  },
  {
   "cell_type": "markdown",
   "source": [
    "### Extract blood pressure data and merge with extra data file"
   ],
   "metadata": {
    "collapsed": false
   }
  },
  {
   "cell_type": "code",
   "execution_count": 42,
   "outputs": [
    {
     "name": "stdout",
     "output_type": "stream",
     "text": [
      "<class 'pandas.core.frame.DataFrame'>\n",
      "Int64Index: 672 entries, 0 to 671\n",
      "Data columns (total 4 columns):\n",
      " #   Column          Non-Null Count  Dtype         \n",
      "---  ------          --------------  -----         \n",
      " 0   date            672 non-null    datetime64[ns]\n",
      " 1   systolic        672 non-null    float64       \n",
      " 2   diastolic       672 non-null    float64       \n",
      " 3   pulse pressure  672 non-null    float64       \n",
      "dtypes: datetime64[ns](1), float64(3)\n",
      "memory usage: 26.2 KB\n"
     ]
    }
   ],
   "source": [
    "bpds = utilities.create_blood_pressure_dataset(hds)\n",
    "bpds.info()"
   ],
   "metadata": {
    "collapsed": false,
    "pycharm": {
     "name": "#%%\n"
    }
   }
  },
  {
   "cell_type": "code",
   "execution_count": 43,
   "outputs": [
    {
     "data": {
      "text/plain": "                 date  systolic  diastolic  pulse pressure\n0 1875-06-01 00:00:00     122.0       87.0            35.0\n1 1875-06-01 06:00:00     155.0       91.0            64.0\n2 1875-06-01 12:00:00     125.0       88.0            37.0\n3 1875-06-01 18:00:00     127.0       81.0            46.0\n4 1875-06-02 00:00:00     109.0       78.0            31.0",
      "text/html": "<div>\n<style scoped>\n    .dataframe tbody tr th:only-of-type {\n        vertical-align: middle;\n    }\n\n    .dataframe tbody tr th {\n        vertical-align: top;\n    }\n\n    .dataframe thead th {\n        text-align: right;\n    }\n</style>\n<table border=\"1\" class=\"dataframe\">\n  <thead>\n    <tr style=\"text-align: right;\">\n      <th></th>\n      <th>date</th>\n      <th>systolic</th>\n      <th>diastolic</th>\n      <th>pulse pressure</th>\n    </tr>\n  </thead>\n  <tbody>\n    <tr>\n      <th>0</th>\n      <td>1875-06-01 00:00:00</td>\n      <td>122.0</td>\n      <td>87.0</td>\n      <td>35.0</td>\n    </tr>\n    <tr>\n      <th>1</th>\n      <td>1875-06-01 06:00:00</td>\n      <td>155.0</td>\n      <td>91.0</td>\n      <td>64.0</td>\n    </tr>\n    <tr>\n      <th>2</th>\n      <td>1875-06-01 12:00:00</td>\n      <td>125.0</td>\n      <td>88.0</td>\n      <td>37.0</td>\n    </tr>\n    <tr>\n      <th>3</th>\n      <td>1875-06-01 18:00:00</td>\n      <td>127.0</td>\n      <td>81.0</td>\n      <td>46.0</td>\n    </tr>\n    <tr>\n      <th>4</th>\n      <td>1875-06-02 00:00:00</td>\n      <td>109.0</td>\n      <td>78.0</td>\n      <td>31.0</td>\n    </tr>\n  </tbody>\n</table>\n</div>"
     },
     "execution_count": 43,
     "metadata": {},
     "output_type": "execute_result"
    }
   ],
   "source": [
    "bpds.head()"
   ],
   "metadata": {
    "collapsed": false,
    "pycharm": {
     "name": "#%%\n"
    }
   }
  },
  {
   "cell_type": "code",
   "execution_count": 44,
   "outputs": [
    {
     "name": "stdout",
     "output_type": "stream",
     "text": [
      "<class 'pandas.core.frame.DataFrame'>\n",
      "Int64Index: 336 entries, 0 to 335\n",
      "Data columns (total 9 columns):\n",
      " #   Column          Non-Null Count  Dtype         \n",
      "---  ------          --------------  -----         \n",
      " 0   date            336 non-null    datetime64[ns]\n",
      " 1   date_x          336 non-null    datetime64[ns]\n",
      " 2   systolic        336 non-null    float64       \n",
      " 3   diastolic       336 non-null    float64       \n",
      " 4   pulse pressure  336 non-null    float64       \n",
      " 5   date_y          336 non-null    datetime64[ns]\n",
      " 6   heart_tablets   336 non-null    Int64         \n",
      " 7   alcohol         336 non-null    Int64         \n",
      " 8   notes           336 non-null    object        \n",
      "dtypes: Int64(2), datetime64[ns](3), float64(3), object(1)\n",
      "memory usage: 26.9+ KB\n"
     ]
    }
   ],
   "source": [
    "day = bpds['date'].dt.date.astype('datetime64[ns]')\n",
    "bpds = bpds.merge(eds, left_on=[day], right_on=['date'])\n",
    "bpds.info()"
   ],
   "metadata": {
    "collapsed": false,
    "pycharm": {
     "name": "#%%\n"
    }
   }
  },
  {
   "cell_type": "code",
   "execution_count": 45,
   "outputs": [
    {
     "name": "stdout",
     "output_type": "stream",
     "text": [
      "<class 'pandas.core.frame.DataFrame'>\n",
      "Int64Index: 336 entries, 0 to 335\n",
      "Data columns (total 6 columns):\n",
      " #   Column          Non-Null Count  Dtype         \n",
      "---  ------          --------------  -----         \n",
      " 0   date            336 non-null    datetime64[ns]\n",
      " 1   systolic        336 non-null    float64       \n",
      " 2   diastolic       336 non-null    float64       \n",
      " 3   pulse pressure  336 non-null    float64       \n",
      " 4   heart_tablets   336 non-null    Int64         \n",
      " 5   alcohol         336 non-null    Int64         \n",
      "dtypes: Int64(2), datetime64[ns](1), float64(3)\n",
      "memory usage: 19.0 KB\n"
     ]
    }
   ],
   "source": [
    "bpds = bpds.loc[:, ['date_x', 'systolic', 'diastolic', 'pulse pressure', 'heart_tablets', 'alcohol']]\n",
    "bpds = bpds.rename(columns={'date_x': 'date'})\n",
    "bpds.info()"
   ],
   "metadata": {
    "collapsed": false,
    "pycharm": {
     "name": "#%%\n"
    }
   }
  },
  {
   "cell_type": "code",
   "execution_count": 46,
   "outputs": [
    {
     "data": {
      "text/plain": "                 date  systolic  diastolic  pulse pressure  heart_tablets  \\\n0 1875-06-01 00:00:00     122.0       87.0            35.0              2   \n1 1875-06-01 06:00:00     155.0       91.0            64.0              2   \n2 1875-06-01 12:00:00     125.0       88.0            37.0              2   \n3 1875-06-01 18:00:00     127.0       81.0            46.0              2   \n4 1875-06-02 00:00:00     109.0       78.0            31.0              2   \n\n   alcohol  \n0        0  \n1        0  \n2        0  \n3        0  \n4      177  ",
      "text/html": "<div>\n<style scoped>\n    .dataframe tbody tr th:only-of-type {\n        vertical-align: middle;\n    }\n\n    .dataframe tbody tr th {\n        vertical-align: top;\n    }\n\n    .dataframe thead th {\n        text-align: right;\n    }\n</style>\n<table border=\"1\" class=\"dataframe\">\n  <thead>\n    <tr style=\"text-align: right;\">\n      <th></th>\n      <th>date</th>\n      <th>systolic</th>\n      <th>diastolic</th>\n      <th>pulse pressure</th>\n      <th>heart_tablets</th>\n      <th>alcohol</th>\n    </tr>\n  </thead>\n  <tbody>\n    <tr>\n      <th>0</th>\n      <td>1875-06-01 00:00:00</td>\n      <td>122.0</td>\n      <td>87.0</td>\n      <td>35.0</td>\n      <td>2</td>\n      <td>0</td>\n    </tr>\n    <tr>\n      <th>1</th>\n      <td>1875-06-01 06:00:00</td>\n      <td>155.0</td>\n      <td>91.0</td>\n      <td>64.0</td>\n      <td>2</td>\n      <td>0</td>\n    </tr>\n    <tr>\n      <th>2</th>\n      <td>1875-06-01 12:00:00</td>\n      <td>125.0</td>\n      <td>88.0</td>\n      <td>37.0</td>\n      <td>2</td>\n      <td>0</td>\n    </tr>\n    <tr>\n      <th>3</th>\n      <td>1875-06-01 18:00:00</td>\n      <td>127.0</td>\n      <td>81.0</td>\n      <td>46.0</td>\n      <td>2</td>\n      <td>0</td>\n    </tr>\n    <tr>\n      <th>4</th>\n      <td>1875-06-02 00:00:00</td>\n      <td>109.0</td>\n      <td>78.0</td>\n      <td>31.0</td>\n      <td>2</td>\n      <td>177</td>\n    </tr>\n  </tbody>\n</table>\n</div>"
     },
     "execution_count": 46,
     "metadata": {},
     "output_type": "execute_result"
    }
   ],
   "source": [
    "bpds.head()"
   ],
   "metadata": {
    "collapsed": false,
    "pycharm": {
     "name": "#%%\n"
    }
   }
  },
  {
   "cell_type": "code",
   "execution_count": 47,
   "outputs": [
    {
     "data": {
      "text/plain": "                   date  systolic  diastolic  pulse pressure  heart_tablets  \\\n331 1875-08-22 18:00:00     129.0       87.0            42.0              2   \n332 1875-08-23 00:00:00     113.0       78.0            35.0              2   \n333 1875-08-23 06:00:00     128.0       82.0            46.0              2   \n334 1875-08-23 12:00:00     102.0       78.0            24.0              2   \n335 1875-08-23 18:00:00     125.0       89.0            36.0              2   \n\n     alcohol  \n331        0  \n332        0  \n333        0  \n334        0  \n335        0  ",
      "text/html": "<div>\n<style scoped>\n    .dataframe tbody tr th:only-of-type {\n        vertical-align: middle;\n    }\n\n    .dataframe tbody tr th {\n        vertical-align: top;\n    }\n\n    .dataframe thead th {\n        text-align: right;\n    }\n</style>\n<table border=\"1\" class=\"dataframe\">\n  <thead>\n    <tr style=\"text-align: right;\">\n      <th></th>\n      <th>date</th>\n      <th>systolic</th>\n      <th>diastolic</th>\n      <th>pulse pressure</th>\n      <th>heart_tablets</th>\n      <th>alcohol</th>\n    </tr>\n  </thead>\n  <tbody>\n    <tr>\n      <th>331</th>\n      <td>1875-08-22 18:00:00</td>\n      <td>129.0</td>\n      <td>87.0</td>\n      <td>42.0</td>\n      <td>2</td>\n      <td>0</td>\n    </tr>\n    <tr>\n      <th>332</th>\n      <td>1875-08-23 00:00:00</td>\n      <td>113.0</td>\n      <td>78.0</td>\n      <td>35.0</td>\n      <td>2</td>\n      <td>0</td>\n    </tr>\n    <tr>\n      <th>333</th>\n      <td>1875-08-23 06:00:00</td>\n      <td>128.0</td>\n      <td>82.0</td>\n      <td>46.0</td>\n      <td>2</td>\n      <td>0</td>\n    </tr>\n    <tr>\n      <th>334</th>\n      <td>1875-08-23 12:00:00</td>\n      <td>102.0</td>\n      <td>78.0</td>\n      <td>24.0</td>\n      <td>2</td>\n      <td>0</td>\n    </tr>\n    <tr>\n      <th>335</th>\n      <td>1875-08-23 18:00:00</td>\n      <td>125.0</td>\n      <td>89.0</td>\n      <td>36.0</td>\n      <td>2</td>\n      <td>0</td>\n    </tr>\n  </tbody>\n</table>\n</div>"
     },
     "execution_count": 47,
     "metadata": {},
     "output_type": "execute_result"
    }
   ],
   "source": [
    "bpds.tail()"
   ],
   "metadata": {
    "collapsed": false,
    "pycharm": {
     "name": "#%%\n"
    }
   }
  },
  {
   "cell_type": "code",
   "execution_count": 48,
   "outputs": [],
   "source": [
    "bpds.to_pickle(heart_and_externals_pickle)"
   ],
   "metadata": {
    "collapsed": false,
    "pycharm": {
     "name": "#%%\n"
    }
   }
  }
 ],
 "metadata": {
  "kernelspec": {
   "display_name": "Python 3",
   "language": "python",
   "name": "python3"
  },
  "language_info": {
   "codemirror_mode": {
    "name": "ipython",
    "version": 2
   },
   "file_extension": ".py",
   "mimetype": "text/x-python",
   "name": "python",
   "nbconvert_exporter": "python",
   "pygments_lexer": "ipython2",
   "version": "2.7.6"
  }
 },
 "nbformat": 4,
 "nbformat_minor": 0
}