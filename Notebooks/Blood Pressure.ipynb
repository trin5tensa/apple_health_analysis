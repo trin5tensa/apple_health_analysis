{
 "cells": [
  {
   "cell_type": "markdown",
   "metadata": {
    "collapsed": true,
    "pycharm": {
     "name": "#%% md\n"
    }
   },
   "source": [
    "# Plot Blood Pressure\n",
    "\n",
    "Change History\n",
    "9/28/2021 Started\n",
    "10/15/2021 Reviewed and tidied up for production use.\n",
    "10/23/2021 Modified to use pandas resampling toolset instead of iso_date"
   ]
  },
  {
   "cell_type": "code",
   "execution_count": 15,
   "outputs": [],
   "source": [
    "import pandas\n",
    "from pathlib import Path\n",
    "from matplotlib import pyplot\n",
    "import seaborn\n",
    "seaborn.set_style('darkgrid')  # one of {darkgrid, whitegrid, dark, white, ticks}"
   ],
   "metadata": {
    "collapsed": false,
    "pycharm": {
     "name": "#%%\n"
    }
   }
  },
  {
   "cell_type": "code",
   "execution_count": 16,
   "outputs": [],
   "source": [
    "heart_preprocessed = Path.cwd().parent / 'data' / 'processed'/ 'heart_preprocessed.pickle'\n",
    "blood_pressure_df_pickle = Path.cwd().parent / 'data' / 'processed' / 'blood_pressure_df.pickle'\n",
    "blood_pressure_pdf = Path.cwd().parent / 'reports' / 'blood_pressure.pdf'\n",
    "blood_pressure_jpg = Path.cwd().parent / 'reports' / 'blood_pressure.jpg'"
   ],
   "metadata": {
    "collapsed": false,
    "pycharm": {
     "name": "#%%\n"
    }
   }
  },
  {
   "cell_type": "markdown",
   "source": [
    "### Get the raw data and analyse its structure"
   ],
   "metadata": {
    "collapsed": false,
    "pycharm": {
     "name": "#%% md\n"
    }
   }
  },
  {
   "cell_type": "code",
   "execution_count": 17,
   "outputs": [
    {
     "name": "stdout",
     "output_type": "stream",
     "text": [
      "<class 'pandas.core.frame.DataFrame'>\n",
      "Int64Index: 174654 entries, 5 to 174658\n",
      "Data columns (total 3 columns):\n",
      " #   Column  Non-Null Count   Dtype         \n",
      "---  ------  --------------   -----         \n",
      " 0   value   174654 non-null  float64       \n",
      " 1   type    174654 non-null  object        \n",
      " 2   date    174654 non-null  datetime64[ns]\n",
      "dtypes: datetime64[ns](1), float64(1), object(1)\n",
      "memory usage: 5.3+ MB\n"
     ]
    }
   ],
   "source": [
    "ds = pandas.read_pickle(heart_preprocessed)\n",
    "ds.info()"
   ],
   "metadata": {
    "collapsed": false,
    "pycharm": {
     "name": "#%%\n"
    }
   }
  },
  {
   "cell_type": "code",
   "execution_count": 18,
   "outputs": [
    {
     "data": {
      "text/plain": "HKQuantityTypeIdentifierHeartRate                 174296\nHKQuantityTypeIdentifierBloodPressureSystolic        179\nHKQuantityTypeIdentifierBloodPressureDiastolic       179\nName: type, dtype: int64"
     },
     "execution_count": 18,
     "metadata": {},
     "output_type": "execute_result"
    }
   ],
   "source": [
    "ds['type'].value_counts()"
   ],
   "metadata": {
    "collapsed": false,
    "pycharm": {
     "name": "#%%\n"
    }
   }
  },
  {
   "cell_type": "code",
   "execution_count": 19,
   "outputs": [
    {
     "data": {
      "text/plain": "   value                               type                date\n5   67.0  HKQuantityTypeIdentifierHeartRate 2020-03-30 20:11:49\n6   67.0  HKQuantityTypeIdentifierHeartRate 2020-03-30 20:16:17\n7   61.0  HKQuantityTypeIdentifierHeartRate 2020-03-30 20:21:09\n8   64.0  HKQuantityTypeIdentifierHeartRate 2020-03-30 20:21:13\n9   63.0  HKQuantityTypeIdentifierHeartRate 2020-03-30 20:21:18",
      "text/html": "<div>\n<style scoped>\n    .dataframe tbody tr th:only-of-type {\n        vertical-align: middle;\n    }\n\n    .dataframe tbody tr th {\n        vertical-align: top;\n    }\n\n    .dataframe thead th {\n        text-align: right;\n    }\n</style>\n<table border=\"1\" class=\"dataframe\">\n  <thead>\n    <tr style=\"text-align: right;\">\n      <th></th>\n      <th>value</th>\n      <th>type</th>\n      <th>date</th>\n    </tr>\n  </thead>\n  <tbody>\n    <tr>\n      <th>5</th>\n      <td>67.0</td>\n      <td>HKQuantityTypeIdentifierHeartRate</td>\n      <td>2020-03-30 20:11:49</td>\n    </tr>\n    <tr>\n      <th>6</th>\n      <td>67.0</td>\n      <td>HKQuantityTypeIdentifierHeartRate</td>\n      <td>2020-03-30 20:16:17</td>\n    </tr>\n    <tr>\n      <th>7</th>\n      <td>61.0</td>\n      <td>HKQuantityTypeIdentifierHeartRate</td>\n      <td>2020-03-30 20:21:09</td>\n    </tr>\n    <tr>\n      <th>8</th>\n      <td>64.0</td>\n      <td>HKQuantityTypeIdentifierHeartRate</td>\n      <td>2020-03-30 20:21:13</td>\n    </tr>\n    <tr>\n      <th>9</th>\n      <td>63.0</td>\n      <td>HKQuantityTypeIdentifierHeartRate</td>\n      <td>2020-03-30 20:21:18</td>\n    </tr>\n  </tbody>\n</table>\n</div>"
     },
     "execution_count": 19,
     "metadata": {},
     "output_type": "execute_result"
    }
   ],
   "source": [
    "ds.head()"
   ],
   "metadata": {
    "collapsed": false,
    "pycharm": {
     "name": "#%%\n"
    }
   }
  },
  {
   "cell_type": "code",
   "execution_count": 20,
   "outputs": [
    {
     "data": {
      "text/plain": "        value                                            type  \\\n174654   73.0  HKQuantityTypeIdentifierBloodPressureDiastolic   \n174655   71.0  HKQuantityTypeIdentifierBloodPressureDiastolic   \n174656   73.0  HKQuantityTypeIdentifierBloodPressureDiastolic   \n174657   71.0  HKQuantityTypeIdentifierBloodPressureDiastolic   \n174658   76.0  HKQuantityTypeIdentifierBloodPressureDiastolic   \n\n                      date  \n174654 2021-09-28 21:10:00  \n174655 2021-09-28 21:55:00  \n174656 2021-09-28 21:59:00  \n174657 2021-09-29 20:58:00  \n174658 2021-09-30 00:16:00  ",
      "text/html": "<div>\n<style scoped>\n    .dataframe tbody tr th:only-of-type {\n        vertical-align: middle;\n    }\n\n    .dataframe tbody tr th {\n        vertical-align: top;\n    }\n\n    .dataframe thead th {\n        text-align: right;\n    }\n</style>\n<table border=\"1\" class=\"dataframe\">\n  <thead>\n    <tr style=\"text-align: right;\">\n      <th></th>\n      <th>value</th>\n      <th>type</th>\n      <th>date</th>\n    </tr>\n  </thead>\n  <tbody>\n    <tr>\n      <th>174654</th>\n      <td>73.0</td>\n      <td>HKQuantityTypeIdentifierBloodPressureDiastolic</td>\n      <td>2021-09-28 21:10:00</td>\n    </tr>\n    <tr>\n      <th>174655</th>\n      <td>71.0</td>\n      <td>HKQuantityTypeIdentifierBloodPressureDiastolic</td>\n      <td>2021-09-28 21:55:00</td>\n    </tr>\n    <tr>\n      <th>174656</th>\n      <td>73.0</td>\n      <td>HKQuantityTypeIdentifierBloodPressureDiastolic</td>\n      <td>2021-09-28 21:59:00</td>\n    </tr>\n    <tr>\n      <th>174657</th>\n      <td>71.0</td>\n      <td>HKQuantityTypeIdentifierBloodPressureDiastolic</td>\n      <td>2021-09-29 20:58:00</td>\n    </tr>\n    <tr>\n      <th>174658</th>\n      <td>76.0</td>\n      <td>HKQuantityTypeIdentifierBloodPressureDiastolic</td>\n      <td>2021-09-30 00:16:00</td>\n    </tr>\n  </tbody>\n</table>\n</div>"
     },
     "execution_count": 20,
     "metadata": {},
     "output_type": "execute_result"
    }
   ],
   "source": [
    "ds.tail()"
   ],
   "metadata": {
    "collapsed": false,
    "pycharm": {
     "name": "#%%\n"
    }
   }
  },
  {
   "cell_type": "markdown",
   "source": [
    "### Create a dataset of blood pressure records"
   ],
   "metadata": {
    "collapsed": false
   }
  },
  {
   "cell_type": "code",
   "execution_count": 21,
   "outputs": [
    {
     "name": "stdout",
     "output_type": "stream",
     "text": [
      "<class 'pandas.core.frame.DataFrame'>\n",
      "Int64Index: 179 entries, 174480 to 174658\n",
      "Data columns (total 2 columns):\n",
      " #   Column     Non-Null Count  Dtype         \n",
      "---  ------     --------------  -----         \n",
      " 0   date       179 non-null    datetime64[ns]\n",
      " 1   diastolic  179 non-null    float64       \n",
      "dtypes: datetime64[ns](1), float64(1)\n",
      "memory usage: 4.2 KB\n"
     ]
    }
   ],
   "source": [
    "bp_diastolic = ds['type'] == 'HKQuantityTypeIdentifierBloodPressureDiastolic'\n",
    "dds = ds.loc[bp_diastolic, ['date', 'value']]\n",
    "dds = dds.rename(columns={'value': 'diastolic'})\n",
    "dds.info()"
   ],
   "metadata": {
    "collapsed": false,
    "pycharm": {
     "name": "#%%\n"
    }
   }
  },
  {
   "cell_type": "code",
   "execution_count": 22,
   "outputs": [
    {
     "data": {
      "text/plain": "                      date  diastolic\n174480 2021-08-06 20:53:00       79.0\n174481 2021-08-06 20:58:00       85.0\n174482 2021-08-06 23:13:00       77.0\n174483 2021-08-07 01:14:00       73.0\n174484 2021-08-07 22:21:00       71.0",
      "text/html": "<div>\n<style scoped>\n    .dataframe tbody tr th:only-of-type {\n        vertical-align: middle;\n    }\n\n    .dataframe tbody tr th {\n        vertical-align: top;\n    }\n\n    .dataframe thead th {\n        text-align: right;\n    }\n</style>\n<table border=\"1\" class=\"dataframe\">\n  <thead>\n    <tr style=\"text-align: right;\">\n      <th></th>\n      <th>date</th>\n      <th>diastolic</th>\n    </tr>\n  </thead>\n  <tbody>\n    <tr>\n      <th>174480</th>\n      <td>2021-08-06 20:53:00</td>\n      <td>79.0</td>\n    </tr>\n    <tr>\n      <th>174481</th>\n      <td>2021-08-06 20:58:00</td>\n      <td>85.0</td>\n    </tr>\n    <tr>\n      <th>174482</th>\n      <td>2021-08-06 23:13:00</td>\n      <td>77.0</td>\n    </tr>\n    <tr>\n      <th>174483</th>\n      <td>2021-08-07 01:14:00</td>\n      <td>73.0</td>\n    </tr>\n    <tr>\n      <th>174484</th>\n      <td>2021-08-07 22:21:00</td>\n      <td>71.0</td>\n    </tr>\n  </tbody>\n</table>\n</div>"
     },
     "execution_count": 22,
     "metadata": {},
     "output_type": "execute_result"
    }
   ],
   "source": [
    "dds.head()"
   ],
   "metadata": {
    "collapsed": false,
    "pycharm": {
     "name": "#%%\n"
    }
   }
  },
  {
   "cell_type": "code",
   "execution_count": 23,
   "outputs": [
    {
     "name": "stdout",
     "output_type": "stream",
     "text": [
      "<class 'pandas.core.frame.DataFrame'>\n",
      "Int64Index: 179 entries, 174301 to 174479\n",
      "Data columns (total 2 columns):\n",
      " #   Column    Non-Null Count  Dtype         \n",
      "---  ------    --------------  -----         \n",
      " 0   date      179 non-null    datetime64[ns]\n",
      " 1   systolic  179 non-null    float64       \n",
      "dtypes: datetime64[ns](1), float64(1)\n",
      "memory usage: 4.2 KB\n"
     ]
    }
   ],
   "source": [
    "bp_systolic = ds['type'] == 'HKQuantityTypeIdentifierBloodPressureSystolic'\n",
    "sds = ds.loc[bp_systolic, ['date', 'value']]\n",
    "sds = sds.rename(columns={'value': 'systolic'})\n",
    "sds.info()"
   ],
   "metadata": {
    "collapsed": false,
    "pycharm": {
     "name": "#%%\n"
    }
   }
  },
  {
   "cell_type": "code",
   "execution_count": 24,
   "outputs": [
    {
     "data": {
      "text/plain": "                      date  systolic\n174301 2021-08-06 20:53:00     153.0\n174302 2021-08-06 20:58:00     136.0\n174303 2021-08-06 23:13:00     135.0\n174304 2021-08-07 01:14:00     121.0\n174305 2021-08-07 22:21:00     132.0",
      "text/html": "<div>\n<style scoped>\n    .dataframe tbody tr th:only-of-type {\n        vertical-align: middle;\n    }\n\n    .dataframe tbody tr th {\n        vertical-align: top;\n    }\n\n    .dataframe thead th {\n        text-align: right;\n    }\n</style>\n<table border=\"1\" class=\"dataframe\">\n  <thead>\n    <tr style=\"text-align: right;\">\n      <th></th>\n      <th>date</th>\n      <th>systolic</th>\n    </tr>\n  </thead>\n  <tbody>\n    <tr>\n      <th>174301</th>\n      <td>2021-08-06 20:53:00</td>\n      <td>153.0</td>\n    </tr>\n    <tr>\n      <th>174302</th>\n      <td>2021-08-06 20:58:00</td>\n      <td>136.0</td>\n    </tr>\n    <tr>\n      <th>174303</th>\n      <td>2021-08-06 23:13:00</td>\n      <td>135.0</td>\n    </tr>\n    <tr>\n      <th>174304</th>\n      <td>2021-08-07 01:14:00</td>\n      <td>121.0</td>\n    </tr>\n    <tr>\n      <th>174305</th>\n      <td>2021-08-07 22:21:00</td>\n      <td>132.0</td>\n    </tr>\n  </tbody>\n</table>\n</div>"
     },
     "execution_count": 24,
     "metadata": {},
     "output_type": "execute_result"
    }
   ],
   "source": [
    "sds.head()"
   ],
   "metadata": {
    "collapsed": false,
    "pycharm": {
     "name": "#%%\n"
    }
   }
  },
  {
   "cell_type": "code",
   "execution_count": 25,
   "outputs": [
    {
     "name": "stdout",
     "output_type": "stream",
     "text": [
      "<class 'pandas.core.frame.DataFrame'>\n",
      "Int64Index: 179 entries, 0 to 178\n",
      "Data columns (total 3 columns):\n",
      " #   Column     Non-Null Count  Dtype         \n",
      "---  ------     --------------  -----         \n",
      " 0   date       179 non-null    datetime64[ns]\n",
      " 1   systolic   179 non-null    float64       \n",
      " 2   diastolic  179 non-null    float64       \n",
      "dtypes: datetime64[ns](1), float64(2)\n",
      "memory usage: 5.6 KB\n"
     ]
    }
   ],
   "source": [
    "bpds = sds.merge(dds, left_on=['date'], right_on=['date'])\n",
    "bpds.info()"
   ],
   "metadata": {
    "collapsed": false,
    "pycharm": {
     "name": "#%%\n"
    }
   }
  },
  {
   "cell_type": "code",
   "execution_count": 26,
   "outputs": [
    {
     "data": {
      "text/plain": "                 date  systolic  diastolic\n0 2021-08-06 20:53:00     153.0       79.0\n1 2021-08-06 20:58:00     136.0       85.0\n2 2021-08-06 23:13:00     135.0       77.0\n3 2021-08-07 01:14:00     121.0       73.0\n4 2021-08-07 22:21:00     132.0       71.0",
      "text/html": "<div>\n<style scoped>\n    .dataframe tbody tr th:only-of-type {\n        vertical-align: middle;\n    }\n\n    .dataframe tbody tr th {\n        vertical-align: top;\n    }\n\n    .dataframe thead th {\n        text-align: right;\n    }\n</style>\n<table border=\"1\" class=\"dataframe\">\n  <thead>\n    <tr style=\"text-align: right;\">\n      <th></th>\n      <th>date</th>\n      <th>systolic</th>\n      <th>diastolic</th>\n    </tr>\n  </thead>\n  <tbody>\n    <tr>\n      <th>0</th>\n      <td>2021-08-06 20:53:00</td>\n      <td>153.0</td>\n      <td>79.0</td>\n    </tr>\n    <tr>\n      <th>1</th>\n      <td>2021-08-06 20:58:00</td>\n      <td>136.0</td>\n      <td>85.0</td>\n    </tr>\n    <tr>\n      <th>2</th>\n      <td>2021-08-06 23:13:00</td>\n      <td>135.0</td>\n      <td>77.0</td>\n    </tr>\n    <tr>\n      <th>3</th>\n      <td>2021-08-07 01:14:00</td>\n      <td>121.0</td>\n      <td>73.0</td>\n    </tr>\n    <tr>\n      <th>4</th>\n      <td>2021-08-07 22:21:00</td>\n      <td>132.0</td>\n      <td>71.0</td>\n    </tr>\n  </tbody>\n</table>\n</div>"
     },
     "execution_count": 26,
     "metadata": {},
     "output_type": "execute_result"
    }
   ],
   "source": [
    "bpds.head()"
   ],
   "metadata": {
    "collapsed": false,
    "pycharm": {
     "name": "#%%\n"
    }
   }
  },
  {
   "cell_type": "code",
   "execution_count": 27,
   "outputs": [
    {
     "name": "stdout",
     "output_type": "stream",
     "text": [
      "<class 'pandas.core.frame.DataFrame'>\n",
      "Int64Index: 179 entries, 0 to 178\n",
      "Data columns (total 4 columns):\n",
      " #   Column          Non-Null Count  Dtype         \n",
      "---  ------          --------------  -----         \n",
      " 0   date            179 non-null    datetime64[ns]\n",
      " 1   systolic        179 non-null    float64       \n",
      " 2   diastolic       179 non-null    float64       \n",
      " 3   pulse_pressure  179 non-null    float64       \n",
      "dtypes: datetime64[ns](1), float64(3)\n",
      "memory usage: 7.0 KB\n"
     ]
    }
   ],
   "source": [
    "bpds['pulse_pressure'] = bpds['systolic'] - bpds['diastolic']\n",
    "bpds.info()"
   ],
   "metadata": {
    "collapsed": false,
    "pycharm": {
     "name": "#%%\n"
    }
   }
  },
  {
   "cell_type": "code",
   "execution_count": 28,
   "outputs": [
    {
     "data": {
      "text/plain": "                 date  systolic  diastolic  pulse_pressure\n0 2021-08-06 20:53:00     153.0       79.0            74.0\n1 2021-08-06 20:58:00     136.0       85.0            51.0\n2 2021-08-06 23:13:00     135.0       77.0            58.0\n3 2021-08-07 01:14:00     121.0       73.0            48.0\n4 2021-08-07 22:21:00     132.0       71.0            61.0",
      "text/html": "<div>\n<style scoped>\n    .dataframe tbody tr th:only-of-type {\n        vertical-align: middle;\n    }\n\n    .dataframe tbody tr th {\n        vertical-align: top;\n    }\n\n    .dataframe thead th {\n        text-align: right;\n    }\n</style>\n<table border=\"1\" class=\"dataframe\">\n  <thead>\n    <tr style=\"text-align: right;\">\n      <th></th>\n      <th>date</th>\n      <th>systolic</th>\n      <th>diastolic</th>\n      <th>pulse_pressure</th>\n    </tr>\n  </thead>\n  <tbody>\n    <tr>\n      <th>0</th>\n      <td>2021-08-06 20:53:00</td>\n      <td>153.0</td>\n      <td>79.0</td>\n      <td>74.0</td>\n    </tr>\n    <tr>\n      <th>1</th>\n      <td>2021-08-06 20:58:00</td>\n      <td>136.0</td>\n      <td>85.0</td>\n      <td>51.0</td>\n    </tr>\n    <tr>\n      <th>2</th>\n      <td>2021-08-06 23:13:00</td>\n      <td>135.0</td>\n      <td>77.0</td>\n      <td>58.0</td>\n    </tr>\n    <tr>\n      <th>3</th>\n      <td>2021-08-07 01:14:00</td>\n      <td>121.0</td>\n      <td>73.0</td>\n      <td>48.0</td>\n    </tr>\n    <tr>\n      <th>4</th>\n      <td>2021-08-07 22:21:00</td>\n      <td>132.0</td>\n      <td>71.0</td>\n      <td>61.0</td>\n    </tr>\n  </tbody>\n</table>\n</div>"
     },
     "execution_count": 28,
     "metadata": {},
     "output_type": "execute_result"
    }
   ],
   "source": [
    "bpds.head()"
   ],
   "metadata": {
    "collapsed": false,
    "pycharm": {
     "name": "#%%\n"
    }
   }
  },
  {
   "cell_type": "code",
   "execution_count": 29,
   "outputs": [],
   "source": [
    "ds.to_pickle(blood_pressure_df_pickle)"
   ],
   "metadata": {
    "collapsed": false,
    "pycharm": {
     "name": "#%%\n"
    }
   }
  },
  {
   "cell_type": "markdown",
   "source": [
    "## Group by varying periods using [resample](https://pandas.pydata.org/pandas-docs/stable/reference/api/pandas.core.groupby.DataFrameGroupBy.resample.html?highlight=resample#pandas.core.groupby.DataFrameGroupBy.resample)\n",
    "#### Create a DatetimeIndex"
   ],
   "metadata": {
    "collapsed": false
   }
  },
  {
   "cell_type": "code",
   "execution_count": 30,
   "outputs": [
    {
     "data": {
      "text/plain": "                 date  systolic  diastolic  pulse_pressure\n0 2021-08-06 20:53:00     153.0       79.0            74.0\n1 2021-08-06 20:58:00     136.0       85.0            51.0\n2 2021-08-06 23:13:00     135.0       77.0            58.0\n3 2021-08-07 01:14:00     121.0       73.0            48.0\n4 2021-08-07 22:21:00     132.0       71.0            61.0",
      "text/html": "<div>\n<style scoped>\n    .dataframe tbody tr th:only-of-type {\n        vertical-align: middle;\n    }\n\n    .dataframe tbody tr th {\n        vertical-align: top;\n    }\n\n    .dataframe thead th {\n        text-align: right;\n    }\n</style>\n<table border=\"1\" class=\"dataframe\">\n  <thead>\n    <tr style=\"text-align: right;\">\n      <th></th>\n      <th>date</th>\n      <th>systolic</th>\n      <th>diastolic</th>\n      <th>pulse_pressure</th>\n    </tr>\n  </thead>\n  <tbody>\n    <tr>\n      <th>0</th>\n      <td>2021-08-06 20:53:00</td>\n      <td>153.0</td>\n      <td>79.0</td>\n      <td>74.0</td>\n    </tr>\n    <tr>\n      <th>1</th>\n      <td>2021-08-06 20:58:00</td>\n      <td>136.0</td>\n      <td>85.0</td>\n      <td>51.0</td>\n    </tr>\n    <tr>\n      <th>2</th>\n      <td>2021-08-06 23:13:00</td>\n      <td>135.0</td>\n      <td>77.0</td>\n      <td>58.0</td>\n    </tr>\n    <tr>\n      <th>3</th>\n      <td>2021-08-07 01:14:00</td>\n      <td>121.0</td>\n      <td>73.0</td>\n      <td>48.0</td>\n    </tr>\n    <tr>\n      <th>4</th>\n      <td>2021-08-07 22:21:00</td>\n      <td>132.0</td>\n      <td>71.0</td>\n      <td>61.0</td>\n    </tr>\n  </tbody>\n</table>\n</div>"
     },
     "execution_count": 30,
     "metadata": {},
     "output_type": "execute_result"
    }
   ],
   "source": [
    "bpds.head()"
   ],
   "metadata": {
    "collapsed": false,
    "pycharm": {
     "name": "#%%\n"
    }
   }
  },
  {
   "cell_type": "code",
   "execution_count": 31,
   "outputs": [
    {
     "data": {
      "text/plain": "                     systolic  diastolic  pulse_pressure\ndate                                                    \n2021-08-06 20:53:00     153.0       79.0            74.0\n2021-08-06 20:58:00     136.0       85.0            51.0\n2021-08-06 23:13:00     135.0       77.0            58.0\n2021-08-07 01:14:00     121.0       73.0            48.0\n2021-08-07 22:21:00     132.0       71.0            61.0",
      "text/html": "<div>\n<style scoped>\n    .dataframe tbody tr th:only-of-type {\n        vertical-align: middle;\n    }\n\n    .dataframe tbody tr th {\n        vertical-align: top;\n    }\n\n    .dataframe thead th {\n        text-align: right;\n    }\n</style>\n<table border=\"1\" class=\"dataframe\">\n  <thead>\n    <tr style=\"text-align: right;\">\n      <th></th>\n      <th>systolic</th>\n      <th>diastolic</th>\n      <th>pulse_pressure</th>\n    </tr>\n    <tr>\n      <th>date</th>\n      <th></th>\n      <th></th>\n      <th></th>\n    </tr>\n  </thead>\n  <tbody>\n    <tr>\n      <th>2021-08-06 20:53:00</th>\n      <td>153.0</td>\n      <td>79.0</td>\n      <td>74.0</td>\n    </tr>\n    <tr>\n      <th>2021-08-06 20:58:00</th>\n      <td>136.0</td>\n      <td>85.0</td>\n      <td>51.0</td>\n    </tr>\n    <tr>\n      <th>2021-08-06 23:13:00</th>\n      <td>135.0</td>\n      <td>77.0</td>\n      <td>58.0</td>\n    </tr>\n    <tr>\n      <th>2021-08-07 01:14:00</th>\n      <td>121.0</td>\n      <td>73.0</td>\n      <td>48.0</td>\n    </tr>\n    <tr>\n      <th>2021-08-07 22:21:00</th>\n      <td>132.0</td>\n      <td>71.0</td>\n      <td>61.0</td>\n    </tr>\n  </tbody>\n</table>\n</div>"
     },
     "execution_count": 31,
     "metadata": {},
     "output_type": "execute_result"
    }
   ],
   "source": [
    "bpdsi = bpds.set_index('date')\n",
    "bpdsi.head()"
   ],
   "metadata": {
    "collapsed": false,
    "pycharm": {
     "name": "#%%\n"
    }
   }
  },
  {
   "cell_type": "code",
   "execution_count": 32,
   "outputs": [
    {
     "data": {
      "text/plain": "              systolic  diastolic  pulse_pressure\ndate                                             \n2021-08-06  141.333333  80.333333           61.00\n2021-08-07  125.400000  73.000000           52.40\n2021-08-08  128.875000  75.625000           53.25\n2021-08-09  126.500000  78.000000           48.50\n2021-08-10  122.000000  75.000000           47.00",
      "text/html": "<div>\n<style scoped>\n    .dataframe tbody tr th:only-of-type {\n        vertical-align: middle;\n    }\n\n    .dataframe tbody tr th {\n        vertical-align: top;\n    }\n\n    .dataframe thead th {\n        text-align: right;\n    }\n</style>\n<table border=\"1\" class=\"dataframe\">\n  <thead>\n    <tr style=\"text-align: right;\">\n      <th></th>\n      <th>systolic</th>\n      <th>diastolic</th>\n      <th>pulse_pressure</th>\n    </tr>\n    <tr>\n      <th>date</th>\n      <th></th>\n      <th></th>\n      <th></th>\n    </tr>\n  </thead>\n  <tbody>\n    <tr>\n      <th>2021-08-06</th>\n      <td>141.333333</td>\n      <td>80.333333</td>\n      <td>61.00</td>\n    </tr>\n    <tr>\n      <th>2021-08-07</th>\n      <td>125.400000</td>\n      <td>73.000000</td>\n      <td>52.40</td>\n    </tr>\n    <tr>\n      <th>2021-08-08</th>\n      <td>128.875000</td>\n      <td>75.625000</td>\n      <td>53.25</td>\n    </tr>\n    <tr>\n      <th>2021-08-09</th>\n      <td>126.500000</td>\n      <td>78.000000</td>\n      <td>48.50</td>\n    </tr>\n    <tr>\n      <th>2021-08-10</th>\n      <td>122.000000</td>\n      <td>75.000000</td>\n      <td>47.00</td>\n    </tr>\n  </tbody>\n</table>\n</div>"
     },
     "execution_count": 32,
     "metadata": {},
     "output_type": "execute_result"
    }
   ],
   "source": [
    "bpdsi_day = bpdsi.resample('D').mean()\n",
    "bpdsi_day.head()"
   ],
   "metadata": {
    "collapsed": false,
    "pycharm": {
     "name": "#%%\n"
    }
   }
  },
  {
   "cell_type": "code",
   "execution_count": 33,
   "outputs": [
    {
     "data": {
      "text/plain": "<AxesSubplot:xlabel='date'>"
     },
     "execution_count": 33,
     "metadata": {},
     "output_type": "execute_result"
    },
    {
     "data": {
      "text/plain": "<Figure size 1080x432 with 1 Axes>",
      "image/png": "[encoded data removed]"
     },
     "metadata": {},
     "output_type": "display_data"
    }
   ],
   "source": [
    "fig, axes_ = pyplot.subplots(figsize=(15, 6))\n",
    "plot = seaborn.lineplot(data=bpdsi_day, palette='tab10', linewidth=1.5, ax=axes_)\n",
    "plot.legend(labels=['systolic', 'diastolic', 'pulse pressure'], title='Daily means')\n",
    "plot"
   ],
   "metadata": {
    "collapsed": false,
    "pycharm": {
     "name": "#%%\n"
    }
   }
  },
  {
   "cell_type": "code",
   "execution_count": 34,
   "outputs": [],
   "source": [
    "fig.savefig(blood_pressure_jpg)\n",
    "fig.savefig(blood_pressure_pdf)"
   ],
   "metadata": {
    "collapsed": false,
    "pycharm": {
     "name": "#%%\n"
    }
   }
  },
  {
   "cell_type": "markdown",
   "source": [
    "# TODO\n",
    "Drop the max min band on this chart. Replace it with a spearate plot of a systolic scatter chart by day.\n",
    "Keep a future eye out of how to fix the weird 'max min' legend which ought to be a block of light blue."
   ],
   "metadata": {
    "collapsed": false
   }
  },
  {
   "cell_type": "markdown",
   "source": [],
   "metadata": {
    "collapsed": false
   }
  }
 ],
 "metadata": {
  "kernelspec": {
   "display_name": "Python 3",
   "language": "python",
   "name": "python3"
  },
  "language_info": {
   "codemirror_mode": {
    "name": "ipython",
    "version": 2
   },
   "file_extension": ".py",
   "mimetype": "text/x-python",
   "name": "python",
   "nbconvert_exporter": "python",
   "pygments_lexer": "ipython2",
   "version": "2.7.6"
  }
 },
 "nbformat": 4,
 "nbformat_minor": 0
}