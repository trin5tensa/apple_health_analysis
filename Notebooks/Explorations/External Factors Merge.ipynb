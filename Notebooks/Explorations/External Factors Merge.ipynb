{
 "cells": [
  {
   "cell_type": "markdown",
   "metadata": {
    "collapsed": true,
    "pycharm": {
     "name": "#%% md\n"
    }
   },
   "source": [
    "# External Factors Merge"
   ]
  },
  {
   "cell_type": "markdown",
   "source": [
    "Copyright ©2021-2022. Stephen Rigden. This program is free software: you can redistribute it and/or modify it under the terms of the GNU General Public License as published by the Free Software Foundation, either version 3 of the License, or (at your option) any later version. This program is distributed in the hope that it will be useful, but WITHOUT ANY WARRANTY; without even the implied warranty of MERCHANTABILITY or FITNESS FOR A PARTICULAR PURPOSE. See the GNU General Public License for more details. You should have received a copy of the GNU General Public License along with this program. If not, see http://www.gnu.org/licenses/."
   ],
   "metadata": {
    "collapsed": false
   }
  },
  {
   "cell_type": "code",
   "execution_count": 65,
   "outputs": [],
   "source": [
    "import pandas\n",
    "from pathlib import Path\n",
    "\n",
    "import utilities"
   ],
   "metadata": {
    "collapsed": false,
    "pycharm": {
     "name": "#%%\n"
    }
   }
  },
  {
   "cell_type": "code",
   "execution_count": 66,
   "outputs": [],
   "source": [
    "# Set file paths\n",
    "project_path = Path.cwd().parent.parent\n",
    "extra_data_pickle = project_path / 'data' / 'processed' / 'extra_data_preprocessed.pickle'\n",
    "heart_data_pickle = project_path / 'data' / 'processed' / 'heart_preprocessed.pickle'\n",
    "heart_and_externals_pickle = project_path / 'data' / 'processed' / 'heart_and_externals.pickle'"
   ],
   "metadata": {
    "collapsed": false,
    "pycharm": {
     "name": "#%%\n"
    }
   }
  },
  {
   "cell_type": "markdown",
   "source": [
    "### Load and view the data"
   ],
   "metadata": {
    "collapsed": false,
    "pycharm": {
     "name": "#%% md\n"
    }
   }
  },
  {
   "cell_type": "code",
   "execution_count": 67,
   "outputs": [],
   "source": [
    "hds = pandas.read_pickle(heart_data_pickle)\n",
    "eds = pandas.read_pickle(extra_data_pickle)"
   ],
   "metadata": {
    "collapsed": false,
    "pycharm": {
     "name": "#%%\n"
    }
   }
  },
  {
   "cell_type": "code",
   "execution_count": 68,
   "outputs": [
    {
     "name": "stdout",
     "output_type": "stream",
     "text": [
      "<class 'pandas.core.frame.DataFrame'>\n",
      "Int64Index: 179803 entries, 5 to 179807\n",
      "Data columns (total 3 columns):\n",
      " #   Column  Non-Null Count   Dtype         \n",
      "---  ------  --------------   -----         \n",
      " 0   value   179803 non-null  float64       \n",
      " 1   type    179803 non-null  object        \n",
      " 2   date    179803 non-null  datetime64[ns]\n",
      "dtypes: datetime64[ns](1), float64(1), object(1)\n",
      "memory usage: 5.5+ MB\n"
     ]
    }
   ],
   "source": [
    "hds.info()"
   ],
   "metadata": {
    "collapsed": false,
    "pycharm": {
     "name": "#%%\n"
    }
   }
  },
  {
   "cell_type": "code",
   "execution_count": 69,
   "outputs": [
    {
     "data": {
      "text/plain": "   value                               type                date\n5   67.0  HKQuantityTypeIdentifierHeartRate 2020-03-30 20:11:49\n6   67.0  HKQuantityTypeIdentifierHeartRate 2020-03-30 20:16:17\n7   61.0  HKQuantityTypeIdentifierHeartRate 2020-03-30 20:21:09\n8   64.0  HKQuantityTypeIdentifierHeartRate 2020-03-30 20:21:13\n9   63.0  HKQuantityTypeIdentifierHeartRate 2020-03-30 20:21:18",
      "text/html": "<div>\n<style scoped>\n    .dataframe tbody tr th:only-of-type {\n        vertical-align: middle;\n    }\n\n    .dataframe tbody tr th {\n        vertical-align: top;\n    }\n\n    .dataframe thead th {\n        text-align: right;\n    }\n</style>\n<table border=\"1\" class=\"dataframe\">\n  <thead>\n    <tr style=\"text-align: right;\">\n      <th></th>\n      <th>value</th>\n      <th>type</th>\n      <th>date</th>\n    </tr>\n  </thead>\n  <tbody>\n    <tr>\n      <th>5</th>\n      <td>67.0</td>\n      <td>HKQuantityTypeIdentifierHeartRate</td>\n      <td>2020-03-30 20:11:49</td>\n    </tr>\n    <tr>\n      <th>6</th>\n      <td>67.0</td>\n      <td>HKQuantityTypeIdentifierHeartRate</td>\n      <td>2020-03-30 20:16:17</td>\n    </tr>\n    <tr>\n      <th>7</th>\n      <td>61.0</td>\n      <td>HKQuantityTypeIdentifierHeartRate</td>\n      <td>2020-03-30 20:21:09</td>\n    </tr>\n    <tr>\n      <th>8</th>\n      <td>64.0</td>\n      <td>HKQuantityTypeIdentifierHeartRate</td>\n      <td>2020-03-30 20:21:13</td>\n    </tr>\n    <tr>\n      <th>9</th>\n      <td>63.0</td>\n      <td>HKQuantityTypeIdentifierHeartRate</td>\n      <td>2020-03-30 20:21:18</td>\n    </tr>\n  </tbody>\n</table>\n</div>"
     },
     "execution_count": 69,
     "metadata": {},
     "output_type": "execute_result"
    }
   ],
   "source": [
    "hds.head()"
   ],
   "metadata": {
    "collapsed": false,
    "pycharm": {
     "name": "#%%\n"
    }
   }
  },
  {
   "cell_type": "code",
   "execution_count": 70,
   "outputs": [
    {
     "name": "stdout",
     "output_type": "stream",
     "text": [
      "<class 'pandas.core.frame.DataFrame'>\n",
      "RangeIndex: 28 entries, 0 to 27\n",
      "Data columns (total 4 columns):\n",
      " #   Column      Non-Null Count  Dtype         \n",
      "---  ------      --------------  -----         \n",
      " 0   date        28 non-null     datetime64[ns]\n",
      " 1   metoprolol  28 non-null     Int64         \n",
      " 2   alcohol     28 non-null     Int64         \n",
      " 3   notes       28 non-null     object        \n",
      "dtypes: Int64(2), datetime64[ns](1), object(1)\n",
      "memory usage: 1.1+ KB\n"
     ]
    }
   ],
   "source": [
    "eds.info()"
   ],
   "metadata": {
    "collapsed": false,
    "pycharm": {
     "name": "#%%\n"
    }
   }
  },
  {
   "cell_type": "code",
   "execution_count": 71,
   "outputs": [
    {
     "data": {
      "text/plain": "        date  metoprolol  alcohol notes\n0 2021-12-01           2        0      \n1 2021-12-02           2      177      \n2 2021-12-03           2        0      \n3 2021-12-04           2        0      \n4 2021-12-05           2       30      ",
      "text/html": "<div>\n<style scoped>\n    .dataframe tbody tr th:only-of-type {\n        vertical-align: middle;\n    }\n\n    .dataframe tbody tr th {\n        vertical-align: top;\n    }\n\n    .dataframe thead th {\n        text-align: right;\n    }\n</style>\n<table border=\"1\" class=\"dataframe\">\n  <thead>\n    <tr style=\"text-align: right;\">\n      <th></th>\n      <th>date</th>\n      <th>metoprolol</th>\n      <th>alcohol</th>\n      <th>notes</th>\n    </tr>\n  </thead>\n  <tbody>\n    <tr>\n      <th>0</th>\n      <td>2021-12-01</td>\n      <td>2</td>\n      <td>0</td>\n      <td></td>\n    </tr>\n    <tr>\n      <th>1</th>\n      <td>2021-12-02</td>\n      <td>2</td>\n      <td>177</td>\n      <td></td>\n    </tr>\n    <tr>\n      <th>2</th>\n      <td>2021-12-03</td>\n      <td>2</td>\n      <td>0</td>\n      <td></td>\n    </tr>\n    <tr>\n      <th>3</th>\n      <td>2021-12-04</td>\n      <td>2</td>\n      <td>0</td>\n      <td></td>\n    </tr>\n    <tr>\n      <th>4</th>\n      <td>2021-12-05</td>\n      <td>2</td>\n      <td>30</td>\n      <td></td>\n    </tr>\n  </tbody>\n</table>\n</div>"
     },
     "execution_count": 71,
     "metadata": {},
     "output_type": "execute_result"
    }
   ],
   "source": [
    "eds.head()"
   ],
   "metadata": {
    "collapsed": false,
    "pycharm": {
     "name": "#%%\n"
    }
   }
  },
  {
   "cell_type": "markdown",
   "source": [
    "### Extract blood pressure data and merge with extra data file"
   ],
   "metadata": {
    "collapsed": false
   }
  },
  {
   "cell_type": "code",
   "execution_count": 72,
   "outputs": [
    {
     "name": "stdout",
     "output_type": "stream",
     "text": [
      "<class 'pandas.core.frame.DataFrame'>\n",
      "Int64Index: 480 entries, 0 to 479\n",
      "Data columns (total 4 columns):\n",
      " #   Column          Non-Null Count  Dtype         \n",
      "---  ------          --------------  -----         \n",
      " 0   date            480 non-null    datetime64[ns]\n",
      " 1   systolic        480 non-null    float64       \n",
      " 2   diastolic       480 non-null    float64       \n",
      " 3   pulse pressure  480 non-null    float64       \n",
      "dtypes: datetime64[ns](1), float64(3)\n",
      "memory usage: 18.8 KB\n"
     ]
    }
   ],
   "source": [
    "bpds = utilities.create_blood_pressure_dataset(hds)\n",
    "bpds.info()"
   ],
   "metadata": {
    "collapsed": false,
    "pycharm": {
     "name": "#%%\n"
    }
   }
  },
  {
   "cell_type": "code",
   "execution_count": 73,
   "outputs": [
    {
     "data": {
      "text/plain": "                 date  systolic  diastolic  pulse pressure\n0 2021-08-06 20:53:00     153.0       79.0            74.0\n1 2021-08-06 20:58:00     136.0       85.0            51.0\n2 2021-08-06 23:13:00     135.0       77.0            58.0\n3 2021-08-07 01:14:00     121.0       73.0            48.0\n4 2021-08-07 22:21:00     132.0       71.0            61.0",
      "text/html": "<div>\n<style scoped>\n    .dataframe tbody tr th:only-of-type {\n        vertical-align: middle;\n    }\n\n    .dataframe tbody tr th {\n        vertical-align: top;\n    }\n\n    .dataframe thead th {\n        text-align: right;\n    }\n</style>\n<table border=\"1\" class=\"dataframe\">\n  <thead>\n    <tr style=\"text-align: right;\">\n      <th></th>\n      <th>date</th>\n      <th>systolic</th>\n      <th>diastolic</th>\n      <th>pulse pressure</th>\n    </tr>\n  </thead>\n  <tbody>\n    <tr>\n      <th>0</th>\n      <td>2021-08-06 20:53:00</td>\n      <td>153.0</td>\n      <td>79.0</td>\n      <td>74.0</td>\n    </tr>\n    <tr>\n      <th>1</th>\n      <td>2021-08-06 20:58:00</td>\n      <td>136.0</td>\n      <td>85.0</td>\n      <td>51.0</td>\n    </tr>\n    <tr>\n      <th>2</th>\n      <td>2021-08-06 23:13:00</td>\n      <td>135.0</td>\n      <td>77.0</td>\n      <td>58.0</td>\n    </tr>\n    <tr>\n      <th>3</th>\n      <td>2021-08-07 01:14:00</td>\n      <td>121.0</td>\n      <td>73.0</td>\n      <td>48.0</td>\n    </tr>\n    <tr>\n      <th>4</th>\n      <td>2021-08-07 22:21:00</td>\n      <td>132.0</td>\n      <td>71.0</td>\n      <td>61.0</td>\n    </tr>\n  </tbody>\n</table>\n</div>"
     },
     "execution_count": 73,
     "metadata": {},
     "output_type": "execute_result"
    }
   ],
   "source": [
    "bpds.head()"
   ],
   "metadata": {
    "collapsed": false,
    "pycharm": {
     "name": "#%%\n"
    }
   }
  },
  {
   "cell_type": "code",
   "execution_count": 74,
   "outputs": [
    {
     "name": "stdout",
     "output_type": "stream",
     "text": [
      "<class 'pandas.core.frame.DataFrame'>\n",
      "Int64Index: 480 entries, 0 to 479\n",
      "Data columns (total 5 columns):\n",
      " #   Column          Non-Null Count  Dtype         \n",
      "---  ------          --------------  -----         \n",
      " 0   date            480 non-null    datetime64[ns]\n",
      " 1   systolic        480 non-null    float64       \n",
      " 2   diastolic       480 non-null    float64       \n",
      " 3   pulse pressure  480 non-null    float64       \n",
      " 4   day             480 non-null    datetime64[ns]\n",
      "dtypes: datetime64[ns](2), float64(3)\n",
      "memory usage: 22.5 KB\n"
     ]
    }
   ],
   "source": [
    "bpds['day'] = bpds['date'].dt.date.astype('datetime64[ns]')\n",
    "bpds.info()"
   ],
   "metadata": {
    "collapsed": false,
    "pycharm": {
     "name": "#%%\n"
    }
   }
  },
  {
   "cell_type": "code",
   "execution_count": 75,
   "outputs": [
    {
     "data": {
      "text/plain": "                 date  systolic  diastolic  pulse pressure        day\n0 2021-08-06 20:53:00     153.0       79.0            74.0 2021-08-06\n1 2021-08-06 20:58:00     136.0       85.0            51.0 2021-08-06\n2 2021-08-06 23:13:00     135.0       77.0            58.0 2021-08-06\n3 2021-08-07 01:14:00     121.0       73.0            48.0 2021-08-07\n4 2021-08-07 22:21:00     132.0       71.0            61.0 2021-08-07",
      "text/html": "<div>\n<style scoped>\n    .dataframe tbody tr th:only-of-type {\n        vertical-align: middle;\n    }\n\n    .dataframe tbody tr th {\n        vertical-align: top;\n    }\n\n    .dataframe thead th {\n        text-align: right;\n    }\n</style>\n<table border=\"1\" class=\"dataframe\">\n  <thead>\n    <tr style=\"text-align: right;\">\n      <th></th>\n      <th>date</th>\n      <th>systolic</th>\n      <th>diastolic</th>\n      <th>pulse pressure</th>\n      <th>day</th>\n    </tr>\n  </thead>\n  <tbody>\n    <tr>\n      <th>0</th>\n      <td>2021-08-06 20:53:00</td>\n      <td>153.0</td>\n      <td>79.0</td>\n      <td>74.0</td>\n      <td>2021-08-06</td>\n    </tr>\n    <tr>\n      <th>1</th>\n      <td>2021-08-06 20:58:00</td>\n      <td>136.0</td>\n      <td>85.0</td>\n      <td>51.0</td>\n      <td>2021-08-06</td>\n    </tr>\n    <tr>\n      <th>2</th>\n      <td>2021-08-06 23:13:00</td>\n      <td>135.0</td>\n      <td>77.0</td>\n      <td>58.0</td>\n      <td>2021-08-06</td>\n    </tr>\n    <tr>\n      <th>3</th>\n      <td>2021-08-07 01:14:00</td>\n      <td>121.0</td>\n      <td>73.0</td>\n      <td>48.0</td>\n      <td>2021-08-07</td>\n    </tr>\n    <tr>\n      <th>4</th>\n      <td>2021-08-07 22:21:00</td>\n      <td>132.0</td>\n      <td>71.0</td>\n      <td>61.0</td>\n      <td>2021-08-07</td>\n    </tr>\n  </tbody>\n</table>\n</div>"
     },
     "execution_count": 75,
     "metadata": {},
     "output_type": "execute_result"
    }
   ],
   "source": [
    "bpds.head()"
   ],
   "metadata": {
    "collapsed": false,
    "pycharm": {
     "name": "#%%\n"
    }
   }
  },
  {
   "cell_type": "code",
   "execution_count": 76,
   "outputs": [
    {
     "data": {
      "text/plain": "                   date  systolic  diastolic  pulse pressure        day\n475 2021-12-26 22:16:00     128.0       80.0            48.0 2021-12-26\n476 2021-12-26 23:10:00     131.0       79.0            52.0 2021-12-26\n477 2021-12-27 00:05:00     142.0       80.0            62.0 2021-12-27\n478 2021-12-27 01:00:00     138.0       82.0            56.0 2021-12-27\n479 2021-12-28 00:24:00     126.0       78.0            48.0 2021-12-28",
      "text/html": "<div>\n<style scoped>\n    .dataframe tbody tr th:only-of-type {\n        vertical-align: middle;\n    }\n\n    .dataframe tbody tr th {\n        vertical-align: top;\n    }\n\n    .dataframe thead th {\n        text-align: right;\n    }\n</style>\n<table border=\"1\" class=\"dataframe\">\n  <thead>\n    <tr style=\"text-align: right;\">\n      <th></th>\n      <th>date</th>\n      <th>systolic</th>\n      <th>diastolic</th>\n      <th>pulse pressure</th>\n      <th>day</th>\n    </tr>\n  </thead>\n  <tbody>\n    <tr>\n      <th>475</th>\n      <td>2021-12-26 22:16:00</td>\n      <td>128.0</td>\n      <td>80.0</td>\n      <td>48.0</td>\n      <td>2021-12-26</td>\n    </tr>\n    <tr>\n      <th>476</th>\n      <td>2021-12-26 23:10:00</td>\n      <td>131.0</td>\n      <td>79.0</td>\n      <td>52.0</td>\n      <td>2021-12-26</td>\n    </tr>\n    <tr>\n      <th>477</th>\n      <td>2021-12-27 00:05:00</td>\n      <td>142.0</td>\n      <td>80.0</td>\n      <td>62.0</td>\n      <td>2021-12-27</td>\n    </tr>\n    <tr>\n      <th>478</th>\n      <td>2021-12-27 01:00:00</td>\n      <td>138.0</td>\n      <td>82.0</td>\n      <td>56.0</td>\n      <td>2021-12-27</td>\n    </tr>\n    <tr>\n      <th>479</th>\n      <td>2021-12-28 00:24:00</td>\n      <td>126.0</td>\n      <td>78.0</td>\n      <td>48.0</td>\n      <td>2021-12-28</td>\n    </tr>\n  </tbody>\n</table>\n</div>"
     },
     "execution_count": 76,
     "metadata": {},
     "output_type": "execute_result"
    }
   ],
   "source": [
    "bpds.tail()"
   ],
   "metadata": {
    "collapsed": false,
    "pycharm": {
     "name": "#%%\n"
    }
   }
  },
  {
   "cell_type": "code",
   "execution_count": 77,
   "outputs": [
    {
     "name": "stdout",
     "output_type": "stream",
     "text": [
      "<class 'pandas.core.frame.DataFrame'>\n",
      "Int64Index: 96 entries, 0 to 95\n",
      "Data columns (total 6 columns):\n",
      " #   Column          Non-Null Count  Dtype         \n",
      "---  ------          --------------  -----         \n",
      " 0   date            96 non-null     datetime64[ns]\n",
      " 1   systolic        96 non-null     float64       \n",
      " 2   diastolic       96 non-null     float64       \n",
      " 3   pulse pressure  96 non-null     float64       \n",
      " 4   metoprolol      96 non-null     Int64         \n",
      " 5   alcohol         96 non-null     Int64         \n",
      "dtypes: Int64(2), datetime64[ns](1), float64(3)\n",
      "memory usage: 5.4 KB\n"
     ]
    }
   ],
   "source": [
    "bpds = bpds.merge(eds, left_on=['day'], right_on=['date'])\n",
    "bpds = bpds.loc[:, ['date_x', 'systolic', 'diastolic', 'pulse pressure', 'metoprolol', 'alcohol']]\n",
    "bpds = bpds.rename(columns={'date_x': 'date'})\n",
    "bpds.info()"
   ],
   "metadata": {
    "collapsed": false,
    "pycharm": {
     "name": "#%%\n"
    }
   }
  },
  {
   "cell_type": "code",
   "execution_count": 78,
   "outputs": [
    {
     "data": {
      "text/plain": "                 date  systolic  diastolic  pulse pressure  metoprolol  \\\n0 2021-12-01 22:30:00     131.0       86.0            45.0           2   \n1 2021-12-01 23:38:00     144.0       79.0            65.0           2   \n2 2021-12-02 00:22:00     140.0       80.0            60.0           2   \n3 2021-12-02 01:16:00     135.0       78.0            57.0           2   \n4 2021-12-02 22:19:00     131.0       70.0            61.0           2   \n\n   alcohol  \n0        0  \n1        0  \n2      177  \n3      177  \n4      177  ",
      "text/html": "<div>\n<style scoped>\n    .dataframe tbody tr th:only-of-type {\n        vertical-align: middle;\n    }\n\n    .dataframe tbody tr th {\n        vertical-align: top;\n    }\n\n    .dataframe thead th {\n        text-align: right;\n    }\n</style>\n<table border=\"1\" class=\"dataframe\">\n  <thead>\n    <tr style=\"text-align: right;\">\n      <th></th>\n      <th>date</th>\n      <th>systolic</th>\n      <th>diastolic</th>\n      <th>pulse pressure</th>\n      <th>metoprolol</th>\n      <th>alcohol</th>\n    </tr>\n  </thead>\n  <tbody>\n    <tr>\n      <th>0</th>\n      <td>2021-12-01 22:30:00</td>\n      <td>131.0</td>\n      <td>86.0</td>\n      <td>45.0</td>\n      <td>2</td>\n      <td>0</td>\n    </tr>\n    <tr>\n      <th>1</th>\n      <td>2021-12-01 23:38:00</td>\n      <td>144.0</td>\n      <td>79.0</td>\n      <td>65.0</td>\n      <td>2</td>\n      <td>0</td>\n    </tr>\n    <tr>\n      <th>2</th>\n      <td>2021-12-02 00:22:00</td>\n      <td>140.0</td>\n      <td>80.0</td>\n      <td>60.0</td>\n      <td>2</td>\n      <td>177</td>\n    </tr>\n    <tr>\n      <th>3</th>\n      <td>2021-12-02 01:16:00</td>\n      <td>135.0</td>\n      <td>78.0</td>\n      <td>57.0</td>\n      <td>2</td>\n      <td>177</td>\n    </tr>\n    <tr>\n      <th>4</th>\n      <td>2021-12-02 22:19:00</td>\n      <td>131.0</td>\n      <td>70.0</td>\n      <td>61.0</td>\n      <td>2</td>\n      <td>177</td>\n    </tr>\n  </tbody>\n</table>\n</div>"
     },
     "execution_count": 78,
     "metadata": {},
     "output_type": "execute_result"
    }
   ],
   "source": [
    "bpds.head()"
   ],
   "metadata": {
    "collapsed": false,
    "pycharm": {
     "name": "#%%\n"
    }
   }
  },
  {
   "cell_type": "code",
   "execution_count": 79,
   "outputs": [
    {
     "data": {
      "text/plain": "                  date  systolic  diastolic  pulse pressure  metoprolol  \\\n91 2021-12-26 22:16:00     128.0       80.0            48.0           1   \n92 2021-12-26 23:10:00     131.0       79.0            52.0           1   \n93 2021-12-27 00:05:00     142.0       80.0            62.0           2   \n94 2021-12-27 01:00:00     138.0       82.0            56.0           2   \n95 2021-12-28 00:24:00     126.0       78.0            48.0           0   \n\n    alcohol  \n91        0  \n92        0  \n93       25  \n94       25  \n95        0  ",
      "text/html": "<div>\n<style scoped>\n    .dataframe tbody tr th:only-of-type {\n        vertical-align: middle;\n    }\n\n    .dataframe tbody tr th {\n        vertical-align: top;\n    }\n\n    .dataframe thead th {\n        text-align: right;\n    }\n</style>\n<table border=\"1\" class=\"dataframe\">\n  <thead>\n    <tr style=\"text-align: right;\">\n      <th></th>\n      <th>date</th>\n      <th>systolic</th>\n      <th>diastolic</th>\n      <th>pulse pressure</th>\n      <th>metoprolol</th>\n      <th>alcohol</th>\n    </tr>\n  </thead>\n  <tbody>\n    <tr>\n      <th>91</th>\n      <td>2021-12-26 22:16:00</td>\n      <td>128.0</td>\n      <td>80.0</td>\n      <td>48.0</td>\n      <td>1</td>\n      <td>0</td>\n    </tr>\n    <tr>\n      <th>92</th>\n      <td>2021-12-26 23:10:00</td>\n      <td>131.0</td>\n      <td>79.0</td>\n      <td>52.0</td>\n      <td>1</td>\n      <td>0</td>\n    </tr>\n    <tr>\n      <th>93</th>\n      <td>2021-12-27 00:05:00</td>\n      <td>142.0</td>\n      <td>80.0</td>\n      <td>62.0</td>\n      <td>2</td>\n      <td>25</td>\n    </tr>\n    <tr>\n      <th>94</th>\n      <td>2021-12-27 01:00:00</td>\n      <td>138.0</td>\n      <td>82.0</td>\n      <td>56.0</td>\n      <td>2</td>\n      <td>25</td>\n    </tr>\n    <tr>\n      <th>95</th>\n      <td>2021-12-28 00:24:00</td>\n      <td>126.0</td>\n      <td>78.0</td>\n      <td>48.0</td>\n      <td>0</td>\n      <td>0</td>\n    </tr>\n  </tbody>\n</table>\n</div>"
     },
     "execution_count": 79,
     "metadata": {},
     "output_type": "execute_result"
    }
   ],
   "source": [
    "bpds.tail()"
   ],
   "metadata": {
    "collapsed": false,
    "pycharm": {
     "name": "#%%\n"
    }
   }
  },
  {
   "cell_type": "code",
   "execution_count": 80,
   "outputs": [],
   "source": [
    "bpds.to_pickle(heart_and_externals_pickle)"
   ],
   "metadata": {
    "collapsed": false,
    "pycharm": {
     "name": "#%%\n"
    }
   }
  }
 ],
 "metadata": {
  "kernelspec": {
   "display_name": "Python 3",
   "language": "python",
   "name": "python3"
  },
  "language_info": {
   "codemirror_mode": {
    "name": "ipython",
    "version": 2
   },
   "file_extension": ".py",
   "mimetype": "text/x-python",
   "name": "python",
   "nbconvert_exporter": "python",
   "pygments_lexer": "ipython2",
   "version": "2.7.6"
  }
 },
 "nbformat": 4,
 "nbformat_minor": 0
}