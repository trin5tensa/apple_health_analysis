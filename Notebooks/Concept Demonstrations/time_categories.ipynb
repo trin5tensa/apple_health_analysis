{
 "cells": [
  {
   "cell_type": "markdown",
   "source": [
    "Copyright ©2021-2022. Stephen Rigden.\n",
    "This program is free software: you can redistribute it and/or modify it under the terms of the GNU General Public License as published by the Free Software Foundation, either version 3 of the License, or (at your option) any later version.\n",
    "This program is distributed in the hope that it will be useful, but WITHOUT ANY WARRANTY; without even the implied warranty of MERCHANTABILITY or FITNESS FOR A PARTICULAR PURPOSE.  See the GNU General Public License for more details.\n",
    "You should have received a copy of the GNU General Public License along with this program.  If not, see <http://www.gnu.org/licenses/>."
   ],
   "metadata": {
    "collapsed": false
   }
  },
  {
   "cell_type": "code",
   "execution_count": 1,
   "outputs": [],
   "source": [
    "import random\n",
    "\n",
    "import pandas\n",
    "import seaborn\n",
    "\n",
    "from heart_health.utilities import TimeCategories\n",
    "\n",
    "# style must be one of 'white', 'dark', 'whitegrid', 'darkgrid'. 'ticks'\n",
    "seaborn.set_theme(style=\"darkgrid\", color_codes=True)"
   ],
   "metadata": {
    "collapsed": false,
    "pycharm": {
     "name": "#%%\n"
    }
   }
  },
  {
   "cell_type": "markdown",
   "source": [
    "# Demo of .apply used to add a new column to a dataset"
   ],
   "metadata": {
    "collapsed": false
   }
  },
  {
   "cell_type": "code",
   "execution_count": 2,
   "outputs": [
    {
     "data": {
      "text/plain": "        date\n0 2021-11-01\n1 2021-11-02\n2 2021-11-03\n3 2021-11-04\n4 2021-11-05\n5 2021-11-06\n6 2021-11-07\n7 2021-11-08\n8 2021-11-09\n9 2021-11-10",
      "text/html": "<div>\n<style scoped>\n    .dataframe tbody tr th:only-of-type {\n        vertical-align: middle;\n    }\n\n    .dataframe tbody tr th {\n        vertical-align: top;\n    }\n\n    .dataframe thead th {\n        text-align: right;\n    }\n</style>\n<table border=\"1\" class=\"dataframe\">\n  <thead>\n    <tr style=\"text-align: right;\">\n      <th></th>\n      <th>date</th>\n    </tr>\n  </thead>\n  <tbody>\n    <tr>\n      <th>0</th>\n      <td>2021-11-01</td>\n    </tr>\n    <tr>\n      <th>1</th>\n      <td>2021-11-02</td>\n    </tr>\n    <tr>\n      <th>2</th>\n      <td>2021-11-03</td>\n    </tr>\n    <tr>\n      <th>3</th>\n      <td>2021-11-04</td>\n    </tr>\n    <tr>\n      <th>4</th>\n      <td>2021-11-05</td>\n    </tr>\n    <tr>\n      <th>5</th>\n      <td>2021-11-06</td>\n    </tr>\n    <tr>\n      <th>6</th>\n      <td>2021-11-07</td>\n    </tr>\n    <tr>\n      <th>7</th>\n      <td>2021-11-08</td>\n    </tr>\n    <tr>\n      <th>8</th>\n      <td>2021-11-09</td>\n    </tr>\n    <tr>\n      <th>9</th>\n      <td>2021-11-10</td>\n    </tr>\n  </tbody>\n</table>\n</div>"
     },
     "execution_count": 2,
     "metadata": {},
     "output_type": "execute_result"
    }
   ],
   "source": [
    "df = pandas.DataFrame({'date': pandas.date_range('20211101', periods=10)})\n",
    "df"
   ],
   "metadata": {
    "collapsed": false,
    "pycharm": {
     "name": "#%%\n"
    }
   }
  },
  {
   "cell_type": "code",
   "execution_count": 3,
   "outputs": [
    {
     "data": {
      "text/plain": "'42 421'"
     },
     "execution_count": 3,
     "metadata": {},
     "output_type": "execute_result"
    }
   ],
   "source": [
    "def myfunc(*args):\n",
    "    return '42 ' + str(random.randint(421, 423))\n",
    "\n",
    "myfunc()"
   ],
   "metadata": {
    "collapsed": false,
    "pycharm": {
     "name": "#%%\n"
    }
   }
  },
  {
   "cell_type": "code",
   "execution_count": 4,
   "outputs": [
    {
     "data": {
      "text/plain": "        date my_new_col\n0 2021-11-01     42 421\n1 2021-11-02     42 421\n2 2021-11-03     42 421\n3 2021-11-04     42 423\n4 2021-11-05     42 421\n5 2021-11-06     42 422\n6 2021-11-07     42 423\n7 2021-11-08     42 422\n8 2021-11-09     42 421\n9 2021-11-10     42 421",
      "text/html": "<div>\n<style scoped>\n    .dataframe tbody tr th:only-of-type {\n        vertical-align: middle;\n    }\n\n    .dataframe tbody tr th {\n        vertical-align: top;\n    }\n\n    .dataframe thead th {\n        text-align: right;\n    }\n</style>\n<table border=\"1\" class=\"dataframe\">\n  <thead>\n    <tr style=\"text-align: right;\">\n      <th></th>\n      <th>date</th>\n      <th>my_new_col</th>\n    </tr>\n  </thead>\n  <tbody>\n    <tr>\n      <th>0</th>\n      <td>2021-11-01</td>\n      <td>42 421</td>\n    </tr>\n    <tr>\n      <th>1</th>\n      <td>2021-11-02</td>\n      <td>42 421</td>\n    </tr>\n    <tr>\n      <th>2</th>\n      <td>2021-11-03</td>\n      <td>42 421</td>\n    </tr>\n    <tr>\n      <th>3</th>\n      <td>2021-11-04</td>\n      <td>42 423</td>\n    </tr>\n    <tr>\n      <th>4</th>\n      <td>2021-11-05</td>\n      <td>42 421</td>\n    </tr>\n    <tr>\n      <th>5</th>\n      <td>2021-11-06</td>\n      <td>42 422</td>\n    </tr>\n    <tr>\n      <th>6</th>\n      <td>2021-11-07</td>\n      <td>42 423</td>\n    </tr>\n    <tr>\n      <th>7</th>\n      <td>2021-11-08</td>\n      <td>42 422</td>\n    </tr>\n    <tr>\n      <th>8</th>\n      <td>2021-11-09</td>\n      <td>42 421</td>\n    </tr>\n    <tr>\n      <th>9</th>\n      <td>2021-11-10</td>\n      <td>42 421</td>\n    </tr>\n  </tbody>\n</table>\n</div>"
     },
     "execution_count": 4,
     "metadata": {},
     "output_type": "execute_result"
    }
   ],
   "source": [
    "df2 = df.loc[:, ['date']]\n",
    "df2['my_new_col'] = df2['date'].apply(myfunc)\n",
    "df2"
   ],
   "metadata": {
    "collapsed": false,
    "pycharm": {
     "name": "#%%\n"
    }
   }
  },
  {
   "cell_type": "markdown",
   "source": [
    "# Demo with TimeCategories"
   ],
   "metadata": {
    "collapsed": false
   }
  },
  {
   "cell_type": "code",
   "execution_count": 5,
   "outputs": [
    {
     "name": "stdout",
     "output_type": "stream",
     "text": [
      "<class 'pandas.core.frame.DataFrame'>\n",
      "RangeIndex: 17 entries, 0 to 16\n",
      "Data columns (total 1 columns):\n",
      " #   Column  Non-Null Count  Dtype         \n",
      "---  ------  --------------  -----         \n",
      " 0   date    17 non-null     datetime64[ns]\n",
      "dtypes: datetime64[ns](1)\n",
      "memory usage: 264.0 bytes\n"
     ]
    }
   ],
   "source": [
    "df3 = pandas.DataFrame({'date': pandas.date_range('20211122', periods=17)})\n",
    "df3.info()"
   ],
   "metadata": {
    "collapsed": false,
    "pycharm": {
     "name": "#%%\n"
    }
   }
  },
  {
   "cell_type": "code",
   "execution_count": 6,
   "outputs": [
    {
     "data": {
      "text/plain": "         date\n0  2021-11-22\n1  2021-11-23\n2  2021-11-24\n3  2021-11-25\n4  2021-11-26\n5  2021-11-27\n6  2021-11-28\n7  2021-11-29\n8  2021-11-30\n9  2021-12-01\n10 2021-12-02\n11 2021-12-03\n12 2021-12-04\n13 2021-12-05\n14 2021-12-06\n15 2021-12-07\n16 2021-12-08",
      "text/html": "<div>\n<style scoped>\n    .dataframe tbody tr th:only-of-type {\n        vertical-align: middle;\n    }\n\n    .dataframe tbody tr th {\n        vertical-align: top;\n    }\n\n    .dataframe thead th {\n        text-align: right;\n    }\n</style>\n<table border=\"1\" class=\"dataframe\">\n  <thead>\n    <tr style=\"text-align: right;\">\n      <th></th>\n      <th>date</th>\n    </tr>\n  </thead>\n  <tbody>\n    <tr>\n      <th>0</th>\n      <td>2021-11-22</td>\n    </tr>\n    <tr>\n      <th>1</th>\n      <td>2021-11-23</td>\n    </tr>\n    <tr>\n      <th>2</th>\n      <td>2021-11-24</td>\n    </tr>\n    <tr>\n      <th>3</th>\n      <td>2021-11-25</td>\n    </tr>\n    <tr>\n      <th>4</th>\n      <td>2021-11-26</td>\n    </tr>\n    <tr>\n      <th>5</th>\n      <td>2021-11-27</td>\n    </tr>\n    <tr>\n      <th>6</th>\n      <td>2021-11-28</td>\n    </tr>\n    <tr>\n      <th>7</th>\n      <td>2021-11-29</td>\n    </tr>\n    <tr>\n      <th>8</th>\n      <td>2021-11-30</td>\n    </tr>\n    <tr>\n      <th>9</th>\n      <td>2021-12-01</td>\n    </tr>\n    <tr>\n      <th>10</th>\n      <td>2021-12-02</td>\n    </tr>\n    <tr>\n      <th>11</th>\n      <td>2021-12-03</td>\n    </tr>\n    <tr>\n      <th>12</th>\n      <td>2021-12-04</td>\n    </tr>\n    <tr>\n      <th>13</th>\n      <td>2021-12-05</td>\n    </tr>\n    <tr>\n      <th>14</th>\n      <td>2021-12-06</td>\n    </tr>\n    <tr>\n      <th>15</th>\n      <td>2021-12-07</td>\n    </tr>\n    <tr>\n      <th>16</th>\n      <td>2021-12-08</td>\n    </tr>\n  </tbody>\n</table>\n</div>"
     },
     "execution_count": 6,
     "metadata": {},
     "output_type": "execute_result"
    }
   ],
   "source": [
    "df3"
   ],
   "metadata": {
    "collapsed": false,
    "pycharm": {
     "name": "#%%\n"
    }
   }
  },
  {
   "cell_type": "code",
   "execution_count": 7,
   "outputs": [
    {
     "data": {
      "text/plain": "TimeCategories(start_date=Timestamp('2021-11-27 00:00:00'), end_date=Timestamp('2021-12-05 00:00:00'), bucket_size=3)"
     },
     "execution_count": 7,
     "metadata": {},
     "output_type": "execute_result"
    }
   ],
   "source": [
    "start = pandas.Timestamp(2021, 11, 26)\n",
    "end = pandas.Timestamp(2021, 12, 5)\n",
    "bucket_size = 3\n",
    "time_categories = TimeCategories(start, end, bucket_size)\n",
    "time_categories"
   ],
   "metadata": {
    "collapsed": false,
    "pycharm": {
     "name": "#%%\n"
    }
   }
  },
  {
   "cell_type": "code",
   "execution_count": 8,
   "outputs": [
    {
     "data": {
      "text/plain": "         date      bucket\n0  2021-11-22        None\n1  2021-11-23        None\n2  2021-11-24        None\n3  2021-11-25        None\n4  2021-11-26        None\n5  2021-11-27  2021-11-29\n6  2021-11-28  2021-11-29\n7  2021-11-29  2021-11-29\n8  2021-11-30  2021-12-02\n9  2021-12-01  2021-12-02\n10 2021-12-02  2021-12-02\n11 2021-12-03  2021-12-05\n12 2021-12-04  2021-12-05\n13 2021-12-05  2021-12-05\n14 2021-12-06        None\n15 2021-12-07        None\n16 2021-12-08        None",
      "text/html": "<div>\n<style scoped>\n    .dataframe tbody tr th:only-of-type {\n        vertical-align: middle;\n    }\n\n    .dataframe tbody tr th {\n        vertical-align: top;\n    }\n\n    .dataframe thead th {\n        text-align: right;\n    }\n</style>\n<table border=\"1\" class=\"dataframe\">\n  <thead>\n    <tr style=\"text-align: right;\">\n      <th></th>\n      <th>date</th>\n      <th>bucket</th>\n    </tr>\n  </thead>\n  <tbody>\n    <tr>\n      <th>0</th>\n      <td>2021-11-22</td>\n      <td>None</td>\n    </tr>\n    <tr>\n      <th>1</th>\n      <td>2021-11-23</td>\n      <td>None</td>\n    </tr>\n    <tr>\n      <th>2</th>\n      <td>2021-11-24</td>\n      <td>None</td>\n    </tr>\n    <tr>\n      <th>3</th>\n      <td>2021-11-25</td>\n      <td>None</td>\n    </tr>\n    <tr>\n      <th>4</th>\n      <td>2021-11-26</td>\n      <td>None</td>\n    </tr>\n    <tr>\n      <th>5</th>\n      <td>2021-11-27</td>\n      <td>2021-11-29</td>\n    </tr>\n    <tr>\n      <th>6</th>\n      <td>2021-11-28</td>\n      <td>2021-11-29</td>\n    </tr>\n    <tr>\n      <th>7</th>\n      <td>2021-11-29</td>\n      <td>2021-11-29</td>\n    </tr>\n    <tr>\n      <th>8</th>\n      <td>2021-11-30</td>\n      <td>2021-12-02</td>\n    </tr>\n    <tr>\n      <th>9</th>\n      <td>2021-12-01</td>\n      <td>2021-12-02</td>\n    </tr>\n    <tr>\n      <th>10</th>\n      <td>2021-12-02</td>\n      <td>2021-12-02</td>\n    </tr>\n    <tr>\n      <th>11</th>\n      <td>2021-12-03</td>\n      <td>2021-12-05</td>\n    </tr>\n    <tr>\n      <th>12</th>\n      <td>2021-12-04</td>\n      <td>2021-12-05</td>\n    </tr>\n    <tr>\n      <th>13</th>\n      <td>2021-12-05</td>\n      <td>2021-12-05</td>\n    </tr>\n    <tr>\n      <th>14</th>\n      <td>2021-12-06</td>\n      <td>None</td>\n    </tr>\n    <tr>\n      <th>15</th>\n      <td>2021-12-07</td>\n      <td>None</td>\n    </tr>\n    <tr>\n      <th>16</th>\n      <td>2021-12-08</td>\n      <td>None</td>\n    </tr>\n  </tbody>\n</table>\n</div>"
     },
     "execution_count": 8,
     "metadata": {},
     "output_type": "execute_result"
    }
   ],
   "source": [
    "df3['bucket'] = df3['date'].apply(time_categories.get_bucket)\n",
    "df3"
   ],
   "metadata": {
    "collapsed": false,
    "pycharm": {
     "name": "#%%\n"
    }
   }
  },
  {
   "cell_type": "code",
   "execution_count": 9,
   "outputs": [
    {
     "name": "stdout",
     "output_type": "stream",
     "text": [
      "<class 'pandas.core.frame.DataFrame'>\n",
      "RangeIndex: 17 entries, 0 to 16\n",
      "Data columns (total 2 columns):\n",
      " #   Column  Non-Null Count  Dtype         \n",
      "---  ------  --------------  -----         \n",
      " 0   date    17 non-null     datetime64[ns]\n",
      " 1   bucket  9 non-null      object        \n",
      "dtypes: datetime64[ns](1), object(1)\n",
      "memory usage: 400.0+ bytes\n"
     ]
    }
   ],
   "source": [
    "df3.info()"
   ],
   "metadata": {
    "collapsed": false,
    "pycharm": {
     "name": "#%%\n"
    }
   }
  },
  {
   "cell_type": "markdown",
   "source": [
    "# Demo category plot"
   ],
   "metadata": {
    "collapsed": false
   }
  },
  {
   "cell_type": "code",
   "execution_count": 10,
   "outputs": [
    {
     "name": "stdout",
     "output_type": "stream",
     "text": [
      "<class 'pandas.core.frame.DataFrame'>\n",
      "RangeIndex: 17 entries, 0 to 16\n",
      "Data columns (total 2 columns):\n",
      " #   Column  Non-Null Count  Dtype         \n",
      "---  ------  --------------  -----         \n",
      " 0   date    17 non-null     datetime64[ns]\n",
      " 1   bucket  9 non-null      object        \n",
      "dtypes: datetime64[ns](1), object(1)\n",
      "memory usage: 400.0+ bytes\n"
     ]
    }
   ],
   "source": [
    "df4 = df3.copy(deep=True)\n",
    "df4.info()"
   ],
   "metadata": {
    "collapsed": false,
    "pycharm": {
     "name": "#%%\n"
    }
   }
  },
  {
   "cell_type": "code",
   "execution_count": 11,
   "outputs": [
    {
     "data": {
      "text/plain": "        date      bucket\n0 2021-11-22        None\n1 2021-11-23        None\n2 2021-11-24        None\n3 2021-11-25        None\n4 2021-11-26        None\n5 2021-11-27  2021-11-29\n6 2021-11-28  2021-11-29",
      "text/html": "<div>\n<style scoped>\n    .dataframe tbody tr th:only-of-type {\n        vertical-align: middle;\n    }\n\n    .dataframe tbody tr th {\n        vertical-align: top;\n    }\n\n    .dataframe thead th {\n        text-align: right;\n    }\n</style>\n<table border=\"1\" class=\"dataframe\">\n  <thead>\n    <tr style=\"text-align: right;\">\n      <th></th>\n      <th>date</th>\n      <th>bucket</th>\n    </tr>\n  </thead>\n  <tbody>\n    <tr>\n      <th>0</th>\n      <td>2021-11-22</td>\n      <td>None</td>\n    </tr>\n    <tr>\n      <th>1</th>\n      <td>2021-11-23</td>\n      <td>None</td>\n    </tr>\n    <tr>\n      <th>2</th>\n      <td>2021-11-24</td>\n      <td>None</td>\n    </tr>\n    <tr>\n      <th>3</th>\n      <td>2021-11-25</td>\n      <td>None</td>\n    </tr>\n    <tr>\n      <th>4</th>\n      <td>2021-11-26</td>\n      <td>None</td>\n    </tr>\n    <tr>\n      <th>5</th>\n      <td>2021-11-27</td>\n      <td>2021-11-29</td>\n    </tr>\n    <tr>\n      <th>6</th>\n      <td>2021-11-28</td>\n      <td>2021-11-29</td>\n    </tr>\n  </tbody>\n</table>\n</div>"
     },
     "execution_count": 11,
     "metadata": {},
     "output_type": "execute_result"
    }
   ],
   "source": [
    "df4.head(7)"
   ],
   "metadata": {
    "collapsed": false,
    "pycharm": {
     "name": "#%%\n"
    }
   }
  },
  {
   "cell_type": "code",
   "execution_count": 12,
   "outputs": [
    {
     "data": {
      "text/plain": "        date      bucket  rand\n0 2021-11-22        None     8\n1 2021-11-23        None     8\n2 2021-11-24        None     3\n3 2021-11-25        None     1\n4 2021-11-26        None     4\n5 2021-11-27  2021-11-29     3\n6 2021-11-28  2021-11-29     4",
      "text/html": "<div>\n<style scoped>\n    .dataframe tbody tr th:only-of-type {\n        vertical-align: middle;\n    }\n\n    .dataframe tbody tr th {\n        vertical-align: top;\n    }\n\n    .dataframe thead th {\n        text-align: right;\n    }\n</style>\n<table border=\"1\" class=\"dataframe\">\n  <thead>\n    <tr style=\"text-align: right;\">\n      <th></th>\n      <th>date</th>\n      <th>bucket</th>\n      <th>rand</th>\n    </tr>\n  </thead>\n  <tbody>\n    <tr>\n      <th>0</th>\n      <td>2021-11-22</td>\n      <td>None</td>\n      <td>8</td>\n    </tr>\n    <tr>\n      <th>1</th>\n      <td>2021-11-23</td>\n      <td>None</td>\n      <td>8</td>\n    </tr>\n    <tr>\n      <th>2</th>\n      <td>2021-11-24</td>\n      <td>None</td>\n      <td>3</td>\n    </tr>\n    <tr>\n      <th>3</th>\n      <td>2021-11-25</td>\n      <td>None</td>\n      <td>1</td>\n    </tr>\n    <tr>\n      <th>4</th>\n      <td>2021-11-26</td>\n      <td>None</td>\n      <td>4</td>\n    </tr>\n    <tr>\n      <th>5</th>\n      <td>2021-11-27</td>\n      <td>2021-11-29</td>\n      <td>3</td>\n    </tr>\n    <tr>\n      <th>6</th>\n      <td>2021-11-28</td>\n      <td>2021-11-29</td>\n      <td>4</td>\n    </tr>\n  </tbody>\n</table>\n</div>"
     },
     "execution_count": 12,
     "metadata": {},
     "output_type": "execute_result"
    }
   ],
   "source": [
    "df4['rand'] = df4.date.apply(lambda x: random.randint(1, 9))\n",
    "df4.head(7)"
   ],
   "metadata": {
    "collapsed": false,
    "pycharm": {
     "name": "#%%\n"
    }
   }
  },
  {
   "cell_type": "code",
   "execution_count": 13,
   "outputs": [
    {
     "data": {
      "text/plain": "<seaborn.axisgrid.FacetGrid at 0x12839ae60>"
     },
     "execution_count": 13,
     "metadata": {},
     "output_type": "execute_result"
    },
    {
     "data": {
      "text/plain": "<Figure size 360x360 with 1 Axes>",
      "image/png": "[encoded data removed]"
     },
     "metadata": {},
     "output_type": "display_data"
    }
   ],
   "source": [
    "seaborn.catplot(data=df4, kind='box', x='bucket', y='rand')"
   ],
   "metadata": {
    "collapsed": false,
    "pycharm": {
     "name": "#%%\n"
    }
   }
  },
  {
   "cell_type": "code",
   "execution_count": 14,
   "outputs": [
    {
     "data": {
      "text/plain": "<seaborn.axisgrid.FacetGrid at 0x1283aece0>"
     },
     "execution_count": 14,
     "metadata": {},
     "output_type": "execute_result"
    },
    {
     "data": {
      "text/plain": "<Figure size 360x360 with 1 Axes>",
      "image/png": "[encoded data removed]"
     },
     "metadata": {},
     "output_type": "display_data"
    }
   ],
   "source": [
    "seaborn.catplot(data=df4, kind='violin', x='bucket', y='rand')"
   ],
   "metadata": {
    "collapsed": false,
    "pycharm": {
     "name": "#%%\n"
    }
   }
  }
 ],
 "metadata": {
  "kernelspec": {
   "display_name": "Python 3",
   "language": "python",
   "name": "python3"
  },
  "language_info": {
   "codemirror_mode": {
    "name": "ipython",
    "version": 2
   },
   "file_extension": ".py",
   "mimetype": "text/x-python",
   "name": "python",
   "nbconvert_exporter": "python",
   "pygments_lexer": "ipython2",
   "version": "2.7.6"
  }
 },
 "nbformat": 4,
 "nbformat_minor": 0
}