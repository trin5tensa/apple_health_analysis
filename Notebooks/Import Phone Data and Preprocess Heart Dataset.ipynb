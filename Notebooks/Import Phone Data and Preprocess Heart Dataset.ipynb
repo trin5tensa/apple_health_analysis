{
 "cells": [
  {
   "cell_type": "markdown",
   "source": [
    "# Import Health Data from Phone\n",
    "\n",
    "Import phone data and reduce it to heart specific data\n",
    "\n",
    "Change History\n",
    "9/2/2021 Created\n",
    "9/8/2021 Extract heart rate data\n",
    "9/30/2021 Reviewed and tidied up for production use.\n",
    "10/12/2021 Blood pressure dataset processing added.\n",
    "10/12//2021 Preprocessing split off\n",
    "10/24/2021 Drop ISO week date"
   ],
   "metadata": {
    "collapsed": false
   }
  },
  {
   "cell_type": "markdown",
   "source": [
    "### Health File Preparation\n",
    "\n",
    "These instructions are correct at 10/27/2010 with iOS 15.0.2.\n",
    "\n",
    "#### Phone Export\n",
    "\n",
    "Open the Health app on the iPhone. Touch the profile picture on the top-right corner. Touch Export All Health Data at the bottom of the next screen.\n",
    "You will be presented with several options to share the resulting zip file. Save the file to Documents / Coding / Apple Medical / Pandas / Data / Raw\n",
    "\n",
    "### Prepare for import\n",
    "\n",
    "On your desktop, unzip the attached archive.\n",
    "Change zip file name to export_YYYY_MM_DD. Change the export.xml file name to export_YYYY_MM_DD.xml and move it to the Raw directory. Discard the unzipped folder and its contents.\n",
    "\n",
    "In this notebook change the import_file_date below to YYYY_MM_DD."
   ],
   "metadata": {
    "collapsed": false
   }
  },
  {
   "cell_type": "code",
   "execution_count": 1,
   "outputs": [],
   "source": [
    "# # Change the import_file_date to match date in name of current import file.\n",
    "import_file_date = '2021_09_30'"
   ],
   "metadata": {
    "collapsed": false,
    "pycharm": {
     "name": "#%%\n"
    }
   }
  },
  {
   "cell_type": "code",
   "execution_count": 2,
   "outputs": [],
   "source": [
    "# lxml is needed by pandas.read_xml so…\n",
    "# noinspection PyUnresolvedReferences\n",
    "import lxml\n",
    "from pathlib import Path\n",
    "import pandas"
   ],
   "metadata": {
    "collapsed": false,
    "pycharm": {
     "name": "#%% Imports\n"
    }
   }
  },
  {
   "cell_type": "code",
   "execution_count": 3,
   "outputs": [],
   "source": [
    "iphone_file = Path.cwd().parent / 'data' / 'raw' / f\"export_{import_file_date}.xml\"\n",
    "heart_rate_pickle = Path.cwd().parent / 'data' / 'processed' / 'heart_preprocessed.pickle'"
   ],
   "metadata": {
    "collapsed": false,
    "pycharm": {
     "name": "#%% Files\n"
    }
   }
  },
  {
   "cell_type": "markdown",
   "source": [
    "#### TODO\n",
    "\n",
    "As of 9/8/2021 it's believed that the simple read_xml is not getting all of the relevant data from\n",
    "the iPhone export file.\n",
    "Further study of the export file structure is required."
   ],
   "metadata": {
    "collapsed": false,
    "pycharm": {
     "name": "#%% md\n"
    }
   }
  },
  {
   "cell_type": "code",
   "execution_count": 4,
   "outputs": [
    {
     "data": {
      "text/plain": "(1198262, 41)"
     },
     "execution_count": 4,
     "metadata": {},
     "output_type": "execute_result"
    }
   ],
   "source": [
    "hf = pandas.read_xml(iphone_file)\n",
    "hf.shape"
   ],
   "metadata": {
    "collapsed": false,
    "pycharm": {
     "name": "#%%\n"
    }
   }
  },
  {
   "cell_type": "code",
   "execution_count": 5,
   "outputs": [
    {
     "data": {
      "text/plain": "Index(['value', 'HKCharacteristicTypeIdentifierDateOfBirth',\n       'HKCharacteristicTypeIdentifierBiologicalSex',\n       'HKCharacteristicTypeIdentifierBloodType',\n       'HKCharacteristicTypeIdentifierFitzpatrickSkinType',\n       'HKCharacteristicTypeIdentifierCardioFitnessMedicationsUse', 'type',\n       'sourceName', 'sourceVersion', 'unit', 'creationDate', 'startDate',\n       'endDate', 'device', 'MetadataEntry', 'Record', 'SensitivityPoint',\n       'workoutActivityType', 'duration', 'durationUnit', 'totalDistance',\n       'totalDistanceUnit', 'totalEnergyBurned', 'totalEnergyBurnedUnit',\n       'WorkoutEvent', 'dateComponents', 'activeEnergyBurned',\n       'activeEnergyBurnedGoal', 'activeEnergyBurnedUnit', 'appleMoveTime',\n       'appleMoveTimeGoal', 'appleExerciseTime', 'appleExerciseTimeGoal',\n       'appleStandHours', 'appleStandHoursGoal',\n       'HeartRateVariabilityMetadataList', 'identifier', 'sourceURL',\n       'fhirVersion', 'receivedDate', 'resourceFilePath'],\n      dtype='object')"
     },
     "execution_count": 5,
     "metadata": {},
     "output_type": "execute_result"
    }
   ],
   "source": [
    "hf.columns"
   ],
   "metadata": {
    "collapsed": false,
    "pycharm": {
     "name": "#%%\n"
    }
   }
  },
  {
   "cell_type": "code",
   "execution_count": 6,
   "outputs": [
    {
     "name": "stdout",
     "output_type": "stream",
     "text": [
      "<class 'pandas.core.frame.DataFrame'>\n",
      "RangeIndex: 1198262 entries, 0 to 1198261\n",
      "Data columns (total 41 columns):\n",
      " #   Column                                                     Non-Null Count    Dtype  \n",
      "---  ------                                                     --------------    -----  \n",
      " 0   value                                                      1195719 non-null  object \n",
      " 1   HKCharacteristicTypeIdentifierDateOfBirth                  1 non-null        object \n",
      " 2   HKCharacteristicTypeIdentifierBiologicalSex                1 non-null        object \n",
      " 3   HKCharacteristicTypeIdentifierBloodType                    1 non-null        object \n",
      " 4   HKCharacteristicTypeIdentifierFitzpatrickSkinType          1 non-null        object \n",
      " 5   HKCharacteristicTypeIdentifierCardioFitnessMedicationsUse  1 non-null        object \n",
      " 6   type                                                       1197094 non-null  object \n",
      " 7   sourceName                                                 1197707 non-null  object \n",
      " 8   sourceVersion                                              1186999 non-null  object \n",
      " 9   unit                                                       1185798 non-null  object \n",
      " 10  creationDate                                               1197098 non-null  object \n",
      " 11  startDate                                                  1197098 non-null  object \n",
      " 12  endDate                                                    1197098 non-null  object \n",
      " 13  device                                                     1157755 non-null  object \n",
      " 14  MetadataEntry                                              0 non-null        float64\n",
      " 15  Record                                                     0 non-null        float64\n",
      " 16  SensitivityPoint                                           0 non-null        float64\n",
      " 17  workoutActivityType                                        613 non-null      object \n",
      " 18  duration                                                   613 non-null      float64\n",
      " 19  durationUnit                                               613 non-null      object \n",
      " 20  totalDistance                                              613 non-null      float64\n",
      " 21  totalDistanceUnit                                          613 non-null      object \n",
      " 22  totalEnergyBurned                                          613 non-null      float64\n",
      " 23  totalEnergyBurnedUnit                                      613 non-null      object \n",
      " 24  WorkoutEvent                                               0 non-null        float64\n",
      " 25  dateComponents                                             553 non-null      object \n",
      " 26  activeEnergyBurned                                         553 non-null      float64\n",
      " 27  activeEnergyBurnedGoal                                     553 non-null      float64\n",
      " 28  activeEnergyBurnedUnit                                     553 non-null      object \n",
      " 29  appleMoveTime                                              553 non-null      float64\n",
      " 30  appleMoveTimeGoal                                          553 non-null      float64\n",
      " 31  appleExerciseTime                                          553 non-null      float64\n",
      " 32  appleExerciseTimeGoal                                      553 non-null      float64\n",
      " 33  appleStandHours                                            553 non-null      float64\n",
      " 34  appleStandHoursGoal                                        553 non-null      float64\n",
      " 35  HeartRateVariabilityMetadataList                           0 non-null        float64\n",
      " 36  identifier                                                 609 non-null      object \n",
      " 37  sourceURL                                                  609 non-null      object \n",
      " 38  fhirVersion                                                609 non-null      object \n",
      " 39  receivedDate                                               609 non-null      object \n",
      " 40  resourceFilePath                                           609 non-null      object \n",
      "dtypes: float64(16), object(25)\n",
      "memory usage: 374.8+ MB\n"
     ]
    }
   ],
   "source": [
    "hf.info()"
   ],
   "metadata": {
    "collapsed": false,
    "pycharm": {
     "name": "#%%\n"
    }
   }
  },
  {
   "cell_type": "markdown",
   "source": [
    "# Refine Dataset\n",
    "\n",
    "Extract columns and rows with useful information."
   ],
   "metadata": {
    "collapsed": false,
    "pycharm": {
     "name": "#%% md\n"
    }
   }
  },
  {
   "cell_type": "markdown",
   "source": [
    "#### Refine columns (pass 1)"
   ],
   "metadata": {
    "collapsed": false
   }
  },
  {
   "cell_type": "code",
   "execution_count": 7,
   "outputs": [
    {
     "data": {
      "text/plain": "(1198262, 9)"
     },
     "execution_count": 7,
     "metadata": {},
     "output_type": "execute_result"
    }
   ],
   "source": [
    "health_file = hf.loc[:, ['value', 'type', 'sourceName', 'sourceVersion', 'unit',\n",
    "                         'creationDate', 'startDate', 'endDate', 'device']]\n",
    "health_file.shape"
   ],
   "metadata": {
    "collapsed": false,
    "pycharm": {
     "name": "#%%\n"
    }
   }
  },
  {
   "cell_type": "code",
   "execution_count": 8,
   "outputs": [
    {
     "name": "stdout",
     "output_type": "stream",
     "text": [
      "<class 'pandas.core.frame.DataFrame'>\n",
      "RangeIndex: 1198262 entries, 0 to 1198261\n",
      "Data columns (total 9 columns):\n",
      " #   Column         Non-Null Count    Dtype \n",
      "---  ------         --------------    ----- \n",
      " 0   value          1195719 non-null  object\n",
      " 1   type           1197094 non-null  object\n",
      " 2   sourceName     1197707 non-null  object\n",
      " 3   sourceVersion  1186999 non-null  object\n",
      " 4   unit           1185798 non-null  object\n",
      " 5   creationDate   1197098 non-null  object\n",
      " 6   startDate      1197098 non-null  object\n",
      " 7   endDate        1197098 non-null  object\n",
      " 8   device         1157755 non-null  object\n",
      "dtypes: object(9)\n",
      "memory usage: 82.3+ MB\n"
     ]
    }
   ],
   "source": [
    "health_file.info()"
   ],
   "metadata": {
    "collapsed": false,
    "pycharm": {
     "name": "#%%\n"
    }
   }
  },
  {
   "cell_type": "markdown",
   "source": [
    "#### Refine Rows"
   ],
   "metadata": {
    "collapsed": false
   }
  },
  {
   "cell_type": "code",
   "execution_count": 9,
   "outputs": [
    {
     "data": {
      "text/plain": "                       value                               type  \\\n0  2021-09-30 07:12:09 -0400                               None   \n1                       None                               None   \n2                       5.75     HKQuantityTypeIdentifierHeight   \n3                    5.83333     HKQuantityTypeIdentifierHeight   \n4                        170   HKQuantityTypeIdentifierBodyMass   \n5                         67  HKQuantityTypeIdentifierHeartRate   \n6                         67  HKQuantityTypeIdentifierHeartRate   \n\n              sourceName sourceVersion       unit               creationDate  \\\n0                   None          None       None                       None   \n1                   None          None       None                       None   \n2                 iPhone          13.4         ft  2020-03-30 16:01:19 -0400   \n3    Stephen’s iPhone 11          15.0         ft  2021-09-21 13:20:50 -0400   \n4                 iPhone          13.4         lb  2020-03-30 16:01:19 -0400   \n5  Stephen’s Apple Watch         6.1.3  count/min  2020-03-30 16:13:44 -0400   \n6  Stephen’s Apple Watch         6.1.3  count/min  2020-03-30 16:18:49 -0400   \n\n                   startDate                    endDate  \\\n0                       None                       None   \n1                       None                       None   \n2  2020-03-30 16:01:19 -0400  2020-03-30 16:01:19 -0400   \n3  2021-09-21 13:20:50 -0400  2021-09-21 13:20:50 -0400   \n4  2020-03-30 16:01:19 -0400  2020-03-30 16:01:19 -0400   \n5  2020-03-30 16:11:49 -0400  2020-03-30 16:11:49 -0400   \n6  2020-03-30 16:16:17 -0400  2020-03-30 16:16:17 -0400   \n\n                                              device  \n0                                               None  \n1                                               None  \n2                                               None  \n3                                               None  \n4                                               None  \n5  <<HKDevice: 0x282f77b10>, name:Apple Watch, ma...  \n6  <<HKDevice: 0x282f77b10>, name:Apple Watch, ma...  ",
      "text/html": "<div>\n<style scoped>\n    .dataframe tbody tr th:only-of-type {\n        vertical-align: middle;\n    }\n\n    .dataframe tbody tr th {\n        vertical-align: top;\n    }\n\n    .dataframe thead th {\n        text-align: right;\n    }\n</style>\n<table border=\"1\" class=\"dataframe\">\n  <thead>\n    <tr style=\"text-align: right;\">\n      <th></th>\n      <th>value</th>\n      <th>type</th>\n      <th>sourceName</th>\n      <th>sourceVersion</th>\n      <th>unit</th>\n      <th>creationDate</th>\n      <th>startDate</th>\n      <th>endDate</th>\n      <th>device</th>\n    </tr>\n  </thead>\n  <tbody>\n    <tr>\n      <th>0</th>\n      <td>2021-09-30 07:12:09 -0400</td>\n      <td>None</td>\n      <td>None</td>\n      <td>None</td>\n      <td>None</td>\n      <td>None</td>\n      <td>None</td>\n      <td>None</td>\n      <td>None</td>\n    </tr>\n    <tr>\n      <th>1</th>\n      <td>None</td>\n      <td>None</td>\n      <td>None</td>\n      <td>None</td>\n      <td>None</td>\n      <td>None</td>\n      <td>None</td>\n      <td>None</td>\n      <td>None</td>\n    </tr>\n    <tr>\n      <th>2</th>\n      <td>5.75</td>\n      <td>HKQuantityTypeIdentifierHeight</td>\n      <td>iPhone</td>\n      <td>13.4</td>\n      <td>ft</td>\n      <td>2020-03-30 16:01:19 -0400</td>\n      <td>2020-03-30 16:01:19 -0400</td>\n      <td>2020-03-30 16:01:19 -0400</td>\n      <td>None</td>\n    </tr>\n    <tr>\n      <th>3</th>\n      <td>5.83333</td>\n      <td>HKQuantityTypeIdentifierHeight</td>\n      <td>Stephen’s iPhone 11</td>\n      <td>15.0</td>\n      <td>ft</td>\n      <td>2021-09-21 13:20:50 -0400</td>\n      <td>2021-09-21 13:20:50 -0400</td>\n      <td>2021-09-21 13:20:50 -0400</td>\n      <td>None</td>\n    </tr>\n    <tr>\n      <th>4</th>\n      <td>170</td>\n      <td>HKQuantityTypeIdentifierBodyMass</td>\n      <td>iPhone</td>\n      <td>13.4</td>\n      <td>lb</td>\n      <td>2020-03-30 16:01:19 -0400</td>\n      <td>2020-03-30 16:01:19 -0400</td>\n      <td>2020-03-30 16:01:19 -0400</td>\n      <td>None</td>\n    </tr>\n    <tr>\n      <th>5</th>\n      <td>67</td>\n      <td>HKQuantityTypeIdentifierHeartRate</td>\n      <td>Stephen’s Apple Watch</td>\n      <td>6.1.3</td>\n      <td>count/min</td>\n      <td>2020-03-30 16:13:44 -0400</td>\n      <td>2020-03-30 16:11:49 -0400</td>\n      <td>2020-03-30 16:11:49 -0400</td>\n      <td>&lt;&lt;HKDevice: 0x282f77b10&gt;, name:Apple Watch, ma...</td>\n    </tr>\n    <tr>\n      <th>6</th>\n      <td>67</td>\n      <td>HKQuantityTypeIdentifierHeartRate</td>\n      <td>Stephen’s Apple Watch</td>\n      <td>6.1.3</td>\n      <td>count/min</td>\n      <td>2020-03-30 16:18:49 -0400</td>\n      <td>2020-03-30 16:16:17 -0400</td>\n      <td>2020-03-30 16:16:17 -0400</td>\n      <td>&lt;&lt;HKDevice: 0x282f77b10&gt;, name:Apple Watch, ma...</td>\n    </tr>\n  </tbody>\n</table>\n</div>"
     },
     "execution_count": 9,
     "metadata": {},
     "output_type": "execute_result"
    }
   ],
   "source": [
    "health_file.head(7)"
   ],
   "metadata": {
    "collapsed": false,
    "pycharm": {
     "name": "#%%\n"
    }
   }
  },
  {
   "cell_type": "code",
   "execution_count": 10,
   "outputs": [
    {
     "data": {
      "text/plain": "        value              type  sourceName sourceVersion  unit creationDate  \\\n1198257  None  DiagnosticReport  OhioHealth          None  None         None   \n1198258  None  DiagnosticReport  OhioHealth          None  None         None   \n1198259  None  DiagnosticReport  OhioHealth          None  None         None   \n1198260  None  DiagnosticReport  OhioHealth          None  None         None   \n1198261  None           Patient  OhioHealth          None  None         None   \n\n        startDate endDate device  \n1198257      None    None   None  \n1198258      None    None   None  \n1198259      None    None   None  \n1198260      None    None   None  \n1198261      None    None   None  ",
      "text/html": "<div>\n<style scoped>\n    .dataframe tbody tr th:only-of-type {\n        vertical-align: middle;\n    }\n\n    .dataframe tbody tr th {\n        vertical-align: top;\n    }\n\n    .dataframe thead th {\n        text-align: right;\n    }\n</style>\n<table border=\"1\" class=\"dataframe\">\n  <thead>\n    <tr style=\"text-align: right;\">\n      <th></th>\n      <th>value</th>\n      <th>type</th>\n      <th>sourceName</th>\n      <th>sourceVersion</th>\n      <th>unit</th>\n      <th>creationDate</th>\n      <th>startDate</th>\n      <th>endDate</th>\n      <th>device</th>\n    </tr>\n  </thead>\n  <tbody>\n    <tr>\n      <th>1198257</th>\n      <td>None</td>\n      <td>DiagnosticReport</td>\n      <td>OhioHealth</td>\n      <td>None</td>\n      <td>None</td>\n      <td>None</td>\n      <td>None</td>\n      <td>None</td>\n      <td>None</td>\n    </tr>\n    <tr>\n      <th>1198258</th>\n      <td>None</td>\n      <td>DiagnosticReport</td>\n      <td>OhioHealth</td>\n      <td>None</td>\n      <td>None</td>\n      <td>None</td>\n      <td>None</td>\n      <td>None</td>\n      <td>None</td>\n    </tr>\n    <tr>\n      <th>1198259</th>\n      <td>None</td>\n      <td>DiagnosticReport</td>\n      <td>OhioHealth</td>\n      <td>None</td>\n      <td>None</td>\n      <td>None</td>\n      <td>None</td>\n      <td>None</td>\n      <td>None</td>\n    </tr>\n    <tr>\n      <th>1198260</th>\n      <td>None</td>\n      <td>DiagnosticReport</td>\n      <td>OhioHealth</td>\n      <td>None</td>\n      <td>None</td>\n      <td>None</td>\n      <td>None</td>\n      <td>None</td>\n      <td>None</td>\n    </tr>\n    <tr>\n      <th>1198261</th>\n      <td>None</td>\n      <td>Patient</td>\n      <td>OhioHealth</td>\n      <td>None</td>\n      <td>None</td>\n      <td>None</td>\n      <td>None</td>\n      <td>None</td>\n      <td>None</td>\n    </tr>\n  </tbody>\n</table>\n</div>"
     },
     "execution_count": 10,
     "metadata": {},
     "output_type": "execute_result"
    }
   ],
   "source": [
    "health_file.tail()"
   ],
   "metadata": {
    "collapsed": false,
    "pycharm": {
     "name": "#%%\n"
    }
   }
  },
  {
   "cell_type": "code",
   "execution_count": 11,
   "outputs": [
    {
     "data": {
      "text/plain": "HKQuantityTypeIdentifierActiveEnergyBurned                566485\nHKQuantityTypeIdentifierBasalEnergyBurned                 220225\nHKQuantityTypeIdentifierHeartRate                         174296\nHKQuantityTypeIdentifierDistanceWalkingRunning             64556\nHKQuantityTypeIdentifierStepCount                          56605\nHKQuantityTypeIdentifierAppleStandTime                     30697\nHKQuantityTypeIdentifierAppleExerciseTime                  26048\nHKQuantityTypeIdentifierEnvironmentalAudioExposure         17874\nHKQuantityTypeIdentifierFlightsClimbed                     10102\nHKCategoryTypeIdentifierAppleStandHour                      9147\nHKQuantityTypeIdentifierStairDescentSpeed                   3903\nHKQuantityTypeIdentifierWalkingSpeed                        3060\nHKQuantityTypeIdentifierWalkingStepLength                   3060\nHKQuantityTypeIdentifierHeartRateVariabilitySDNN            2850\nHKQuantityTypeIdentifierWalkingDoubleSupportPercentage      2002\nHKQuantityTypeIdentifierStairAscentSpeed                    1698\nHKCategoryTypeIdentifierSleepAnalysis                        770\nHKQuantityTypeIdentifierHeadphoneAudioExposure               728\nHKCategoryTypeIdentifierMindfulSession                       573\nHKQuantityTypeIdentifierRestingHeartRate                     552\nHKQuantityTypeIdentifierWalkingHeartRateAverage              551\nObservation                                                  387\nHKQuantityTypeIdentifierBloodPressureDiastolic               179\nHKCorrelationTypeIdentifierBloodPressure                     179\nHKQuantityTypeIdentifierBloodPressureSystolic                179\nHKQuantityTypeIdentifierWalkingAsymmetryPercentage           101\nMedicationStatement                                           91\nMedicationOrder                                               68\nDiagnosticReport                                              40\nHKQuantityTypeIdentifierSixMinuteWalkTestDistance             34\nHKCategoryTypeIdentifierHandwashingEvent                      12\nCondition                                                     10\nImmunization                                                   8\nHKQuantityTypeIdentifierNumberOfTimesFallen                    8\nProcedure                                                      3\nHKCategoryTypeIdentifierAudioExposureEvent                     3\nHKDataTypeIdentifierAudiogram                                  3\nHKQuantityTypeIdentifierHeight                                 2\nHKDataTypeSleepDurationGoal                                    2\nAllergyIntolerance                                             1\nHKQuantityTypeIdentifierBodyMass                               1\nPatient                                                        1\nName: type, dtype: int64"
     },
     "execution_count": 11,
     "metadata": {},
     "output_type": "execute_result"
    }
   ],
   "source": [
    "health_file['type'].value_counts()"
   ],
   "metadata": {
    "collapsed": false,
    "pycharm": {
     "name": "#%%\n"
    }
   }
  },
  {
   "cell_type": "markdown",
   "source": [
    "#### Select rows with heart types. Refine columns (pass 2)"
   ],
   "metadata": {
    "collapsed": false
   }
  },
  {
   "cell_type": "code",
   "execution_count": 12,
   "outputs": [
    {
     "name": "stdout",
     "output_type": "stream",
     "text": [
      "<class 'pandas.core.frame.DataFrame'>\n",
      "Int64Index: 174654 entries, 5 to 174658\n",
      "Data columns (total 3 columns):\n",
      " #   Column  Non-Null Count   Dtype         \n",
      "---  ------  --------------   -----         \n",
      " 0   value   174654 non-null  float64       \n",
      " 1   type    174654 non-null  object        \n",
      " 2   date    174654 non-null  datetime64[ns]\n",
      "dtypes: datetime64[ns](1), float64(1), object(1)\n",
      "memory usage: 5.3+ MB\n"
     ]
    }
   ],
   "source": [
    "heart_rate = health_file['type'] == 'HKQuantityTypeIdentifierHeartRate'\n",
    "bp_diastolic = health_file['type'] == 'HKQuantityTypeIdentifierBloodPressureDiastolic'\n",
    "bp_systolic = health_file['type'] == 'HKQuantityTypeIdentifierBloodPressureSystolic'\n",
    "ds = health_file.loc[heart_rate | bp_diastolic | bp_systolic, ['value', 'type', 'startDate']]\n",
    "ds.loc[:, 'value'] = ds['value'].astype('float')\n",
    "ds = ds.rename(columns={'startDate': 'date'})\n",
    "ds.loc[:, 'date'] = ds['date'].astype('datetime64[ns]')\n",
    "ds.info()"
   ],
   "metadata": {
    "collapsed": false,
    "pycharm": {
     "name": "#%%\n"
    }
   }
  },
  {
   "cell_type": "code",
   "execution_count": 13,
   "outputs": [],
   "source": [
    "ds.to_pickle(heart_rate_pickle)"
   ],
   "metadata": {
    "collapsed": false,
    "pycharm": {
     "name": "#%%\n"
    }
   }
  }
 ],
 "metadata": {
  "kernelspec": {
   "display_name": "Python 3",
   "language": "python",
   "name": "python3"
  },
  "language_info": {
   "codemirror_mode": {
    "name": "ipython",
    "version": 2
   },
   "file_extension": ".py",
   "mimetype": "text/x-python",
   "name": "python",
   "nbconvert_exporter": "python",
   "pygments_lexer": "ipython2",
   "version": "2.7.6"
  }
 },
 "nbformat": 4,
 "nbformat_minor": 0
}