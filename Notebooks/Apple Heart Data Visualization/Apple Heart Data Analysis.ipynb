{
 "cells": [
  {
   "cell_type": "markdown",
   "source": [
    "Copyright ©2022. Stephen Rigden.\n",
    "This program is free software: you can redistribute it and/or modify it under the terms of the GNU General Public License as published by the Free Software Foundation, either version 3 of the License, or (at your option) any later version.\n",
    "This program is distributed in the hope that it will be useful, but WITHOUT ANY WARRANTY; without even the implied warranty of MERCHANTABILITY or FITNESS FOR A PARTICULAR PURPOSE.  See the GNU General Public License for more details.\n",
    "You should have received a copy of the GNU General Public License along with this program.  If not, see <http://www.gnu.org/licenses/>."
   ],
   "metadata": {
    "collapsed": false
   }
  },
  {
   "cell_type": "markdown",
   "source": [
    "## Export iPhone Health Data\n",
    "\n",
    "See <<project folder>>README.md for instructions."
   ],
   "metadata": {
    "collapsed": false
   }
  },
  {
   "cell_type": "code",
   "execution_count": 1,
   "outputs": [],
   "source": [
    "# lxml is needed by pandas.read_xml so…\n",
    "# noinspection PyUnresolvedReferences\n",
    "import lxml\n",
    "from pathlib import Path\n",
    "import pandas"
   ],
   "metadata": {
    "collapsed": false,
    "pycharm": {
     "name": "#%% Imports\n"
    }
   }
  },
  {
   "cell_type": "code",
   "execution_count": 2,
   "outputs": [],
   "source": [
    "project_path = Path.cwd().parent.parent\n",
    "iphone_file = project_path / 'data' / 'raw' / f\"export.xml\"\n",
    "heart_rate_pickle = project_path / 'data' / 'processed' / 'heart_preprocessed.pickle'"
   ],
   "metadata": {
    "collapsed": false,
    "pycharm": {
     "name": "#%% Files\n"
    }
   }
  },
  {
   "cell_type": "code",
   "execution_count": 6,
   "outputs": [
    {
     "data": {
      "text/plain": "(1247324, 41)"
     },
     "execution_count": 6,
     "metadata": {},
     "output_type": "execute_result"
    }
   ],
   "source": [
    "hf = pandas.read_xml(iphone_file)  # 1.25m records took 2 min on my 4 y.o MacBook Pro.\n",
    "hf.shape"
   ],
   "metadata": {
    "collapsed": false,
    "pycharm": {
     "name": "#%%\n"
    }
   }
  },
  {
   "cell_type": "code",
   "execution_count": 7,
   "outputs": [
    {
     "data": {
      "text/plain": "Index(['value', 'HKCharacteristicTypeIdentifierDateOfBirth',\n       'HKCharacteristicTypeIdentifierBiologicalSex',\n       'HKCharacteristicTypeIdentifierBloodType',\n       'HKCharacteristicTypeIdentifierFitzpatrickSkinType',\n       'HKCharacteristicTypeIdentifierCardioFitnessMedicationsUse', 'type',\n       'sourceName', 'sourceVersion', 'unit', 'creationDate', 'startDate',\n       'endDate', 'device', 'MetadataEntry', 'Record', 'SensitivityPoint',\n       'workoutActivityType', 'duration', 'durationUnit', 'totalDistance',\n       'totalDistanceUnit', 'totalEnergyBurned', 'totalEnergyBurnedUnit',\n       'WorkoutEvent', 'dateComponents', 'activeEnergyBurned',\n       'activeEnergyBurnedGoal', 'activeEnergyBurnedUnit', 'appleMoveTime',\n       'appleMoveTimeGoal', 'appleExerciseTime', 'appleExerciseTimeGoal',\n       'appleStandHours', 'appleStandHoursGoal',\n       'HeartRateVariabilityMetadataList', 'identifier', 'sourceURL',\n       'fhirVersion', 'receivedDate', 'resourceFilePath'],\n      dtype='object')"
     },
     "execution_count": 7,
     "metadata": {},
     "output_type": "execute_result"
    }
   ],
   "source": [
    "hf.columns"
   ],
   "metadata": {
    "collapsed": false,
    "pycharm": {
     "name": "#%%\n"
    }
   }
  },
  {
   "cell_type": "code",
   "execution_count": 8,
   "outputs": [
    {
     "name": "stdout",
     "output_type": "stream",
     "text": [
      "<class 'pandas.core.frame.DataFrame'>\n",
      "RangeIndex: 1247324 entries, 0 to 1247323\n",
      "Data columns (total 41 columns):\n",
      " #   Column                                                     Non-Null Count    Dtype  \n",
      "---  ------                                                     --------------    -----  \n",
      " 0   value                                                      1244178 non-null  object \n",
      " 1   HKCharacteristicTypeIdentifierDateOfBirth                  1 non-null        object \n",
      " 2   HKCharacteristicTypeIdentifierBiologicalSex                1 non-null        object \n",
      " 3   HKCharacteristicTypeIdentifierBloodType                    1 non-null        object \n",
      " 4   HKCharacteristicTypeIdentifierFitzpatrickSkinType          1 non-null        object \n",
      " 5   HKCharacteristicTypeIdentifierCardioFitnessMedicationsUse  1 non-null        object \n",
      " 6   type                                                       1245993 non-null  object \n",
      " 7   sourceName                                                 1246676 non-null  object \n",
      " 8   sourceVersion                                              1235895 non-null  object \n",
      " 9   unit                                                       1232546 non-null  object \n",
      " 10  creationDate                                               1245994 non-null  object \n",
      " 11  startDate                                                  1245994 non-null  object \n",
      " 12  endDate                                                    1245994 non-null  object \n",
      " 13  device                                                     1197500 non-null  object \n",
      " 14  MetadataEntry                                              0 non-null        float64\n",
      " 15  Record                                                     0 non-null        float64\n",
      " 16  SensitivityPoint                                           0 non-null        float64\n",
      " 17  workoutActivityType                                        683 non-null      object \n",
      " 18  duration                                                   683 non-null      float64\n",
      " 19  durationUnit                                               683 non-null      object \n",
      " 20  totalDistance                                              683 non-null      float64\n",
      " 21  totalDistanceUnit                                          683 non-null      object \n",
      " 22  totalEnergyBurned                                          683 non-null      float64\n",
      " 23  totalEnergyBurnedUnit                                      683 non-null      object \n",
      " 24  WorkoutEvent                                               0 non-null        float64\n",
      " 25  dateComponents                                             646 non-null      object \n",
      " 26  activeEnergyBurned                                         646 non-null      float64\n",
      " 27  activeEnergyBurnedGoal                                     646 non-null      float64\n",
      " 28  activeEnergyBurnedUnit                                     646 non-null      object \n",
      " 29  appleMoveTime                                              646 non-null      float64\n",
      " 30  appleMoveTimeGoal                                          646 non-null      float64\n",
      " 31  appleExerciseTime                                          646 non-null      float64\n",
      " 32  appleExerciseTimeGoal                                      646 non-null      float64\n",
      " 33  appleStandHours                                            646 non-null      float64\n",
      " 34  appleStandHoursGoal                                        646 non-null      float64\n",
      " 35  HeartRateVariabilityMetadataList                           0 non-null        float64\n",
      " 36  identifier                                                 682 non-null      object \n",
      " 37  sourceURL                                                  682 non-null      object \n",
      " 38  fhirVersion                                                682 non-null      object \n",
      " 39  receivedDate                                               682 non-null      object \n",
      " 40  resourceFilePath                                           682 non-null      object \n",
      "dtypes: float64(16), object(25)\n",
      "memory usage: 390.2+ MB\n"
     ]
    }
   ],
   "source": [
    "hf.info()"
   ],
   "metadata": {
    "collapsed": false,
    "pycharm": {
     "name": "#%%\n"
    }
   }
  },
  {
   "cell_type": "markdown",
   "source": [
    "# Refine Dataset\n",
    "\n",
    "Extract columns and rows with useful information."
   ],
   "metadata": {
    "collapsed": false,
    "pycharm": {
     "name": "#%% md\n"
    }
   }
  },
  {
   "cell_type": "markdown",
   "source": [
    "#### Refine columns (pass 1)"
   ],
   "metadata": {
    "collapsed": false
   }
  },
  {
   "cell_type": "code",
   "execution_count": 9,
   "outputs": [
    {
     "data": {
      "text/plain": "(1247324, 9)"
     },
     "execution_count": 9,
     "metadata": {},
     "output_type": "execute_result"
    }
   ],
   "source": [
    "health_file = hf.loc[:, ['value', 'type', 'sourceName', 'sourceVersion', 'unit',\n",
    "                         'creationDate', 'startDate', 'endDate', 'device']]\n",
    "health_file.shape"
   ],
   "metadata": {
    "collapsed": false,
    "pycharm": {
     "name": "#%%\n"
    }
   }
  },
  {
   "cell_type": "code",
   "execution_count": 10,
   "outputs": [
    {
     "name": "stdout",
     "output_type": "stream",
     "text": [
      "<class 'pandas.core.frame.DataFrame'>\n",
      "RangeIndex: 1247324 entries, 0 to 1247323\n",
      "Data columns (total 9 columns):\n",
      " #   Column         Non-Null Count    Dtype \n",
      "---  ------         --------------    ----- \n",
      " 0   value          1244178 non-null  object\n",
      " 1   type           1245993 non-null  object\n",
      " 2   sourceName     1246676 non-null  object\n",
      " 3   sourceVersion  1235895 non-null  object\n",
      " 4   unit           1232546 non-null  object\n",
      " 5   creationDate   1245994 non-null  object\n",
      " 6   startDate      1245994 non-null  object\n",
      " 7   endDate        1245994 non-null  object\n",
      " 8   device         1197500 non-null  object\n",
      "dtypes: object(9)\n",
      "memory usage: 85.6+ MB\n"
     ]
    }
   ],
   "source": [
    "health_file.info()"
   ],
   "metadata": {
    "collapsed": false,
    "pycharm": {
     "name": "#%%\n"
    }
   }
  },
  {
   "cell_type": "markdown",
   "source": [
    "#### Refine Rows"
   ],
   "metadata": {
    "collapsed": false
   }
  },
  {
   "cell_type": "code",
   "execution_count": 11,
   "outputs": [
    {
     "data": {
      "text/plain": "                       value                               type  \\\n0  2022-01-01 07:00:25 -0500                               None   \n1                       None                               None   \n2                       5.75     HKQuantityTypeIdentifierHeight   \n3                    5.83333     HKQuantityTypeIdentifierHeight   \n4                        170   HKQuantityTypeIdentifierBodyMass   \n5                         67  HKQuantityTypeIdentifierHeartRate   \n6                         67  HKQuantityTypeIdentifierHeartRate   \n\n              sourceName sourceVersion       unit               creationDate  \\\n0                   None          None       None                       None   \n1                   None          None       None                       None   \n2                 iPhone          13.4         ft  2020-03-30 15:01:19 -0500   \n3    Stephen’s iPhone 11          15.0         ft  2021-09-21 12:20:50 -0500   \n4                 iPhone          13.4         lb  2020-03-30 15:01:19 -0500   \n5  Stephen’s Apple Watch         6.1.3  count/min  2020-03-30 15:13:44 -0500   \n6  Stephen’s Apple Watch         6.1.3  count/min  2020-03-30 15:18:49 -0500   \n\n                   startDate                    endDate  \\\n0                       None                       None   \n1                       None                       None   \n2  2020-03-30 15:01:19 -0500  2020-03-30 15:01:19 -0500   \n3  2021-09-21 12:20:50 -0500  2021-09-21 12:20:50 -0500   \n4  2020-03-30 15:01:19 -0500  2020-03-30 15:01:19 -0500   \n5  2020-03-30 15:11:49 -0500  2020-03-30 15:11:49 -0500   \n6  2020-03-30 15:16:17 -0500  2020-03-30 15:16:17 -0500   \n\n                                              device  \n0                                               None  \n1                                               None  \n2                                               None  \n3                                               None  \n4                                               None  \n5  <<HKDevice: 0x280d2fac0>, name:Apple Watch, ma...  \n6  <<HKDevice: 0x280d2fac0>, name:Apple Watch, ma...  ",
      "text/html": "<div>\n<style scoped>\n    .dataframe tbody tr th:only-of-type {\n        vertical-align: middle;\n    }\n\n    .dataframe tbody tr th {\n        vertical-align: top;\n    }\n\n    .dataframe thead th {\n        text-align: right;\n    }\n</style>\n<table border=\"1\" class=\"dataframe\">\n  <thead>\n    <tr style=\"text-align: right;\">\n      <th></th>\n      <th>value</th>\n      <th>type</th>\n      <th>sourceName</th>\n      <th>sourceVersion</th>\n      <th>unit</th>\n      <th>creationDate</th>\n      <th>startDate</th>\n      <th>endDate</th>\n      <th>device</th>\n    </tr>\n  </thead>\n  <tbody>\n    <tr>\n      <th>0</th>\n      <td>2022-01-01 07:00:25 -0500</td>\n      <td>None</td>\n      <td>None</td>\n      <td>None</td>\n      <td>None</td>\n      <td>None</td>\n      <td>None</td>\n      <td>None</td>\n      <td>None</td>\n    </tr>\n    <tr>\n      <th>1</th>\n      <td>None</td>\n      <td>None</td>\n      <td>None</td>\n      <td>None</td>\n      <td>None</td>\n      <td>None</td>\n      <td>None</td>\n      <td>None</td>\n      <td>None</td>\n    </tr>\n    <tr>\n      <th>2</th>\n      <td>5.75</td>\n      <td>HKQuantityTypeIdentifierHeight</td>\n      <td>iPhone</td>\n      <td>13.4</td>\n      <td>ft</td>\n      <td>2020-03-30 15:01:19 -0500</td>\n      <td>2020-03-30 15:01:19 -0500</td>\n      <td>2020-03-30 15:01:19 -0500</td>\n      <td>None</td>\n    </tr>\n    <tr>\n      <th>3</th>\n      <td>5.83333</td>\n      <td>HKQuantityTypeIdentifierHeight</td>\n      <td>Stephen’s iPhone 11</td>\n      <td>15.0</td>\n      <td>ft</td>\n      <td>2021-09-21 12:20:50 -0500</td>\n      <td>2021-09-21 12:20:50 -0500</td>\n      <td>2021-09-21 12:20:50 -0500</td>\n      <td>None</td>\n    </tr>\n    <tr>\n      <th>4</th>\n      <td>170</td>\n      <td>HKQuantityTypeIdentifierBodyMass</td>\n      <td>iPhone</td>\n      <td>13.4</td>\n      <td>lb</td>\n      <td>2020-03-30 15:01:19 -0500</td>\n      <td>2020-03-30 15:01:19 -0500</td>\n      <td>2020-03-30 15:01:19 -0500</td>\n      <td>None</td>\n    </tr>\n    <tr>\n      <th>5</th>\n      <td>67</td>\n      <td>HKQuantityTypeIdentifierHeartRate</td>\n      <td>Stephen’s Apple Watch</td>\n      <td>6.1.3</td>\n      <td>count/min</td>\n      <td>2020-03-30 15:13:44 -0500</td>\n      <td>2020-03-30 15:11:49 -0500</td>\n      <td>2020-03-30 15:11:49 -0500</td>\n      <td>&lt;&lt;HKDevice: 0x280d2fac0&gt;, name:Apple Watch, ma...</td>\n    </tr>\n    <tr>\n      <th>6</th>\n      <td>67</td>\n      <td>HKQuantityTypeIdentifierHeartRate</td>\n      <td>Stephen’s Apple Watch</td>\n      <td>6.1.3</td>\n      <td>count/min</td>\n      <td>2020-03-30 15:18:49 -0500</td>\n      <td>2020-03-30 15:16:17 -0500</td>\n      <td>2020-03-30 15:16:17 -0500</td>\n      <td>&lt;&lt;HKDevice: 0x280d2fac0&gt;, name:Apple Watch, ma...</td>\n    </tr>\n  </tbody>\n</table>\n</div>"
     },
     "execution_count": 11,
     "metadata": {},
     "output_type": "execute_result"
    }
   ],
   "source": [
    "health_file.head(7)"
   ],
   "metadata": {
    "collapsed": false,
    "pycharm": {
     "name": "#%%\n"
    }
   }
  },
  {
   "cell_type": "code",
   "execution_count": 12,
   "outputs": [
    {
     "data": {
      "text/plain": "        value         type  sourceName sourceVersion  unit creationDate  \\\n1247319  None  Observation  OhioHealth          None  None         None   \n1247320  None  Observation  OhioHealth          None  None         None   \n1247321  None  Observation  OhioHealth          None  None         None   \n1247322  None  Observation  OhioHealth          None  None         None   \n1247323  None      Patient  OhioHealth          None  None         None   \n\n        startDate endDate device  \n1247319      None    None   None  \n1247320      None    None   None  \n1247321      None    None   None  \n1247322      None    None   None  \n1247323      None    None   None  ",
      "text/html": "<div>\n<style scoped>\n    .dataframe tbody tr th:only-of-type {\n        vertical-align: middle;\n    }\n\n    .dataframe tbody tr th {\n        vertical-align: top;\n    }\n\n    .dataframe thead th {\n        text-align: right;\n    }\n</style>\n<table border=\"1\" class=\"dataframe\">\n  <thead>\n    <tr style=\"text-align: right;\">\n      <th></th>\n      <th>value</th>\n      <th>type</th>\n      <th>sourceName</th>\n      <th>sourceVersion</th>\n      <th>unit</th>\n      <th>creationDate</th>\n      <th>startDate</th>\n      <th>endDate</th>\n      <th>device</th>\n    </tr>\n  </thead>\n  <tbody>\n    <tr>\n      <th>1247319</th>\n      <td>None</td>\n      <td>Observation</td>\n      <td>OhioHealth</td>\n      <td>None</td>\n      <td>None</td>\n      <td>None</td>\n      <td>None</td>\n      <td>None</td>\n      <td>None</td>\n    </tr>\n    <tr>\n      <th>1247320</th>\n      <td>None</td>\n      <td>Observation</td>\n      <td>OhioHealth</td>\n      <td>None</td>\n      <td>None</td>\n      <td>None</td>\n      <td>None</td>\n      <td>None</td>\n      <td>None</td>\n    </tr>\n    <tr>\n      <th>1247321</th>\n      <td>None</td>\n      <td>Observation</td>\n      <td>OhioHealth</td>\n      <td>None</td>\n      <td>None</td>\n      <td>None</td>\n      <td>None</td>\n      <td>None</td>\n      <td>None</td>\n    </tr>\n    <tr>\n      <th>1247322</th>\n      <td>None</td>\n      <td>Observation</td>\n      <td>OhioHealth</td>\n      <td>None</td>\n      <td>None</td>\n      <td>None</td>\n      <td>None</td>\n      <td>None</td>\n      <td>None</td>\n    </tr>\n    <tr>\n      <th>1247323</th>\n      <td>None</td>\n      <td>Patient</td>\n      <td>OhioHealth</td>\n      <td>None</td>\n      <td>None</td>\n      <td>None</td>\n      <td>None</td>\n      <td>None</td>\n      <td>None</td>\n    </tr>\n  </tbody>\n</table>\n</div>"
     },
     "execution_count": 12,
     "metadata": {},
     "output_type": "execute_result"
    }
   ],
   "source": [
    "health_file.tail()"
   ],
   "metadata": {
    "collapsed": false,
    "pycharm": {
     "name": "#%%\n"
    }
   }
  },
  {
   "cell_type": "code",
   "execution_count": 13,
   "outputs": [
    {
     "data": {
      "text/plain": "HKQuantityTypeIdentifierActiveEnergyBurned                583387\nHKQuantityTypeIdentifierBasalEnergyBurned                 208037\nHKQuantityTypeIdentifierHeartRate                         180408\nHKQuantityTypeIdentifierDistanceWalkingRunning             72826\nHKQuantityTypeIdentifierStepCount                          63963\nHKQuantityTypeIdentifierAppleStandTime                     36398\nHKQuantityTypeIdentifierAppleExerciseTime                  29979\nHKQuantityTypeIdentifierEnvironmentalAudioExposure         20954\nHKQuantityTypeIdentifierFlightsClimbed                     12228\nHKCategoryTypeIdentifierAppleStandHour                     10710\nHKQuantityTypeIdentifierStairDescentSpeed                   5384\nHKQuantityTypeIdentifierWalkingStepLength                   3889\nHKQuantityTypeIdentifierWalkingSpeed                        3889\nHKQuantityTypeIdentifierHeartRateVariabilitySDNN            3258\nHKQuantityTypeIdentifierWalkingDoubleSupportPercentage      2395\nHKQuantityTypeIdentifierStairAscentSpeed                    2319\nHKCategoryTypeIdentifierSleepAnalysis                        916\nHKQuantityTypeIdentifierHeadphoneAudioExposure               764\nHKQuantityTypeIdentifierWalkingHeartRateAverage              646\nHKQuantityTypeIdentifierRestingHeartRate                     645\nHKCategoryTypeIdentifierMindfulSession                       623\nHKCorrelationTypeIdentifierBloodPressure                     496\nHKQuantityTypeIdentifierBloodPressureDiastolic               496\nHKQuantityTypeIdentifierBloodPressureSystolic                496\nObservation                                                  459\nHKQuantityTypeIdentifierWalkingAsymmetryPercentage           113\nMedicationStatement                                           91\nMedicationOrder                                               68\nHKQuantityTypeIdentifierSixMinuteWalkTestDistance             47\nDiagnosticReport                                              40\nHKQuantityTypeIdentifierAppleWalkingSteadiness                12\nHKCategoryTypeIdentifierHandwashingEvent                      12\nCondition                                                     10\nImmunization                                                   9\nHKQuantityTypeIdentifierNumberOfTimesFallen                    8\nHKCategoryTypeIdentifierAudioExposureEvent                     5\nProcedure                                                      3\nHKDataTypeIdentifierAudiogram                                  3\nHKQuantityTypeIdentifierHeight                                 2\nHKDataTypeSleepDurationGoal                                    2\nAllergyIntolerance                                             1\nHKQuantityTypeIdentifierBodyMass                               1\nPatient                                                        1\nName: type, dtype: int64"
     },
     "execution_count": 13,
     "metadata": {},
     "output_type": "execute_result"
    }
   ],
   "source": [
    "health_file['type'].value_counts()"
   ],
   "metadata": {
    "collapsed": false,
    "pycharm": {
     "name": "#%%\n"
    }
   }
  },
  {
   "cell_type": "markdown",
   "source": [
    "#### Select rows with heart types. Refine columns (pass 2)"
   ],
   "metadata": {
    "collapsed": false
   }
  },
  {
   "cell_type": "code",
   "execution_count": 14,
   "outputs": [
    {
     "name": "stdout",
     "output_type": "stream",
     "text": [
      "<class 'pandas.core.frame.DataFrame'>\n",
      "Int64Index: 181400 entries, 5 to 181404\n",
      "Data columns (total 3 columns):\n",
      " #   Column  Non-Null Count   Dtype         \n",
      "---  ------  --------------   -----         \n",
      " 0   value   181400 non-null  float64       \n",
      " 1   type    181400 non-null  object        \n",
      " 2   date    181400 non-null  datetime64[ns]\n",
      "dtypes: datetime64[ns](1), float64(1), object(1)\n",
      "memory usage: 5.5+ MB\n"
     ]
    }
   ],
   "source": [
    "heart_rate = health_file['type'] == 'HKQuantityTypeIdentifierHeartRate'\n",
    "bp_diastolic = health_file['type'] == 'HKQuantityTypeIdentifierBloodPressureDiastolic'\n",
    "bp_systolic = health_file['type'] == 'HKQuantityTypeIdentifierBloodPressureSystolic'\n",
    "ds = health_file.loc[heart_rate | bp_diastolic | bp_systolic, ['value', 'type', 'startDate']]\n",
    "ds.loc[:, 'value'] = ds['value'].astype('float')\n",
    "ds = ds.rename(columns={'startDate': 'date'})\n",
    "ds.loc[:, 'date'] = ds['date'].astype('datetime64[ns]')\n",
    "ds.info()"
   ],
   "metadata": {
    "collapsed": false,
    "pycharm": {
     "name": "#%%\n"
    }
   }
  },
  {
   "cell_type": "code",
   "execution_count": 15,
   "outputs": [
    {
     "data": {
      "text/plain": "Timestamp('2020-03-30 20:11:49')"
     },
     "execution_count": 15,
     "metadata": {},
     "output_type": "execute_result"
    }
   ],
   "source": [
    "ds.date.min()"
   ],
   "metadata": {
    "collapsed": false,
    "pycharm": {
     "name": "#%%\n"
    }
   }
  },
  {
   "cell_type": "code",
   "execution_count": 16,
   "outputs": [
    {
     "data": {
      "text/plain": "Timestamp('2022-01-01 11:56:36')"
     },
     "execution_count": 16,
     "metadata": {},
     "output_type": "execute_result"
    }
   ],
   "source": [
    "ds.date.max()"
   ],
   "metadata": {
    "collapsed": false,
    "pycharm": {
     "name": "#%%\n"
    }
   }
  },
  {
   "cell_type": "code",
   "execution_count": 17,
   "outputs": [],
   "source": [
    "ds.to_pickle(heart_rate_pickle)"
   ],
   "metadata": {
    "collapsed": false,
    "pycharm": {
     "name": "#%%\n"
    }
   }
  }
 ],
 "metadata": {
  "kernelspec": {
   "display_name": "Python 3",
   "language": "python",
   "name": "python3"
  },
  "language_info": {
   "codemirror_mode": {
    "name": "ipython",
    "version": 2
   },
   "file_extension": ".py",
   "mimetype": "text/x-python",
   "name": "python",
   "nbconvert_exporter": "python",
   "pygments_lexer": "ipython2",
   "version": "2.7.6"
  }
 },
 "nbformat": 4,
 "nbformat_minor": 0
}