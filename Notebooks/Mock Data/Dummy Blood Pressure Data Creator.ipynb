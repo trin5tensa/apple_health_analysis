{
 "cells": [
  {
   "cell_type": "markdown",
   "metadata": {
    "collapsed": true,
    "pycharm": {
     "name": "#%% md\n"
    }
   },
   "source": [
    "Copyright ©2022. Stephen Rigden.\n",
    "This program is free software: you can redistribute it and/or modify it under the terms of the GNU General Public License as published by the Free Software Foundation, either version 3 of the License, or (at your option) any later version.\n",
    "This program is distributed in the hope that it will be useful, but WITHOUT ANY WARRANTY; without even the implied warranty of MERCHANTABILITY or FITNESS FOR A PARTICULAR PURPOSE.  See the GNU General Public License for more details.\n",
    "You should have received a copy of the GNU General Public License along with this program.  If not, see <http://www.gnu.org/licenses/>."
   ]
  },
  {
   "cell_type": "markdown",
   "source": [
    "# Create Dummy Data\n",
    "\n",
    "The created data file is intended to assist new users by providing data similar to\n",
    "that used to create the notebooks of this project.\n",
    "This will be helpful in cases where the user's data is markedly different in shape or size and\n",
    "requires substantial modification of the notebook. The dummy data will provide confidence in the\n",
    "correctness of the notebooks as a basis for modification for the user's non-conforming data."
   ],
   "metadata": {
    "collapsed": false
   }
  },
  {
   "cell_type": "code",
   "execution_count": 67,
   "outputs": [],
   "source": [
    "from pathlib import Path\n",
    "\n",
    "import numpy\n",
    "import pandas"
   ],
   "metadata": {
    "collapsed": false,
    "pycharm": {
     "name": "#%%\n"
    }
   }
  },
  {
   "cell_type": "code",
   "execution_count": 68,
   "outputs": [],
   "source": [
    "PERIODS = 6\n",
    "LUNAR_MONTH = 28\n",
    "DAILY_PRESSURE_REFORDS = 4\n",
    "APPLE_DIASTOLIC_TYPE = 'HKQuantityTypeIdentifierBloodPressureDiastolic'\n",
    "APPLE_SYSTOLIC_TYPE = 'HKQuantityTypeIdentifierBloodPressureSystolic'\n",
    "SOURCE_NAME = 'Mock Data Generator'\n",
    "SOURCE_VERSION = '1e-googolplex'\n",
    "UNIT = 'mm Hg'\n",
    "DEVICE = 'NOVICE'"
   ],
   "metadata": {
    "collapsed": false,
    "pycharm": {
     "name": "#%%\n"
    }
   }
  },
  {
   "cell_type": "code",
   "execution_count": 69,
   "outputs": [],
   "source": [
    "project_path = Path.cwd().parent.parent\n",
    "iphone_file = project_path / 'data' / 'raw' / 'export.xml'"
   ],
   "metadata": {
    "collapsed": false,
    "pycharm": {
     "name": "#%%\n"
    }
   }
  },
  {
   "cell_type": "markdown",
   "source": [
    "# Meta control dataset\n",
    "\n",
    "Create a dataset with six 28 day periods"
   ],
   "metadata": {
    "collapsed": false
   }
  },
  {
   "cell_type": "code",
   "execution_count": 70,
   "outputs": [
    {
     "data": {
      "text/plain": "DatetimeIndex(['2020-06-01', '2020-06-29', '2020-07-27', '2020-08-24',\n               '2020-09-21', '2020-10-19'],\n              dtype='datetime64[ns]', freq='28D')"
     },
     "execution_count": 70,
     "metadata": {},
     "output_type": "execute_result"
    }
   ],
   "source": [
    "ts = pandas.date_range('2020-06-01', periods=PERIODS, freq=f'{LUNAR_MONTH}D')\n",
    "ts"
   ],
   "metadata": {
    "collapsed": false,
    "pycharm": {
     "name": "#%%\n"
    }
   }
  },
  {
   "cell_type": "code",
   "source": [
    "mds = pandas.DataFrame({'period_start': ts,\n",
    "                        'systolic_μ': [120, 130, 140, 140, 130, 120],\n",
    "                        'systolic_σ': [12, 12, 12, 12, 12, 12],\n",
    "                        'diastolic_μ': [80, 85, 90, 90, 85, 80],\n",
    "                        'diastolic_σ': [6, 6, 6, 6, 6, 6]},\n",
    "                       # index=ts\n",
    "                       )\n",
    "mds"
   ],
   "metadata": {
    "collapsed": false,
    "pycharm": {
     "name": "#%%\n"
    }
   },
   "execution_count": 71,
   "outputs": [
    {
     "data": {
      "text/plain": "  period_start  systolic_μ  systolic_σ  diastolic_μ  diastolic_σ\n0   2020-06-01         120          12           80            6\n1   2020-06-29         130          12           85            6\n2   2020-07-27         140          12           90            6\n3   2020-08-24         140          12           90            6\n4   2020-09-21         130          12           85            6\n5   2020-10-19         120          12           80            6",
      "text/html": "<div>\n<style scoped>\n    .dataframe tbody tr th:only-of-type {\n        vertical-align: middle;\n    }\n\n    .dataframe tbody tr th {\n        vertical-align: top;\n    }\n\n    .dataframe thead th {\n        text-align: right;\n    }\n</style>\n<table border=\"1\" class=\"dataframe\">\n  <thead>\n    <tr style=\"text-align: right;\">\n      <th></th>\n      <th>period_start</th>\n      <th>systolic_μ</th>\n      <th>systolic_σ</th>\n      <th>diastolic_μ</th>\n      <th>diastolic_σ</th>\n    </tr>\n  </thead>\n  <tbody>\n    <tr>\n      <th>0</th>\n      <td>2020-06-01</td>\n      <td>120</td>\n      <td>12</td>\n      <td>80</td>\n      <td>6</td>\n    </tr>\n    <tr>\n      <th>1</th>\n      <td>2020-06-29</td>\n      <td>130</td>\n      <td>12</td>\n      <td>85</td>\n      <td>6</td>\n    </tr>\n    <tr>\n      <th>2</th>\n      <td>2020-07-27</td>\n      <td>140</td>\n      <td>12</td>\n      <td>90</td>\n      <td>6</td>\n    </tr>\n    <tr>\n      <th>3</th>\n      <td>2020-08-24</td>\n      <td>140</td>\n      <td>12</td>\n      <td>90</td>\n      <td>6</td>\n    </tr>\n    <tr>\n      <th>4</th>\n      <td>2020-09-21</td>\n      <td>130</td>\n      <td>12</td>\n      <td>85</td>\n      <td>6</td>\n    </tr>\n    <tr>\n      <th>5</th>\n      <td>2020-10-19</td>\n      <td>120</td>\n      <td>12</td>\n      <td>80</td>\n      <td>6</td>\n    </tr>\n  </tbody>\n</table>\n</div>"
     },
     "execution_count": 71,
     "metadata": {},
     "output_type": "execute_result"
    }
   ]
  },
  {
   "cell_type": "markdown",
   "source": [],
   "metadata": {
    "collapsed": false,
    "pycharm": {
     "name": "#%% md\n"
    }
   }
  },
  {
   "cell_type": "code",
   "source": [
    "pressure_ds = pandas.DataFrame()\n",
    "\n",
    "for ix in range(len(mds)):\n",
    "    # Create time series of quarter days for a lunar month\n",
    "    quarter_days = LUNAR_MONTH * DAILY_PRESSURE_REFORDS\n",
    "    frequency = '6H'\n",
    "    pts = pandas.date_range(mds.period_start[ix], periods=quarter_days, freq=frequency)\n",
    "\n",
    "    # Create systolic dataset\n",
    "    mu = mds.systolic_μ[0]\n",
    "    sigma = mds.systolic_σ[0]\n",
    "    count = len(pts)\n",
    "    rng_s = numpy.random.default_rng().normal(mu, sigma, count).astype('int')\n",
    "    sds = pandas.DataFrame({'creationDate': pts, 'startDate': pts, 'endDate': pts, 'value': rng_s,\n",
    "                            'type': APPLE_SYSTOLIC_TYPE, 'sourceName': SOURCE_NAME,\n",
    "                            'sourceVersion': SOURCE_VERSION, 'unit': UNIT, 'device': DEVICE})\n",
    "\n",
    "    # Create diastolic dataset\n",
    "    mu = mds.diastolic_μ[0]\n",
    "    sigma = mds.diastolic_σ[0]\n",
    "    count = len(pts)\n",
    "    rng_d = numpy.random.default_rng().normal(mu, sigma, count).astype('int')\n",
    "    dds = pandas.DataFrame({'creationDate': pts, 'startDate': pts, 'endDate': pts, 'value': rng_d,\n",
    "                            'type': APPLE_DIASTOLIC_TYPE, 'sourceName': SOURCE_NAME,\n",
    "                            'sourceVersion': SOURCE_VERSION, 'unit': UNIT, 'device': DEVICE})\n",
    "\n",
    "    # Merge systolic and diastolic datasets\n",
    "    ds = sds.append(dds, ignore_index=True, verify_integrity=True)\n",
    "    ds.sort_values('startDate', inplace=True)\n",
    "\n",
    "    pressure_ds = pressure_ds.append(ds, ignore_index=True, verify_integrity=True)\n",
    "\n",
    "pressure_ds.info()"
   ],
   "metadata": {
    "collapsed": false,
    "pycharm": {
     "name": "#%%\n"
    }
   },
   "execution_count": 72,
   "outputs": [
    {
     "name": "stdout",
     "output_type": "stream",
     "text": [
      "<class 'pandas.core.frame.DataFrame'>\n",
      "RangeIndex: 1344 entries, 0 to 1343\n",
      "Data columns (total 9 columns):\n",
      " #   Column         Non-Null Count  Dtype         \n",
      "---  ------         --------------  -----         \n",
      " 0   creationDate   1344 non-null   datetime64[ns]\n",
      " 1   startDate      1344 non-null   datetime64[ns]\n",
      " 2   endDate        1344 non-null   datetime64[ns]\n",
      " 3   value          1344 non-null   int64         \n",
      " 4   type           1344 non-null   object        \n",
      " 5   sourceName     1344 non-null   object        \n",
      " 6   sourceVersion  1344 non-null   object        \n",
      " 7   unit           1344 non-null   object        \n",
      " 8   device         1344 non-null   object        \n",
      "dtypes: datetime64[ns](3), int64(1), object(5)\n",
      "memory usage: 94.6+ KB\n"
     ]
    }
   ]
  },
  {
   "cell_type": "code",
   "execution_count": 73,
   "outputs": [
    {
     "data": {
      "text/plain": "         creationDate           startDate             endDate  value  \\\n0 2020-06-01 00:00:00 2020-06-01 00:00:00 2020-06-01 00:00:00    120   \n1 2020-06-01 00:00:00 2020-06-01 00:00:00 2020-06-01 00:00:00     75   \n2 2020-06-01 06:00:00 2020-06-01 06:00:00 2020-06-01 06:00:00    105   \n3 2020-06-01 06:00:00 2020-06-01 06:00:00 2020-06-01 06:00:00     81   \n4 2020-06-01 12:00:00 2020-06-01 12:00:00 2020-06-01 12:00:00    112   \n\n                                             type           sourceName  \\\n0   HKQuantityTypeIdentifierBloodPressureSystolic  Mock Data Generator   \n1  HKQuantityTypeIdentifierBloodPressureDiastolic  Mock Data Generator   \n2   HKQuantityTypeIdentifierBloodPressureSystolic  Mock Data Generator   \n3  HKQuantityTypeIdentifierBloodPressureDiastolic  Mock Data Generator   \n4   HKQuantityTypeIdentifierBloodPressureSystolic  Mock Data Generator   \n\n   sourceVersion   unit  device  \n0  1e-googolplex  mm Hg  NOVICE  \n1  1e-googolplex  mm Hg  NOVICE  \n2  1e-googolplex  mm Hg  NOVICE  \n3  1e-googolplex  mm Hg  NOVICE  \n4  1e-googolplex  mm Hg  NOVICE  ",
      "text/html": "<div>\n<style scoped>\n    .dataframe tbody tr th:only-of-type {\n        vertical-align: middle;\n    }\n\n    .dataframe tbody tr th {\n        vertical-align: top;\n    }\n\n    .dataframe thead th {\n        text-align: right;\n    }\n</style>\n<table border=\"1\" class=\"dataframe\">\n  <thead>\n    <tr style=\"text-align: right;\">\n      <th></th>\n      <th>creationDate</th>\n      <th>startDate</th>\n      <th>endDate</th>\n      <th>value</th>\n      <th>type</th>\n      <th>sourceName</th>\n      <th>sourceVersion</th>\n      <th>unit</th>\n      <th>device</th>\n    </tr>\n  </thead>\n  <tbody>\n    <tr>\n      <th>0</th>\n      <td>2020-06-01 00:00:00</td>\n      <td>2020-06-01 00:00:00</td>\n      <td>2020-06-01 00:00:00</td>\n      <td>120</td>\n      <td>HKQuantityTypeIdentifierBloodPressureSystolic</td>\n      <td>Mock Data Generator</td>\n      <td>1e-googolplex</td>\n      <td>mm Hg</td>\n      <td>NOVICE</td>\n    </tr>\n    <tr>\n      <th>1</th>\n      <td>2020-06-01 00:00:00</td>\n      <td>2020-06-01 00:00:00</td>\n      <td>2020-06-01 00:00:00</td>\n      <td>75</td>\n      <td>HKQuantityTypeIdentifierBloodPressureDiastolic</td>\n      <td>Mock Data Generator</td>\n      <td>1e-googolplex</td>\n      <td>mm Hg</td>\n      <td>NOVICE</td>\n    </tr>\n    <tr>\n      <th>2</th>\n      <td>2020-06-01 06:00:00</td>\n      <td>2020-06-01 06:00:00</td>\n      <td>2020-06-01 06:00:00</td>\n      <td>105</td>\n      <td>HKQuantityTypeIdentifierBloodPressureSystolic</td>\n      <td>Mock Data Generator</td>\n      <td>1e-googolplex</td>\n      <td>mm Hg</td>\n      <td>NOVICE</td>\n    </tr>\n    <tr>\n      <th>3</th>\n      <td>2020-06-01 06:00:00</td>\n      <td>2020-06-01 06:00:00</td>\n      <td>2020-06-01 06:00:00</td>\n      <td>81</td>\n      <td>HKQuantityTypeIdentifierBloodPressureDiastolic</td>\n      <td>Mock Data Generator</td>\n      <td>1e-googolplex</td>\n      <td>mm Hg</td>\n      <td>NOVICE</td>\n    </tr>\n    <tr>\n      <th>4</th>\n      <td>2020-06-01 12:00:00</td>\n      <td>2020-06-01 12:00:00</td>\n      <td>2020-06-01 12:00:00</td>\n      <td>112</td>\n      <td>HKQuantityTypeIdentifierBloodPressureSystolic</td>\n      <td>Mock Data Generator</td>\n      <td>1e-googolplex</td>\n      <td>mm Hg</td>\n      <td>NOVICE</td>\n    </tr>\n  </tbody>\n</table>\n</div>"
     },
     "execution_count": 73,
     "metadata": {},
     "output_type": "execute_result"
    }
   ],
   "source": [
    "pressure_ds.head()"
   ],
   "metadata": {
    "collapsed": false,
    "pycharm": {
     "name": "#%%\n"
    }
   }
  },
  {
   "cell_type": "code",
   "execution_count": 74,
   "outputs": [],
   "source": [
    "pressure_ds.to_xml(iphone_file, index=False, parser='lxml')"
   ],
   "metadata": {
    "collapsed": false,
    "pycharm": {
     "name": "#%%\n"
    }
   }
  }
 ],
 "metadata": {
  "kernelspec": {
   "display_name": "Python 3",
   "language": "python",
   "name": "python3"
  },
  "language_info": {
   "codemirror_mode": {
    "name": "ipython",
    "version": 2
   },
   "file_extension": ".py",
   "mimetype": "text/x-python",
   "name": "python",
   "nbconvert_exporter": "python",
   "pygments_lexer": "ipython2",
   "version": "2.7.6"
  }
 },
 "nbformat": 4,
 "nbformat_minor": 0
}