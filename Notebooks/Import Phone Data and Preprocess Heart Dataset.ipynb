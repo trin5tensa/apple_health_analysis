{
 "cells": [
  {
   "cell_type": "markdown",
   "source": [
    "Copyright ©2021-2022. Stephen Rigden.\n",
    "This program is free software: you can redistribute it and/or modify it under the terms of the GNU General Public License as published by the Free Software Foundation, either version 3 of the License, or (at your option) any later version.\n",
    "This program is distributed in the hope that it will be useful, but WITHOUT ANY WARRANTY; without even the implied warranty of MERCHANTABILITY or FITNESS FOR A PARTICULAR PURPOSE.  See the GNU General Public License for more details.\n",
    "You should have received a copy of the GNU General Public License along with this program.  If not, see <http://www.gnu.org/licenses/>."
   ],
   "metadata": {
    "collapsed": false
   }
  },
  {
   "cell_type": "markdown",
   "source": [
    "### Health File Preparation\n",
    "\n",
    "These instructions are correct at 10/27/2010 with iOS 15.0.2.\n",
    "\n",
    "#### Phone Export\n",
    "\n",
    "See the README file for instructions on exporting the iPhone health file.\n",
    "\n",
    "### Prepare for import\n",
    "\n",
    "On your desktop, unzip the attached archive.\n",
    "Change zip file name to export_YYYY_MM_DD. Change the export.xml file name to export_YYYY_MM_DD.xml and move it to the Raw directory. Discard the unzipped folder and its contents.\n",
    "\n",
    "In this notebook change the import_file_date below to YYYY_MM_DD."
   ],
   "metadata": {
    "collapsed": false
   }
  },
  {
   "cell_type": "code",
   "execution_count": 14,
   "outputs": [],
   "source": [
    "# # Change the import_file_date to match date in name of current import file.\n",
    "import_file_date = '2021_10_31'"
   ],
   "metadata": {
    "collapsed": false,
    "pycharm": {
     "name": "#%%\n"
    }
   }
  },
  {
   "cell_type": "code",
   "execution_count": 15,
   "outputs": [],
   "source": [
    "# lxml is needed by pandas.read_xml so…\n",
    "# noinspection PyUnresolvedReferences\n",
    "import lxml\n",
    "from pathlib import Path\n",
    "import pandas"
   ],
   "metadata": {
    "collapsed": false,
    "pycharm": {
     "name": "#%% Imports\n"
    }
   }
  },
  {
   "cell_type": "code",
   "execution_count": 16,
   "outputs": [],
   "source": [
    "iphone_file = Path.cwd().parent / 'data' / 'raw' / f\"export_{import_file_date}.xml\"\n",
    "heart_rate_pickle = Path.cwd().parent / 'data' / 'processed' / 'heart_preprocessed.pickle'"
   ],
   "metadata": {
    "collapsed": false,
    "pycharm": {
     "name": "#%% Files\n"
    }
   }
  },
  {
   "cell_type": "code",
   "execution_count": 17,
   "outputs": [
    {
     "data": {
      "text/plain": "(1232153, 41)"
     },
     "execution_count": 17,
     "metadata": {},
     "output_type": "execute_result"
    }
   ],
   "source": [
    "hf = pandas.read_xml(iphone_file)\n",
    "hf.shape"
   ],
   "metadata": {
    "collapsed": false,
    "pycharm": {
     "name": "#%%\n"
    }
   }
  },
  {
   "cell_type": "code",
   "execution_count": 18,
   "outputs": [
    {
     "data": {
      "text/plain": "Index(['value', 'HKCharacteristicTypeIdentifierDateOfBirth',\n       'HKCharacteristicTypeIdentifierBiologicalSex',\n       'HKCharacteristicTypeIdentifierBloodType',\n       'HKCharacteristicTypeIdentifierFitzpatrickSkinType',\n       'HKCharacteristicTypeIdentifierCardioFitnessMedicationsUse', 'type',\n       'sourceName', 'sourceVersion', 'unit', 'creationDate', 'startDate',\n       'endDate', 'device', 'MetadataEntry', 'Record', 'SensitivityPoint',\n       'workoutActivityType', 'duration', 'durationUnit', 'totalDistance',\n       'totalDistanceUnit', 'totalEnergyBurned', 'totalEnergyBurnedUnit',\n       'WorkoutEvent', 'dateComponents', 'activeEnergyBurned',\n       'activeEnergyBurnedGoal', 'activeEnergyBurnedUnit', 'appleMoveTime',\n       'appleMoveTimeGoal', 'appleExerciseTime', 'appleExerciseTimeGoal',\n       'appleStandHours', 'appleStandHoursGoal',\n       'HeartRateVariabilityMetadataList', 'identifier', 'sourceURL',\n       'fhirVersion', 'receivedDate', 'resourceFilePath'],\n      dtype='object')"
     },
     "execution_count": 18,
     "metadata": {},
     "output_type": "execute_result"
    }
   ],
   "source": [
    "hf.columns"
   ],
   "metadata": {
    "collapsed": false,
    "pycharm": {
     "name": "#%%\n"
    }
   }
  },
  {
   "cell_type": "code",
   "execution_count": 19,
   "outputs": [
    {
     "name": "stdout",
     "output_type": "stream",
     "text": [
      "<class 'pandas.core.frame.DataFrame'>\n",
      "RangeIndex: 1232153 entries, 0 to 1232152\n",
      "Data columns (total 41 columns):\n",
      " #   Column                                                     Non-Null Count    Dtype  \n",
      "---  ------                                                     --------------    -----  \n",
      " 0   value                                                      1229430 non-null  object \n",
      " 1   HKCharacteristicTypeIdentifierDateOfBirth                  1 non-null        object \n",
      " 2   HKCharacteristicTypeIdentifierBiologicalSex                1 non-null        object \n",
      " 3   HKCharacteristicTypeIdentifierBloodType                    1 non-null        object \n",
      " 4   HKCharacteristicTypeIdentifierFitzpatrickSkinType          1 non-null        object \n",
      " 5   HKCharacteristicTypeIdentifierCardioFitnessMedicationsUse  1 non-null        object \n",
      " 6   type                                                       1230928 non-null  object \n",
      " 7   sourceName                                                 1231567 non-null  object \n",
      " 8   sourceVersion                                              1220858 non-null  object \n",
      " 9   unit                                                       1218922 non-null  object \n",
      " 10  creationDate                                               1230957 non-null  object \n",
      " 11  startDate                                                  1230957 non-null  object \n",
      " 12  endDate                                                    1230957 non-null  object \n",
      " 13  device                                                     1188483 non-null  object \n",
      " 14  MetadataEntry                                              0 non-null        float64\n",
      " 15  Record                                                     0 non-null        float64\n",
      " 16  SensitivityPoint                                           0 non-null        float64\n",
      " 17  workoutActivityType                                        639 non-null      object \n",
      " 18  duration                                                   639 non-null      float64\n",
      " 19  durationUnit                                               639 non-null      object \n",
      " 20  totalDistance                                              639 non-null      float64\n",
      " 21  totalDistanceUnit                                          639 non-null      object \n",
      " 22  totalEnergyBurned                                          639 non-null      float64\n",
      " 23  totalEnergyBurnedUnit                                      639 non-null      object \n",
      " 24  WorkoutEvent                                               0 non-null        float64\n",
      " 25  dateComponents                                             584 non-null      object \n",
      " 26  activeEnergyBurned                                         584 non-null      float64\n",
      " 27  activeEnergyBurnedGoal                                     584 non-null      float64\n",
      " 28  activeEnergyBurnedUnit                                     584 non-null      object \n",
      " 29  appleMoveTime                                              584 non-null      float64\n",
      " 30  appleMoveTimeGoal                                          584 non-null      float64\n",
      " 31  appleExerciseTime                                          584 non-null      float64\n",
      " 32  appleExerciseTimeGoal                                      584 non-null      float64\n",
      " 33  appleStandHours                                            584 non-null      float64\n",
      " 34  appleStandHoursGoal                                        584 non-null      float64\n",
      " 35  HeartRateVariabilityMetadataList                           0 non-null        float64\n",
      " 36  identifier                                                 610 non-null      object \n",
      " 37  sourceURL                                                  610 non-null      object \n",
      " 38  fhirVersion                                                610 non-null      object \n",
      " 39  receivedDate                                               610 non-null      object \n",
      " 40  resourceFilePath                                           610 non-null      object \n",
      "dtypes: float64(16), object(25)\n",
      "memory usage: 385.4+ MB\n"
     ]
    }
   ],
   "source": [
    "hf.info()"
   ],
   "metadata": {
    "collapsed": false,
    "pycharm": {
     "name": "#%%\n"
    }
   }
  },
  {
   "cell_type": "markdown",
   "source": [
    "# Refine Dataset\n",
    "\n",
    "Extract columns and rows with useful information."
   ],
   "metadata": {
    "collapsed": false,
    "pycharm": {
     "name": "#%% md\n"
    }
   }
  },
  {
   "cell_type": "markdown",
   "source": [
    "#### Refine columns (pass 1)"
   ],
   "metadata": {
    "collapsed": false
   }
  },
  {
   "cell_type": "code",
   "execution_count": 20,
   "outputs": [
    {
     "data": {
      "text/plain": "(1232153, 9)"
     },
     "execution_count": 20,
     "metadata": {},
     "output_type": "execute_result"
    }
   ],
   "source": [
    "health_file = hf.loc[:, ['value', 'type', 'sourceName', 'sourceVersion', 'unit',\n",
    "                         'creationDate', 'startDate', 'endDate', 'device']]\n",
    "health_file.shape"
   ],
   "metadata": {
    "collapsed": false,
    "pycharm": {
     "name": "#%%\n"
    }
   }
  },
  {
   "cell_type": "code",
   "execution_count": 21,
   "outputs": [
    {
     "name": "stdout",
     "output_type": "stream",
     "text": [
      "<class 'pandas.core.frame.DataFrame'>\n",
      "RangeIndex: 1232153 entries, 0 to 1232152\n",
      "Data columns (total 9 columns):\n",
      " #   Column         Non-Null Count    Dtype \n",
      "---  ------         --------------    ----- \n",
      " 0   value          1229430 non-null  object\n",
      " 1   type           1230928 non-null  object\n",
      " 2   sourceName     1231567 non-null  object\n",
      " 3   sourceVersion  1220858 non-null  object\n",
      " 4   unit           1218922 non-null  object\n",
      " 5   creationDate   1230957 non-null  object\n",
      " 6   startDate      1230957 non-null  object\n",
      " 7   endDate        1230957 non-null  object\n",
      " 8   device         1188483 non-null  object\n",
      "dtypes: object(9)\n",
      "memory usage: 84.6+ MB\n"
     ]
    }
   ],
   "source": [
    "health_file.info()"
   ],
   "metadata": {
    "collapsed": false,
    "pycharm": {
     "name": "#%%\n"
    }
   }
  },
  {
   "cell_type": "markdown",
   "source": [
    "#### Refine Rows"
   ],
   "metadata": {
    "collapsed": false
   }
  },
  {
   "cell_type": "code",
   "execution_count": 22,
   "outputs": [
    {
     "data": {
      "text/plain": "                       value                               type  \\\n0  2021-10-31 12:17:44 -0400                               None   \n1                       None                               None   \n2                       5.75     HKQuantityTypeIdentifierHeight   \n3                    5.83333     HKQuantityTypeIdentifierHeight   \n4                        170   HKQuantityTypeIdentifierBodyMass   \n5                         67  HKQuantityTypeIdentifierHeartRate   \n6                         67  HKQuantityTypeIdentifierHeartRate   \n\n              sourceName sourceVersion       unit               creationDate  \\\n0                   None          None       None                       None   \n1                   None          None       None                       None   \n2                 iPhone          13.4         ft  2020-03-30 16:01:19 -0400   \n3    Stephen’s iPhone 11          15.0         ft  2021-09-21 13:20:50 -0400   \n4                 iPhone          13.4         lb  2020-03-30 16:01:19 -0400   \n5  Stephen’s Apple Watch         6.1.3  count/min  2020-03-30 16:13:44 -0400   \n6  Stephen’s Apple Watch         6.1.3  count/min  2020-03-30 16:18:49 -0400   \n\n                   startDate                    endDate  \\\n0                       None                       None   \n1                       None                       None   \n2  2020-03-30 16:01:19 -0400  2020-03-30 16:01:19 -0400   \n3  2021-09-21 13:20:50 -0400  2021-09-21 13:20:50 -0400   \n4  2020-03-30 16:01:19 -0400  2020-03-30 16:01:19 -0400   \n5  2020-03-30 16:11:49 -0400  2020-03-30 16:11:49 -0400   \n6  2020-03-30 16:16:17 -0400  2020-03-30 16:16:17 -0400   \n\n                                              device  \n0                                               None  \n1                                               None  \n2                                               None  \n3                                               None  \n4                                               None  \n5  <<HKDevice: 0x2839b57c0>, name:Apple Watch, ma...  \n6  <<HKDevice: 0x2839b57c0>, name:Apple Watch, ma...  ",
      "text/html": "<div>\n<style scoped>\n    .dataframe tbody tr th:only-of-type {\n        vertical-align: middle;\n    }\n\n    .dataframe tbody tr th {\n        vertical-align: top;\n    }\n\n    .dataframe thead th {\n        text-align: right;\n    }\n</style>\n<table border=\"1\" class=\"dataframe\">\n  <thead>\n    <tr style=\"text-align: right;\">\n      <th></th>\n      <th>value</th>\n      <th>type</th>\n      <th>sourceName</th>\n      <th>sourceVersion</th>\n      <th>unit</th>\n      <th>creationDate</th>\n      <th>startDate</th>\n      <th>endDate</th>\n      <th>device</th>\n    </tr>\n  </thead>\n  <tbody>\n    <tr>\n      <th>0</th>\n      <td>2021-10-31 12:17:44 -0400</td>\n      <td>None</td>\n      <td>None</td>\n      <td>None</td>\n      <td>None</td>\n      <td>None</td>\n      <td>None</td>\n      <td>None</td>\n      <td>None</td>\n    </tr>\n    <tr>\n      <th>1</th>\n      <td>None</td>\n      <td>None</td>\n      <td>None</td>\n      <td>None</td>\n      <td>None</td>\n      <td>None</td>\n      <td>None</td>\n      <td>None</td>\n      <td>None</td>\n    </tr>\n    <tr>\n      <th>2</th>\n      <td>5.75</td>\n      <td>HKQuantityTypeIdentifierHeight</td>\n      <td>iPhone</td>\n      <td>13.4</td>\n      <td>ft</td>\n      <td>2020-03-30 16:01:19 -0400</td>\n      <td>2020-03-30 16:01:19 -0400</td>\n      <td>2020-03-30 16:01:19 -0400</td>\n      <td>None</td>\n    </tr>\n    <tr>\n      <th>3</th>\n      <td>5.83333</td>\n      <td>HKQuantityTypeIdentifierHeight</td>\n      <td>Stephen’s iPhone 11</td>\n      <td>15.0</td>\n      <td>ft</td>\n      <td>2021-09-21 13:20:50 -0400</td>\n      <td>2021-09-21 13:20:50 -0400</td>\n      <td>2021-09-21 13:20:50 -0400</td>\n      <td>None</td>\n    </tr>\n    <tr>\n      <th>4</th>\n      <td>170</td>\n      <td>HKQuantityTypeIdentifierBodyMass</td>\n      <td>iPhone</td>\n      <td>13.4</td>\n      <td>lb</td>\n      <td>2020-03-30 16:01:19 -0400</td>\n      <td>2020-03-30 16:01:19 -0400</td>\n      <td>2020-03-30 16:01:19 -0400</td>\n      <td>None</td>\n    </tr>\n    <tr>\n      <th>5</th>\n      <td>67</td>\n      <td>HKQuantityTypeIdentifierHeartRate</td>\n      <td>Stephen’s Apple Watch</td>\n      <td>6.1.3</td>\n      <td>count/min</td>\n      <td>2020-03-30 16:13:44 -0400</td>\n      <td>2020-03-30 16:11:49 -0400</td>\n      <td>2020-03-30 16:11:49 -0400</td>\n      <td>&lt;&lt;HKDevice: 0x2839b57c0&gt;, name:Apple Watch, ma...</td>\n    </tr>\n    <tr>\n      <th>6</th>\n      <td>67</td>\n      <td>HKQuantityTypeIdentifierHeartRate</td>\n      <td>Stephen’s Apple Watch</td>\n      <td>6.1.3</td>\n      <td>count/min</td>\n      <td>2020-03-30 16:18:49 -0400</td>\n      <td>2020-03-30 16:16:17 -0400</td>\n      <td>2020-03-30 16:16:17 -0400</td>\n      <td>&lt;&lt;HKDevice: 0x2839b57c0&gt;, name:Apple Watch, ma...</td>\n    </tr>\n  </tbody>\n</table>\n</div>"
     },
     "execution_count": 22,
     "metadata": {},
     "output_type": "execute_result"
    }
   ],
   "source": [
    "health_file.head(7)"
   ],
   "metadata": {
    "collapsed": false,
    "pycharm": {
     "name": "#%%\n"
    }
   }
  },
  {
   "cell_type": "code",
   "execution_count": 23,
   "outputs": [
    {
     "data": {
      "text/plain": "        value              type  sourceName sourceVersion  unit creationDate  \\\n1232148  None  DiagnosticReport  OhioHealth          None  None         None   \n1232149  None  DiagnosticReport  OhioHealth          None  None         None   \n1232150  None  DiagnosticReport  OhioHealth          None  None         None   \n1232151  None  DiagnosticReport  OhioHealth          None  None         None   \n1232152  None           Patient  OhioHealth          None  None         None   \n\n        startDate endDate device  \n1232148      None    None   None  \n1232149      None    None   None  \n1232150      None    None   None  \n1232151      None    None   None  \n1232152      None    None   None  ",
      "text/html": "<div>\n<style scoped>\n    .dataframe tbody tr th:only-of-type {\n        vertical-align: middle;\n    }\n\n    .dataframe tbody tr th {\n        vertical-align: top;\n    }\n\n    .dataframe thead th {\n        text-align: right;\n    }\n</style>\n<table border=\"1\" class=\"dataframe\">\n  <thead>\n    <tr style=\"text-align: right;\">\n      <th></th>\n      <th>value</th>\n      <th>type</th>\n      <th>sourceName</th>\n      <th>sourceVersion</th>\n      <th>unit</th>\n      <th>creationDate</th>\n      <th>startDate</th>\n      <th>endDate</th>\n      <th>device</th>\n    </tr>\n  </thead>\n  <tbody>\n    <tr>\n      <th>1232148</th>\n      <td>None</td>\n      <td>DiagnosticReport</td>\n      <td>OhioHealth</td>\n      <td>None</td>\n      <td>None</td>\n      <td>None</td>\n      <td>None</td>\n      <td>None</td>\n      <td>None</td>\n    </tr>\n    <tr>\n      <th>1232149</th>\n      <td>None</td>\n      <td>DiagnosticReport</td>\n      <td>OhioHealth</td>\n      <td>None</td>\n      <td>None</td>\n      <td>None</td>\n      <td>None</td>\n      <td>None</td>\n      <td>None</td>\n    </tr>\n    <tr>\n      <th>1232150</th>\n      <td>None</td>\n      <td>DiagnosticReport</td>\n      <td>OhioHealth</td>\n      <td>None</td>\n      <td>None</td>\n      <td>None</td>\n      <td>None</td>\n      <td>None</td>\n      <td>None</td>\n    </tr>\n    <tr>\n      <th>1232151</th>\n      <td>None</td>\n      <td>DiagnosticReport</td>\n      <td>OhioHealth</td>\n      <td>None</td>\n      <td>None</td>\n      <td>None</td>\n      <td>None</td>\n      <td>None</td>\n      <td>None</td>\n    </tr>\n    <tr>\n      <th>1232152</th>\n      <td>None</td>\n      <td>Patient</td>\n      <td>OhioHealth</td>\n      <td>None</td>\n      <td>None</td>\n      <td>None</td>\n      <td>None</td>\n      <td>None</td>\n      <td>None</td>\n    </tr>\n  </tbody>\n</table>\n</div>"
     },
     "execution_count": 23,
     "metadata": {},
     "output_type": "execute_result"
    }
   ],
   "source": [
    "health_file.tail()"
   ],
   "metadata": {
    "collapsed": false,
    "pycharm": {
     "name": "#%%\n"
    }
   }
  },
  {
   "cell_type": "code",
   "execution_count": 24,
   "outputs": [
    {
     "data": {
      "text/plain": "HKQuantityTypeIdentifierActiveEnergyBurned                575015\nHKQuantityTypeIdentifierBasalEnergyBurned                 218602\nHKQuantityTypeIdentifierHeartRate                         188620\nHKQuantityTypeIdentifierDistanceWalkingRunning             67300\nHKQuantityTypeIdentifierStepCount                          58980\nHKQuantityTypeIdentifierAppleStandTime                     32647\nHKQuantityTypeIdentifierAppleExerciseTime                  27353\nHKQuantityTypeIdentifierEnvironmentalAudioExposure         18886\nHKQuantityTypeIdentifierFlightsClimbed                     10822\nHKCategoryTypeIdentifierAppleStandHour                      9669\nHKQuantityTypeIdentifierStairDescentSpeed                   4412\nHKQuantityTypeIdentifierWalkingSpeed                        3322\nHKQuantityTypeIdentifierWalkingStepLength                   3322\nHKQuantityTypeIdentifierHeartRateVariabilitySDNN            2979\nHKQuantityTypeIdentifierWalkingDoubleSupportPercentage      2130\nHKQuantityTypeIdentifierStairAscentSpeed                    1909\nHKCategoryTypeIdentifierSleepAnalysis                        834\nHKQuantityTypeIdentifierHeadphoneAudioExposure               731\nHKCategoryTypeIdentifierMindfulSession                       592\nHKQuantityTypeIdentifierRestingHeartRate                     584\nHKQuantityTypeIdentifierWalkingHeartRateAverage              584\nObservation                                                  387\nHKQuantityTypeIdentifierBloodPressureDiastolic               282\nHKCorrelationTypeIdentifierBloodPressure                     282\nHKQuantityTypeIdentifierBloodPressureSystolic                282\nHKQuantityTypeIdentifierWalkingAsymmetryPercentage           105\nMedicationStatement                                           91\nMedicationOrder                                               68\nDiagnosticReport                                              40\nHKQuantityTypeIdentifierSixMinuteWalkTestDistance             38\nHKCategoryTypeIdentifierHandwashingEvent                      12\nCondition                                                     10\nImmunization                                                   9\nHKQuantityTypeIdentifierNumberOfTimesFallen                    8\nHKQuantityTypeIdentifierAppleWalkingSteadiness                 4\nHKCategoryTypeIdentifierAudioExposureEvent                     4\nProcedure                                                      3\nHKDataTypeIdentifierAudiogram                                  3\nHKQuantityTypeIdentifierHeight                                 2\nHKDataTypeSleepDurationGoal                                    2\nAllergyIntolerance                                             1\nHKQuantityTypeIdentifierBodyMass                               1\nPatient                                                        1\nName: type, dtype: int64"
     },
     "execution_count": 24,
     "metadata": {},
     "output_type": "execute_result"
    }
   ],
   "source": [
    "health_file['type'].value_counts()"
   ],
   "metadata": {
    "collapsed": false,
    "pycharm": {
     "name": "#%%\n"
    }
   }
  },
  {
   "cell_type": "markdown",
   "source": [
    "#### Select rows with heart types. Refine columns (pass 2)"
   ],
   "metadata": {
    "collapsed": false
   }
  },
  {
   "cell_type": "code",
   "execution_count": 25,
   "outputs": [
    {
     "name": "stdout",
     "output_type": "stream",
     "text": [
      "<class 'pandas.core.frame.DataFrame'>\n",
      "Int64Index: 189184 entries, 5 to 189188\n",
      "Data columns (total 3 columns):\n",
      " #   Column  Non-Null Count   Dtype         \n",
      "---  ------  --------------   -----         \n",
      " 0   value   189184 non-null  float64       \n",
      " 1   type    189184 non-null  object        \n",
      " 2   date    189184 non-null  datetime64[ns]\n",
      "dtypes: datetime64[ns](1), float64(1), object(1)\n",
      "memory usage: 5.8+ MB\n"
     ]
    }
   ],
   "source": [
    "heart_rate = health_file['type'] == 'HKQuantityTypeIdentifierHeartRate'\n",
    "bp_diastolic = health_file['type'] == 'HKQuantityTypeIdentifierBloodPressureDiastolic'\n",
    "bp_systolic = health_file['type'] == 'HKQuantityTypeIdentifierBloodPressureSystolic'\n",
    "ds = health_file.loc[heart_rate | bp_diastolic | bp_systolic, ['value', 'type', 'startDate']]\n",
    "ds.loc[:, 'value'] = ds['value'].astype('float')\n",
    "ds = ds.rename(columns={'startDate': 'date'})\n",
    "ds.loc[:, 'date'] = ds['date'].astype('datetime64[ns]')\n",
    "ds.info()"
   ],
   "metadata": {
    "collapsed": false,
    "pycharm": {
     "name": "#%%\n"
    }
   }
  },
  {
   "cell_type": "code",
   "execution_count": 26,
   "outputs": [],
   "source": [
    "ds.to_pickle(heart_rate_pickle)"
   ],
   "metadata": {
    "collapsed": false,
    "pycharm": {
     "name": "#%%\n"
    }
   }
  }
 ],
 "metadata": {
  "kernelspec": {
   "display_name": "Python 3",
   "language": "python",
   "name": "python3"
  },
  "language_info": {
   "codemirror_mode": {
    "name": "ipython",
    "version": 2
   },
   "file_extension": ".py",
   "mimetype": "text/x-python",
   "name": "python",
   "nbconvert_exporter": "python",
   "pygments_lexer": "ipython2",
   "version": "2.7.6"
  }
 },
 "nbformat": 4,
 "nbformat_minor": 0
}