{
 "cells": [
  {
   "cell_type": "markdown",
   "metadata": {
    "collapsed": true,
    "pycharm": {
     "name": "#%% md\n"
    }
   },
   "source": [
    "# Alcohol Boxenplot\n",
    "\n",
    "Create a boxenplot suitable for showing the effect of categorized ranges of values. <br />\n",
    "Example showing categorization into groups of 15 (15ml is roughly a glass of wine): <br />\n",
    "0 -> 0 <br />\n",
    "12 -> 15 <br />\n",
    "32 -> 45 <br />"
   ]
  },
  {
   "cell_type": "markdown",
   "source": [
    "Copyright ©2022. Stephen Rigden. This program is free software: you can redistribute it and/or modify\n",
    "it under the terms of the GNU General Public License as published by the Free Software Foundation, either version 3 of the License, or (at your option) any later version. This program is distributed in the hope that it will be useful, but WITHOUT ANY WARRANTY; without even the implied warranty of MERCHANTABILITY or FITNESS FOR A PARTICULAR PURPOSE. See the GNU General Public License for more details. You should have received a copy of the GNU General Public License along with this program. If not, see https://www.gnu.org/licenses/."
   ],
   "metadata": {
    "collapsed": false
   }
  },
  {
   "cell_type": "code",
   "execution_count": 42,
   "outputs": [],
   "source": [
    "import pandas\n",
    "from pathlib import Path\n",
    "\n",
    "import seaborn\n",
    "from matplotlib import pyplot\n",
    "\n",
    "\n",
    "seaborn.set_style('darkgrid')  # one of {darkgrid, whitegrid, dark, white, ticks}"
   ],
   "metadata": {
    "collapsed": false,
    "pycharm": {
     "name": "#%%\n"
    }
   }
  },
  {
   "cell_type": "code",
   "execution_count": 43,
   "outputs": [],
   "source": [
    "# Set file paths\n",
    "project_path = Path.cwd().parent.parent\n",
    "heart_and_externals_pickle = project_path / 'data' / 'processed' / 'heart_and_externals.pickle'\n",
    "alcohol_pdf = project_path / 'reports' / 'alcohol.pdf'\n",
    "alcohol_jpg = project_path / 'reports' / 'alcohol.jpg'"
   ],
   "metadata": {
    "collapsed": false,
    "pycharm": {
     "name": "#%%\n"
    }
   }
  },
  {
   "cell_type": "code",
   "execution_count": 44,
   "outputs": [],
   "source": [
    "GLASS_OF_WINE = 15  # ml of alcohol in glass of wine"
   ],
   "metadata": {
    "collapsed": false,
    "pycharm": {
     "name": "#%%\n"
    }
   }
  },
  {
   "cell_type": "markdown",
   "source": [
    "### Load and view the data"
   ],
   "metadata": {
    "collapsed": false,
    "pycharm": {
     "name": "#%% md\n"
    }
   }
  },
  {
   "cell_type": "code",
   "execution_count": 45,
   "outputs": [
    {
     "name": "stdout",
     "output_type": "stream",
     "text": [
      "<class 'pandas.core.frame.DataFrame'>\n",
      "Int64Index: 336 entries, 0 to 335\n",
      "Data columns (total 6 columns):\n",
      " #   Column          Non-Null Count  Dtype         \n",
      "---  ------          --------------  -----         \n",
      " 0   date            336 non-null    datetime64[ns]\n",
      " 1   systolic        336 non-null    float64       \n",
      " 2   diastolic       336 non-null    float64       \n",
      " 3   pulse pressure  336 non-null    float64       \n",
      " 4   heart_tablets   336 non-null    Int64         \n",
      " 5   alcohol         336 non-null    Int64         \n",
      "dtypes: Int64(2), datetime64[ns](1), float64(3)\n",
      "memory usage: 19.0 KB\n"
     ]
    }
   ],
   "source": [
    "dataset = pandas.read_pickle(heart_and_externals_pickle)\n",
    "dataset.info()"
   ],
   "metadata": {
    "collapsed": false,
    "pycharm": {
     "name": "#%%\n"
    }
   }
  },
  {
   "cell_type": "code",
   "execution_count": 46,
   "outputs": [
    {
     "data": {
      "text/plain": "                 date  systolic  diastolic  pulse pressure  heart_tablets  \\\n0 1875-06-01 00:00:00     122.0       87.0            35.0              2   \n1 1875-06-01 06:00:00     155.0       91.0            64.0              2   \n2 1875-06-01 12:00:00     125.0       88.0            37.0              2   \n3 1875-06-01 18:00:00     127.0       81.0            46.0              2   \n4 1875-06-02 00:00:00     109.0       78.0            31.0              2   \n\n   alcohol  \n0        0  \n1        0  \n2        0  \n3        0  \n4      177  ",
      "text/html": "<div>\n<style scoped>\n    .dataframe tbody tr th:only-of-type {\n        vertical-align: middle;\n    }\n\n    .dataframe tbody tr th {\n        vertical-align: top;\n    }\n\n    .dataframe thead th {\n        text-align: right;\n    }\n</style>\n<table border=\"1\" class=\"dataframe\">\n  <thead>\n    <tr style=\"text-align: right;\">\n      <th></th>\n      <th>date</th>\n      <th>systolic</th>\n      <th>diastolic</th>\n      <th>pulse pressure</th>\n      <th>heart_tablets</th>\n      <th>alcohol</th>\n    </tr>\n  </thead>\n  <tbody>\n    <tr>\n      <th>0</th>\n      <td>1875-06-01 00:00:00</td>\n      <td>122.0</td>\n      <td>87.0</td>\n      <td>35.0</td>\n      <td>2</td>\n      <td>0</td>\n    </tr>\n    <tr>\n      <th>1</th>\n      <td>1875-06-01 06:00:00</td>\n      <td>155.0</td>\n      <td>91.0</td>\n      <td>64.0</td>\n      <td>2</td>\n      <td>0</td>\n    </tr>\n    <tr>\n      <th>2</th>\n      <td>1875-06-01 12:00:00</td>\n      <td>125.0</td>\n      <td>88.0</td>\n      <td>37.0</td>\n      <td>2</td>\n      <td>0</td>\n    </tr>\n    <tr>\n      <th>3</th>\n      <td>1875-06-01 18:00:00</td>\n      <td>127.0</td>\n      <td>81.0</td>\n      <td>46.0</td>\n      <td>2</td>\n      <td>0</td>\n    </tr>\n    <tr>\n      <th>4</th>\n      <td>1875-06-02 00:00:00</td>\n      <td>109.0</td>\n      <td>78.0</td>\n      <td>31.0</td>\n      <td>2</td>\n      <td>177</td>\n    </tr>\n  </tbody>\n</table>\n</div>"
     },
     "execution_count": 46,
     "metadata": {},
     "output_type": "execute_result"
    }
   ],
   "source": [
    "dataset.head()"
   ],
   "metadata": {
    "collapsed": false,
    "pycharm": {
     "name": "#%%\n"
    }
   }
  },
  {
   "cell_type": "code",
   "execution_count": 47,
   "outputs": [
    {
     "data": {
      "text/plain": "                   date  systolic  diastolic  pulse pressure  heart_tablets  \\\n331 1875-08-22 18:00:00     129.0       87.0            42.0              2   \n332 1875-08-23 00:00:00     113.0       78.0            35.0              2   \n333 1875-08-23 06:00:00     128.0       82.0            46.0              2   \n334 1875-08-23 12:00:00     102.0       78.0            24.0              2   \n335 1875-08-23 18:00:00     125.0       89.0            36.0              2   \n\n     alcohol  \n331        0  \n332        0  \n333        0  \n334        0  \n335        0  ",
      "text/html": "<div>\n<style scoped>\n    .dataframe tbody tr th:only-of-type {\n        vertical-align: middle;\n    }\n\n    .dataframe tbody tr th {\n        vertical-align: top;\n    }\n\n    .dataframe thead th {\n        text-align: right;\n    }\n</style>\n<table border=\"1\" class=\"dataframe\">\n  <thead>\n    <tr style=\"text-align: right;\">\n      <th></th>\n      <th>date</th>\n      <th>systolic</th>\n      <th>diastolic</th>\n      <th>pulse pressure</th>\n      <th>heart_tablets</th>\n      <th>alcohol</th>\n    </tr>\n  </thead>\n  <tbody>\n    <tr>\n      <th>331</th>\n      <td>1875-08-22 18:00:00</td>\n      <td>129.0</td>\n      <td>87.0</td>\n      <td>42.0</td>\n      <td>2</td>\n      <td>0</td>\n    </tr>\n    <tr>\n      <th>332</th>\n      <td>1875-08-23 00:00:00</td>\n      <td>113.0</td>\n      <td>78.0</td>\n      <td>35.0</td>\n      <td>2</td>\n      <td>0</td>\n    </tr>\n    <tr>\n      <th>333</th>\n      <td>1875-08-23 06:00:00</td>\n      <td>128.0</td>\n      <td>82.0</td>\n      <td>46.0</td>\n      <td>2</td>\n      <td>0</td>\n    </tr>\n    <tr>\n      <th>334</th>\n      <td>1875-08-23 12:00:00</td>\n      <td>102.0</td>\n      <td>78.0</td>\n      <td>24.0</td>\n      <td>2</td>\n      <td>0</td>\n    </tr>\n    <tr>\n      <th>335</th>\n      <td>1875-08-23 18:00:00</td>\n      <td>125.0</td>\n      <td>89.0</td>\n      <td>36.0</td>\n      <td>2</td>\n      <td>0</td>\n    </tr>\n  </tbody>\n</table>\n</div>"
     },
     "execution_count": 47,
     "metadata": {},
     "output_type": "execute_result"
    }
   ],
   "source": [
    "dataset.tail()"
   ],
   "metadata": {
    "collapsed": false,
    "pycharm": {
     "name": "#%%\n"
    }
   }
  },
  {
   "cell_type": "markdown",
   "source": [
    "### Create alcohol category column"
   ],
   "metadata": {
    "collapsed": false
   }
  },
  {
   "cell_type": "code",
   "source": [
    "dataset['alcohol_cat'] = dataset.loc[:, 'alcohol'].apply(lambda x: (x - 1) // GLASS_OF_WINE + 1)\n",
    "dataset.head()"
   ],
   "metadata": {
    "collapsed": false,
    "pycharm": {
     "name": "#%%\n"
    }
   },
   "execution_count": 48,
   "outputs": [
    {
     "data": {
      "text/plain": "                 date  systolic  diastolic  pulse pressure  heart_tablets  \\\n0 1875-06-01 00:00:00     122.0       87.0            35.0              2   \n1 1875-06-01 06:00:00     155.0       91.0            64.0              2   \n2 1875-06-01 12:00:00     125.0       88.0            37.0              2   \n3 1875-06-01 18:00:00     127.0       81.0            46.0              2   \n4 1875-06-02 00:00:00     109.0       78.0            31.0              2   \n\n   alcohol  alcohol_cat  \n0        0            0  \n1        0            0  \n2        0            0  \n3        0            0  \n4      177           12  ",
      "text/html": "<div>\n<style scoped>\n    .dataframe tbody tr th:only-of-type {\n        vertical-align: middle;\n    }\n\n    .dataframe tbody tr th {\n        vertical-align: top;\n    }\n\n    .dataframe thead th {\n        text-align: right;\n    }\n</style>\n<table border=\"1\" class=\"dataframe\">\n  <thead>\n    <tr style=\"text-align: right;\">\n      <th></th>\n      <th>date</th>\n      <th>systolic</th>\n      <th>diastolic</th>\n      <th>pulse pressure</th>\n      <th>heart_tablets</th>\n      <th>alcohol</th>\n      <th>alcohol_cat</th>\n    </tr>\n  </thead>\n  <tbody>\n    <tr>\n      <th>0</th>\n      <td>1875-06-01 00:00:00</td>\n      <td>122.0</td>\n      <td>87.0</td>\n      <td>35.0</td>\n      <td>2</td>\n      <td>0</td>\n      <td>0</td>\n    </tr>\n    <tr>\n      <th>1</th>\n      <td>1875-06-01 06:00:00</td>\n      <td>155.0</td>\n      <td>91.0</td>\n      <td>64.0</td>\n      <td>2</td>\n      <td>0</td>\n      <td>0</td>\n    </tr>\n    <tr>\n      <th>2</th>\n      <td>1875-06-01 12:00:00</td>\n      <td>125.0</td>\n      <td>88.0</td>\n      <td>37.0</td>\n      <td>2</td>\n      <td>0</td>\n      <td>0</td>\n    </tr>\n    <tr>\n      <th>3</th>\n      <td>1875-06-01 18:00:00</td>\n      <td>127.0</td>\n      <td>81.0</td>\n      <td>46.0</td>\n      <td>2</td>\n      <td>0</td>\n      <td>0</td>\n    </tr>\n    <tr>\n      <th>4</th>\n      <td>1875-06-02 00:00:00</td>\n      <td>109.0</td>\n      <td>78.0</td>\n      <td>31.0</td>\n      <td>2</td>\n      <td>177</td>\n      <td>12</td>\n    </tr>\n  </tbody>\n</table>\n</div>"
     },
     "execution_count": 48,
     "metadata": {},
     "output_type": "execute_result"
    }
   ]
  },
  {
   "cell_type": "code",
   "execution_count": 49,
   "outputs": [
    {
     "data": {
      "text/plain": "                   date  systolic  diastolic  pulse pressure  heart_tablets  \\\n331 1875-08-22 18:00:00     129.0       87.0            42.0              2   \n332 1875-08-23 00:00:00     113.0       78.0            35.0              2   \n333 1875-08-23 06:00:00     128.0       82.0            46.0              2   \n334 1875-08-23 12:00:00     102.0       78.0            24.0              2   \n335 1875-08-23 18:00:00     125.0       89.0            36.0              2   \n\n     alcohol  alcohol_cat  \n331        0            0  \n332        0            0  \n333        0            0  \n334        0            0  \n335        0            0  ",
      "text/html": "<div>\n<style scoped>\n    .dataframe tbody tr th:only-of-type {\n        vertical-align: middle;\n    }\n\n    .dataframe tbody tr th {\n        vertical-align: top;\n    }\n\n    .dataframe thead th {\n        text-align: right;\n    }\n</style>\n<table border=\"1\" class=\"dataframe\">\n  <thead>\n    <tr style=\"text-align: right;\">\n      <th></th>\n      <th>date</th>\n      <th>systolic</th>\n      <th>diastolic</th>\n      <th>pulse pressure</th>\n      <th>heart_tablets</th>\n      <th>alcohol</th>\n      <th>alcohol_cat</th>\n    </tr>\n  </thead>\n  <tbody>\n    <tr>\n      <th>331</th>\n      <td>1875-08-22 18:00:00</td>\n      <td>129.0</td>\n      <td>87.0</td>\n      <td>42.0</td>\n      <td>2</td>\n      <td>0</td>\n      <td>0</td>\n    </tr>\n    <tr>\n      <th>332</th>\n      <td>1875-08-23 00:00:00</td>\n      <td>113.0</td>\n      <td>78.0</td>\n      <td>35.0</td>\n      <td>2</td>\n      <td>0</td>\n      <td>0</td>\n    </tr>\n    <tr>\n      <th>333</th>\n      <td>1875-08-23 06:00:00</td>\n      <td>128.0</td>\n      <td>82.0</td>\n      <td>46.0</td>\n      <td>2</td>\n      <td>0</td>\n      <td>0</td>\n    </tr>\n    <tr>\n      <th>334</th>\n      <td>1875-08-23 12:00:00</td>\n      <td>102.0</td>\n      <td>78.0</td>\n      <td>24.0</td>\n      <td>2</td>\n      <td>0</td>\n      <td>0</td>\n    </tr>\n    <tr>\n      <th>335</th>\n      <td>1875-08-23 18:00:00</td>\n      <td>125.0</td>\n      <td>89.0</td>\n      <td>36.0</td>\n      <td>2</td>\n      <td>0</td>\n      <td>0</td>\n    </tr>\n  </tbody>\n</table>\n</div>"
     },
     "execution_count": 49,
     "metadata": {},
     "output_type": "execute_result"
    }
   ],
   "source": [
    "dataset.tail()"
   ],
   "metadata": {
    "collapsed": false,
    "pycharm": {
     "name": "#%%\n"
    }
   }
  },
  {
   "cell_type": "markdown",
   "source": [
    "### Suppress categories of inadequate sample size.\n",
    "\n",
    "The following code cell offers two ways:\n",
    "- cutoff based on number of observations\n",
    "- cutoff based on the percentage of total observations."
   ],
   "metadata": {
    "collapsed": false
   }
  },
  {
   "cell_type": "code",
   "execution_count": 50,
   "outputs": [
    {
     "data": {
      "text/plain": "    alcohol_cat  include\n0           132     True\n2            92     True\n4            36     True\n3            20     True\n6            16     True\n7            12     True\n5            12     True\n8            12     True\n12            4    False",
      "text/html": "<div>\n<style scoped>\n    .dataframe tbody tr th:only-of-type {\n        vertical-align: middle;\n    }\n\n    .dataframe tbody tr th {\n        vertical-align: top;\n    }\n\n    .dataframe thead th {\n        text-align: right;\n    }\n</style>\n<table border=\"1\" class=\"dataframe\">\n  <thead>\n    <tr style=\"text-align: right;\">\n      <th></th>\n      <th>alcohol_cat</th>\n      <th>include</th>\n    </tr>\n  </thead>\n  <tbody>\n    <tr>\n      <th>0</th>\n      <td>132</td>\n      <td>True</td>\n    </tr>\n    <tr>\n      <th>2</th>\n      <td>92</td>\n      <td>True</td>\n    </tr>\n    <tr>\n      <th>4</th>\n      <td>36</td>\n      <td>True</td>\n    </tr>\n    <tr>\n      <th>3</th>\n      <td>20</td>\n      <td>True</td>\n    </tr>\n    <tr>\n      <th>6</th>\n      <td>16</td>\n      <td>True</td>\n    </tr>\n    <tr>\n      <th>7</th>\n      <td>12</td>\n      <td>True</td>\n    </tr>\n    <tr>\n      <th>5</th>\n      <td>12</td>\n      <td>True</td>\n    </tr>\n    <tr>\n      <th>8</th>\n      <td>12</td>\n      <td>True</td>\n    </tr>\n    <tr>\n      <th>12</th>\n      <td>4</td>\n      <td>False</td>\n    </tr>\n  </tbody>\n</table>\n</div>"
     },
     "execution_count": 50,
     "metadata": {},
     "output_type": "execute_result"
    }
   ],
   "source": [
    "# Create a value count dataset\n",
    "cutoff = 10  # Number of observations\n",
    "cat_counts = pandas.DataFrame(dataset.loc[:, 'alcohol_cat'].value_counts())\n",
    "cat_counts['include'] = cat_counts.loc[:, 'alcohol_cat'] > cutoff\n",
    "cat_counts\n",
    "\n",
    "# # Create a normalized dataset\n",
    "# cutoff = 0.05  # Percentage of total observations\n",
    "# cat_counts = pandas.DataFrame(dataset.loc[:, 'alcohol_cat'].value_counts(normalize=True))\n",
    "# cat_counts['include'] = cat_counts.loc[:, 'alcohol_cat'] > cutoff\n",
    "# cat_counts"
   ],
   "metadata": {
    "collapsed": false,
    "pycharm": {
     "name": "#%%\n"
    }
   }
  },
  {
   "cell_type": "code",
   "execution_count": 51,
   "outputs": [
    {
     "data": {
      "text/plain": "   alcohol_cat  include\n0            0     True\n1            2     True\n2            4     True\n3            3     True\n4            6     True\n5            7     True\n6            5     True\n7            8     True\n8           12    False",
      "text/html": "<div>\n<style scoped>\n    .dataframe tbody tr th:only-of-type {\n        vertical-align: middle;\n    }\n\n    .dataframe tbody tr th {\n        vertical-align: top;\n    }\n\n    .dataframe thead th {\n        text-align: right;\n    }\n</style>\n<table border=\"1\" class=\"dataframe\">\n  <thead>\n    <tr style=\"text-align: right;\">\n      <th></th>\n      <th>alcohol_cat</th>\n      <th>include</th>\n    </tr>\n  </thead>\n  <tbody>\n    <tr>\n      <th>0</th>\n      <td>0</td>\n      <td>True</td>\n    </tr>\n    <tr>\n      <th>1</th>\n      <td>2</td>\n      <td>True</td>\n    </tr>\n    <tr>\n      <th>2</th>\n      <td>4</td>\n      <td>True</td>\n    </tr>\n    <tr>\n      <th>3</th>\n      <td>3</td>\n      <td>True</td>\n    </tr>\n    <tr>\n      <th>4</th>\n      <td>6</td>\n      <td>True</td>\n    </tr>\n    <tr>\n      <th>5</th>\n      <td>7</td>\n      <td>True</td>\n    </tr>\n    <tr>\n      <th>6</th>\n      <td>5</td>\n      <td>True</td>\n    </tr>\n    <tr>\n      <th>7</th>\n      <td>8</td>\n      <td>True</td>\n    </tr>\n    <tr>\n      <th>8</th>\n      <td>12</td>\n      <td>False</td>\n    </tr>\n  </tbody>\n</table>\n</div>"
     },
     "execution_count": 51,
     "metadata": {},
     "output_type": "execute_result"
    }
   ],
   "source": [
    "# Convert into a lookup table\n",
    "cat_counts.reset_index(inplace=True)\n",
    "cat_counts = cat_counts.drop(['alcohol_cat'], axis=1)\n",
    "cat_counts = cat_counts.rename(columns={'index': 'alcohol_cat'})\n",
    "cat_counts"
   ],
   "metadata": {
    "collapsed": false,
    "pycharm": {
     "name": "#%%\n"
    }
   }
  },
  {
   "cell_type": "code",
   "execution_count": 52,
   "outputs": [
    {
     "data": {
      "text/plain": "                 date  systolic  diastolic  pulse pressure  heart_tablets  \\\n0 1875-06-01 00:00:00     122.0       87.0            35.0              2   \n1 1875-06-01 06:00:00     155.0       91.0            64.0              2   \n2 1875-06-01 12:00:00     125.0       88.0            37.0              2   \n3 1875-06-01 18:00:00     127.0       81.0            46.0              2   \n8 1875-06-03 00:00:00     113.0       90.0            23.0              2   \n\n   alcohol  alcohol_cat  include  \n0        0            0     True  \n1        0            0     True  \n2        0            0     True  \n3        0            0     True  \n8        0            0     True  ",
      "text/html": "<div>\n<style scoped>\n    .dataframe tbody tr th:only-of-type {\n        vertical-align: middle;\n    }\n\n    .dataframe tbody tr th {\n        vertical-align: top;\n    }\n\n    .dataframe thead th {\n        text-align: right;\n    }\n</style>\n<table border=\"1\" class=\"dataframe\">\n  <thead>\n    <tr style=\"text-align: right;\">\n      <th></th>\n      <th>date</th>\n      <th>systolic</th>\n      <th>diastolic</th>\n      <th>pulse pressure</th>\n      <th>heart_tablets</th>\n      <th>alcohol</th>\n      <th>alcohol_cat</th>\n      <th>include</th>\n    </tr>\n  </thead>\n  <tbody>\n    <tr>\n      <th>0</th>\n      <td>1875-06-01 00:00:00</td>\n      <td>122.0</td>\n      <td>87.0</td>\n      <td>35.0</td>\n      <td>2</td>\n      <td>0</td>\n      <td>0</td>\n      <td>True</td>\n    </tr>\n    <tr>\n      <th>1</th>\n      <td>1875-06-01 06:00:00</td>\n      <td>155.0</td>\n      <td>91.0</td>\n      <td>64.0</td>\n      <td>2</td>\n      <td>0</td>\n      <td>0</td>\n      <td>True</td>\n    </tr>\n    <tr>\n      <th>2</th>\n      <td>1875-06-01 12:00:00</td>\n      <td>125.0</td>\n      <td>88.0</td>\n      <td>37.0</td>\n      <td>2</td>\n      <td>0</td>\n      <td>0</td>\n      <td>True</td>\n    </tr>\n    <tr>\n      <th>3</th>\n      <td>1875-06-01 18:00:00</td>\n      <td>127.0</td>\n      <td>81.0</td>\n      <td>46.0</td>\n      <td>2</td>\n      <td>0</td>\n      <td>0</td>\n      <td>True</td>\n    </tr>\n    <tr>\n      <th>8</th>\n      <td>1875-06-03 00:00:00</td>\n      <td>113.0</td>\n      <td>90.0</td>\n      <td>23.0</td>\n      <td>2</td>\n      <td>0</td>\n      <td>0</td>\n      <td>True</td>\n    </tr>\n  </tbody>\n</table>\n</div>"
     },
     "execution_count": 52,
     "metadata": {},
     "output_type": "execute_result"
    }
   ],
   "source": [
    "# Select rows which are above the cutoff\n",
    "dataset = dataset.merge(cat_counts, how='left', left_on='alcohol_cat', right_on='alcohol_cat')\n",
    "dataset = dataset.loc[dataset['include'], :]\n",
    "dataset.head()"
   ],
   "metadata": {
    "collapsed": false,
    "pycharm": {
     "name": "#%%\n"
    }
   }
  },
  {
   "cell_type": "markdown",
   "source": [
    "### Plot"
   ],
   "metadata": {
    "collapsed": false,
    "pycharm": {
     "name": "#%% md\n"
    }
   }
  },
  {
   "cell_type": "code",
   "execution_count": 53,
   "outputs": [
    {
     "data": {
      "text/plain": "[Text(0.5, 0, 'Alcohol as 15ml glasses of wine'),\n Text(0, 0.5, 'observation count')]"
     },
     "execution_count": 53,
     "metadata": {},
     "output_type": "execute_result"
    },
    {
     "data": {
      "text/plain": "<Figure size 720x1584 with 4 Axes>",
      "image/png": "[encoded data removed]"
     },
     "metadata": {},
     "output_type": "display_data"
    }
   ],
   "source": [
    "fig, axes = pyplot.subplots(nrows=4, ncols=1, figsize=(10, 22))\n",
    "\n",
    "# Plot systolic\n",
    "seaborn.boxenplot(data=dataset,\n",
    "                  x='alcohol_cat', y='systolic',\n",
    "                  ax=axes[0], palette=['papayawhip'])\n",
    "\n",
    "# Plot diastolic\n",
    "seaborn.boxenplot(data=dataset,\n",
    "                  x='alcohol_cat', y='diastolic',\n",
    "                  ax=axes[1], palette=['azure'])\n",
    "\n",
    "# Plot pulse pressure\n",
    "seaborn.boxenplot(data=dataset,\n",
    "                  x='alcohol_cat', y='pulse pressure',\n",
    "                  ax=axes[2], palette=['seashell'])\n",
    "\n",
    "# Plot observation counts\n",
    "seaborn.countplot(data=dataset,\n",
    "                  x='alcohol_cat',\n",
    "                  ax=axes[3], palette=['aliceblue'])\n",
    "\n",
    "axes[0].set(xlabel=None)\n",
    "axes[1].set(xlabel=None)\n",
    "axes[2].set(xlabel=None)\n",
    "axes[3].set(xlabel=f\"Alcohol as 15ml glasses of wine\", ylabel='observation count')"
   ],
   "metadata": {
    "collapsed": false,
    "pycharm": {
     "name": "#%%\n"
    }
   }
  },
  {
   "cell_type": "code",
   "source": [
    "# Save the plots\n",
    "fig.savefig(alcohol_jpg)\n",
    "fig.savefig(alcohol_pdf)"
   ],
   "metadata": {
    "collapsed": false,
    "pycharm": {
     "name": "#%%\n"
    }
   },
   "execution_count": 54,
   "outputs": []
  }
 ],
 "metadata": {
  "kernelspec": {
   "display_name": "Python 3",
   "language": "python",
   "name": "python3"
  },
  "language_info": {
   "codemirror_mode": {
    "name": "ipython",
    "version": 2
   },
   "file_extension": ".py",
   "mimetype": "text/x-python",
   "name": "python",
   "nbconvert_exporter": "python",
   "pygments_lexer": "ipython2",
   "version": "2.7.6"
  }
 },
 "nbformat": 4,
 "nbformat_minor": 0
}