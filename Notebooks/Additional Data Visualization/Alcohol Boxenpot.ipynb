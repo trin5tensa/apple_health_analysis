{
 "cells": [
  {
   "cell_type": "markdown",
   "metadata": {
    "collapsed": true,
    "pycharm": {
     "name": "#%% md\n"
    }
   },
   "source": [
    "# Alcohol Boxenplot\n",
    "\n",
    "Create a boxenplot suitable for showing the effect of categorized ranges of values. <br />\n",
    "Example showing categorization into groups of 15 (15ml is roughly a glass of wine): <br />\n",
    "0 -> 0 <br />\n",
    "12 -> 15 <br />\n",
    "32 -> 45 <br />"
   ]
  },
  {
   "cell_type": "markdown",
   "source": [
    "Copyright ©2022. Stephen Rigden. This program is free software: you can redistribute it and/or modify it under the terms of the GNU General Public License as published by the Free Software Foundation, either version 3 of the License, or (at your option) any later version. This program is distributed in the hope that it will be useful, but WITHOUT ANY WARRANTY; without even the implied warranty of MERCHANTABILITY or FITNESS FOR A PARTICULAR PURPOSE. See the GNU General Public License for more details. You should have received a copy of the GNU General Public License along with this program. If not, see http://www.gnu.org/licenses/."
   ],
   "metadata": {
    "collapsed": false
   }
  },
  {
   "cell_type": "code",
   "execution_count": 1,
   "outputs": [],
   "source": [
    "import pandas\n",
    "from pathlib import Path\n",
    "\n",
    "import seaborn\n",
    "from matplotlib import pyplot\n",
    "\n",
    "\n",
    "seaborn.set_style('darkgrid')  # one of {darkgrid, whitegrid, dark, white, ticks}"
   ],
   "metadata": {
    "collapsed": false,
    "pycharm": {
     "name": "#%%\n"
    }
   }
  },
  {
   "cell_type": "code",
   "execution_count": 2,
   "outputs": [],
   "source": [
    "# Set file paths\n",
    "project_path = Path.cwd().parent.parent\n",
    "heart_and_externals_pickle = project_path / 'data' / 'processed' / 'heart_and_externals.pickle'\n",
    "alcohol_pdf = project_path / 'reports' / 'alcohol.pdf'\n",
    "alcohol_jpg = project_path / 'reports' / 'alcohol.jpg'"
   ],
   "metadata": {
    "collapsed": false,
    "pycharm": {
     "name": "#%%\n"
    }
   }
  },
  {
   "cell_type": "code",
   "execution_count": 3,
   "outputs": [],
   "source": [
    "GLASS_OF_WINE = 15  # ml of alcohol in glass of wine"
   ],
   "metadata": {
    "collapsed": false,
    "pycharm": {
     "name": "#%%\n"
    }
   }
  },
  {
   "cell_type": "markdown",
   "source": [
    "### Load and view the data"
   ],
   "metadata": {
    "collapsed": false,
    "pycharm": {
     "name": "#%% md\n"
    }
   }
  },
  {
   "cell_type": "code",
   "execution_count": 4,
   "outputs": [
    {
     "name": "stdout",
     "output_type": "stream",
     "text": [
      "<class 'pandas.core.frame.DataFrame'>\n",
      "Int64Index: 112 entries, 0 to 111\n",
      "Data columns (total 6 columns):\n",
      " #   Column          Non-Null Count  Dtype         \n",
      "---  ------          --------------  -----         \n",
      " 0   date            112 non-null    datetime64[ns]\n",
      " 1   systolic        112 non-null    float64       \n",
      " 2   diastolic       112 non-null    float64       \n",
      " 3   pulse pressure  112 non-null    float64       \n",
      " 4   heart_tablets   112 non-null    Int64         \n",
      " 5   alcohol         112 non-null    Int64         \n",
      "dtypes: Int64(2), datetime64[ns](1), float64(3)\n",
      "memory usage: 6.3 KB\n"
     ]
    }
   ],
   "source": [
    "dataset = pandas.read_pickle(heart_and_externals_pickle)\n",
    "dataset.info()"
   ],
   "metadata": {
    "collapsed": false,
    "pycharm": {
     "name": "#%%\n"
    }
   }
  },
  {
   "cell_type": "code",
   "execution_count": 5,
   "outputs": [
    {
     "data": {
      "text/plain": "                 date  systolic  diastolic  pulse pressure  heart_tablets  \\\n0 2021-12-01 22:30:00     131.0       86.0            45.0              2   \n1 2021-12-01 23:38:00     144.0       79.0            65.0              2   \n2 2021-12-02 00:22:00     140.0       80.0            60.0              2   \n3 2021-12-02 01:16:00     135.0       78.0            57.0              2   \n4 2021-12-02 22:19:00     131.0       70.0            61.0              2   \n\n   alcohol  \n0        0  \n1        0  \n2      177  \n3      177  \n4      177  ",
      "text/html": "<div>\n<style scoped>\n    .dataframe tbody tr th:only-of-type {\n        vertical-align: middle;\n    }\n\n    .dataframe tbody tr th {\n        vertical-align: top;\n    }\n\n    .dataframe thead th {\n        text-align: right;\n    }\n</style>\n<table border=\"1\" class=\"dataframe\">\n  <thead>\n    <tr style=\"text-align: right;\">\n      <th></th>\n      <th>date</th>\n      <th>systolic</th>\n      <th>diastolic</th>\n      <th>pulse pressure</th>\n      <th>heart_tablets</th>\n      <th>alcohol</th>\n    </tr>\n  </thead>\n  <tbody>\n    <tr>\n      <th>0</th>\n      <td>2021-12-01 22:30:00</td>\n      <td>131.0</td>\n      <td>86.0</td>\n      <td>45.0</td>\n      <td>2</td>\n      <td>0</td>\n    </tr>\n    <tr>\n      <th>1</th>\n      <td>2021-12-01 23:38:00</td>\n      <td>144.0</td>\n      <td>79.0</td>\n      <td>65.0</td>\n      <td>2</td>\n      <td>0</td>\n    </tr>\n    <tr>\n      <th>2</th>\n      <td>2021-12-02 00:22:00</td>\n      <td>140.0</td>\n      <td>80.0</td>\n      <td>60.0</td>\n      <td>2</td>\n      <td>177</td>\n    </tr>\n    <tr>\n      <th>3</th>\n      <td>2021-12-02 01:16:00</td>\n      <td>135.0</td>\n      <td>78.0</td>\n      <td>57.0</td>\n      <td>2</td>\n      <td>177</td>\n    </tr>\n    <tr>\n      <th>4</th>\n      <td>2021-12-02 22:19:00</td>\n      <td>131.0</td>\n      <td>70.0</td>\n      <td>61.0</td>\n      <td>2</td>\n      <td>177</td>\n    </tr>\n  </tbody>\n</table>\n</div>"
     },
     "execution_count": 5,
     "metadata": {},
     "output_type": "execute_result"
    }
   ],
   "source": [
    "dataset.head()"
   ],
   "metadata": {
    "collapsed": false,
    "pycharm": {
     "name": "#%%\n"
    }
   }
  },
  {
   "cell_type": "code",
   "execution_count": 6,
   "outputs": [
    {
     "data": {
      "text/plain": "                   date  systolic  diastolic  pulse pressure  heart_tablets  \\\n107 2021-12-31 01:19:00     137.0       78.0            59.0              2   \n108 2021-12-31 21:59:00     114.0       70.0            44.0              2   \n109 2021-12-31 23:13:00     134.0       81.0            53.0              2   \n110 2022-01-01 00:11:00     135.0       79.0            56.0              2   \n111 2022-01-01 01:25:00     137.0       81.0            56.0              2   \n\n     alcohol  \n107       30  \n108       30  \n109       30  \n110      106  \n111      106  ",
      "text/html": "<div>\n<style scoped>\n    .dataframe tbody tr th:only-of-type {\n        vertical-align: middle;\n    }\n\n    .dataframe tbody tr th {\n        vertical-align: top;\n    }\n\n    .dataframe thead th {\n        text-align: right;\n    }\n</style>\n<table border=\"1\" class=\"dataframe\">\n  <thead>\n    <tr style=\"text-align: right;\">\n      <th></th>\n      <th>date</th>\n      <th>systolic</th>\n      <th>diastolic</th>\n      <th>pulse pressure</th>\n      <th>heart_tablets</th>\n      <th>alcohol</th>\n    </tr>\n  </thead>\n  <tbody>\n    <tr>\n      <th>107</th>\n      <td>2021-12-31 01:19:00</td>\n      <td>137.0</td>\n      <td>78.0</td>\n      <td>59.0</td>\n      <td>2</td>\n      <td>30</td>\n    </tr>\n    <tr>\n      <th>108</th>\n      <td>2021-12-31 21:59:00</td>\n      <td>114.0</td>\n      <td>70.0</td>\n      <td>44.0</td>\n      <td>2</td>\n      <td>30</td>\n    </tr>\n    <tr>\n      <th>109</th>\n      <td>2021-12-31 23:13:00</td>\n      <td>134.0</td>\n      <td>81.0</td>\n      <td>53.0</td>\n      <td>2</td>\n      <td>30</td>\n    </tr>\n    <tr>\n      <th>110</th>\n      <td>2022-01-01 00:11:00</td>\n      <td>135.0</td>\n      <td>79.0</td>\n      <td>56.0</td>\n      <td>2</td>\n      <td>106</td>\n    </tr>\n    <tr>\n      <th>111</th>\n      <td>2022-01-01 01:25:00</td>\n      <td>137.0</td>\n      <td>81.0</td>\n      <td>56.0</td>\n      <td>2</td>\n      <td>106</td>\n    </tr>\n  </tbody>\n</table>\n</div>"
     },
     "execution_count": 6,
     "metadata": {},
     "output_type": "execute_result"
    }
   ],
   "source": [
    "dataset.tail()"
   ],
   "metadata": {
    "collapsed": false,
    "pycharm": {
     "name": "#%%\n"
    }
   }
  },
  {
   "cell_type": "markdown",
   "source": [
    "### Create alcohol category column"
   ],
   "metadata": {
    "collapsed": false
   }
  },
  {
   "cell_type": "code",
   "source": [
    "dataset['alcohol_cat'] = dataset.loc[:, 'alcohol'].apply(lambda x: (x - 1) // GLASS_OF_WINE + 1)\n",
    "dataset.head()"
   ],
   "metadata": {
    "collapsed": false,
    "pycharm": {
     "name": "#%%\n"
    }
   },
   "execution_count": 7,
   "outputs": [
    {
     "data": {
      "text/plain": "                 date  systolic  diastolic  pulse pressure  heart_tablets  \\\n0 2021-12-01 22:30:00     131.0       86.0            45.0              2   \n1 2021-12-01 23:38:00     144.0       79.0            65.0              2   \n2 2021-12-02 00:22:00     140.0       80.0            60.0              2   \n3 2021-12-02 01:16:00     135.0       78.0            57.0              2   \n4 2021-12-02 22:19:00     131.0       70.0            61.0              2   \n\n   alcohol  alcohol_cat  \n0        0            0  \n1        0            0  \n2      177           12  \n3      177           12  \n4      177           12  ",
      "text/html": "<div>\n<style scoped>\n    .dataframe tbody tr th:only-of-type {\n        vertical-align: middle;\n    }\n\n    .dataframe tbody tr th {\n        vertical-align: top;\n    }\n\n    .dataframe thead th {\n        text-align: right;\n    }\n</style>\n<table border=\"1\" class=\"dataframe\">\n  <thead>\n    <tr style=\"text-align: right;\">\n      <th></th>\n      <th>date</th>\n      <th>systolic</th>\n      <th>diastolic</th>\n      <th>pulse pressure</th>\n      <th>heart_tablets</th>\n      <th>alcohol</th>\n      <th>alcohol_cat</th>\n    </tr>\n  </thead>\n  <tbody>\n    <tr>\n      <th>0</th>\n      <td>2021-12-01 22:30:00</td>\n      <td>131.0</td>\n      <td>86.0</td>\n      <td>45.0</td>\n      <td>2</td>\n      <td>0</td>\n      <td>0</td>\n    </tr>\n    <tr>\n      <th>1</th>\n      <td>2021-12-01 23:38:00</td>\n      <td>144.0</td>\n      <td>79.0</td>\n      <td>65.0</td>\n      <td>2</td>\n      <td>0</td>\n      <td>0</td>\n    </tr>\n    <tr>\n      <th>2</th>\n      <td>2021-12-02 00:22:00</td>\n      <td>140.0</td>\n      <td>80.0</td>\n      <td>60.0</td>\n      <td>2</td>\n      <td>177</td>\n      <td>12</td>\n    </tr>\n    <tr>\n      <th>3</th>\n      <td>2021-12-02 01:16:00</td>\n      <td>135.0</td>\n      <td>78.0</td>\n      <td>57.0</td>\n      <td>2</td>\n      <td>177</td>\n      <td>12</td>\n    </tr>\n    <tr>\n      <th>4</th>\n      <td>2021-12-02 22:19:00</td>\n      <td>131.0</td>\n      <td>70.0</td>\n      <td>61.0</td>\n      <td>2</td>\n      <td>177</td>\n      <td>12</td>\n    </tr>\n  </tbody>\n</table>\n</div>"
     },
     "execution_count": 7,
     "metadata": {},
     "output_type": "execute_result"
    }
   ]
  },
  {
   "cell_type": "code",
   "execution_count": 8,
   "outputs": [
    {
     "data": {
      "text/plain": "                   date  systolic  diastolic  pulse pressure  heart_tablets  \\\n107 2021-12-31 01:19:00     137.0       78.0            59.0              2   \n108 2021-12-31 21:59:00     114.0       70.0            44.0              2   \n109 2021-12-31 23:13:00     134.0       81.0            53.0              2   \n110 2022-01-01 00:11:00     135.0       79.0            56.0              2   \n111 2022-01-01 01:25:00     137.0       81.0            56.0              2   \n\n     alcohol  alcohol_cat  \n107       30            2  \n108       30            2  \n109       30            2  \n110      106            8  \n111      106            8  ",
      "text/html": "<div>\n<style scoped>\n    .dataframe tbody tr th:only-of-type {\n        vertical-align: middle;\n    }\n\n    .dataframe tbody tr th {\n        vertical-align: top;\n    }\n\n    .dataframe thead th {\n        text-align: right;\n    }\n</style>\n<table border=\"1\" class=\"dataframe\">\n  <thead>\n    <tr style=\"text-align: right;\">\n      <th></th>\n      <th>date</th>\n      <th>systolic</th>\n      <th>diastolic</th>\n      <th>pulse pressure</th>\n      <th>heart_tablets</th>\n      <th>alcohol</th>\n      <th>alcohol_cat</th>\n    </tr>\n  </thead>\n  <tbody>\n    <tr>\n      <th>107</th>\n      <td>2021-12-31 01:19:00</td>\n      <td>137.0</td>\n      <td>78.0</td>\n      <td>59.0</td>\n      <td>2</td>\n      <td>30</td>\n      <td>2</td>\n    </tr>\n    <tr>\n      <th>108</th>\n      <td>2021-12-31 21:59:00</td>\n      <td>114.0</td>\n      <td>70.0</td>\n      <td>44.0</td>\n      <td>2</td>\n      <td>30</td>\n      <td>2</td>\n    </tr>\n    <tr>\n      <th>109</th>\n      <td>2021-12-31 23:13:00</td>\n      <td>134.0</td>\n      <td>81.0</td>\n      <td>53.0</td>\n      <td>2</td>\n      <td>30</td>\n      <td>2</td>\n    </tr>\n    <tr>\n      <th>110</th>\n      <td>2022-01-01 00:11:00</td>\n      <td>135.0</td>\n      <td>79.0</td>\n      <td>56.0</td>\n      <td>2</td>\n      <td>106</td>\n      <td>8</td>\n    </tr>\n    <tr>\n      <th>111</th>\n      <td>2022-01-01 01:25:00</td>\n      <td>137.0</td>\n      <td>81.0</td>\n      <td>56.0</td>\n      <td>2</td>\n      <td>106</td>\n      <td>8</td>\n    </tr>\n  </tbody>\n</table>\n</div>"
     },
     "execution_count": 8,
     "metadata": {},
     "output_type": "execute_result"
    }
   ],
   "source": [
    "dataset.tail()"
   ],
   "metadata": {
    "collapsed": false,
    "pycharm": {
     "name": "#%%\n"
    }
   }
  },
  {
   "cell_type": "markdown",
   "source": [
    "### Suppress categories of inadequate sample size.\n",
    "\n",
    "The following code cell offers two ways:\n",
    "- cutoff based on number of observations\n",
    "- cutoff based on the percentage of total observations."
   ],
   "metadata": {
    "collapsed": false
   }
  },
  {
   "cell_type": "code",
   "execution_count": 9,
   "outputs": [
    {
     "data": {
      "text/plain": "    alcohol_cat  include\n0            40     True\n2            37     True\n4             8    False\n5             8    False\n8             5    False\n12            4    False\n7             4    False\n6             4    False\n3             2    False",
      "text/html": "<div>\n<style scoped>\n    .dataframe tbody tr th:only-of-type {\n        vertical-align: middle;\n    }\n\n    .dataframe tbody tr th {\n        vertical-align: top;\n    }\n\n    .dataframe thead th {\n        text-align: right;\n    }\n</style>\n<table border=\"1\" class=\"dataframe\">\n  <thead>\n    <tr style=\"text-align: right;\">\n      <th></th>\n      <th>alcohol_cat</th>\n      <th>include</th>\n    </tr>\n  </thead>\n  <tbody>\n    <tr>\n      <th>0</th>\n      <td>40</td>\n      <td>True</td>\n    </tr>\n    <tr>\n      <th>2</th>\n      <td>37</td>\n      <td>True</td>\n    </tr>\n    <tr>\n      <th>4</th>\n      <td>8</td>\n      <td>False</td>\n    </tr>\n    <tr>\n      <th>5</th>\n      <td>8</td>\n      <td>False</td>\n    </tr>\n    <tr>\n      <th>8</th>\n      <td>5</td>\n      <td>False</td>\n    </tr>\n    <tr>\n      <th>12</th>\n      <td>4</td>\n      <td>False</td>\n    </tr>\n    <tr>\n      <th>7</th>\n      <td>4</td>\n      <td>False</td>\n    </tr>\n    <tr>\n      <th>6</th>\n      <td>4</td>\n      <td>False</td>\n    </tr>\n    <tr>\n      <th>3</th>\n      <td>2</td>\n      <td>False</td>\n    </tr>\n  </tbody>\n</table>\n</div>"
     },
     "execution_count": 9,
     "metadata": {},
     "output_type": "execute_result"
    }
   ],
   "source": [
    "# Create a value count dataset\n",
    "cutoff = 10  # Number of observations\n",
    "cat_counts = pandas.DataFrame(dataset.loc[:, 'alcohol_cat'].value_counts())\n",
    "cat_counts['include'] = cat_counts.loc[:, 'alcohol_cat'] > cutoff\n",
    "cat_counts\n",
    "\n",
    "# # Create a normalized dataset\n",
    "# cutoff = 0.05  # Percentage of total observations\n",
    "# cat_counts = pandas.DataFrame(dataset.loc[:, 'alcohol_cat'].value_counts(normalize=True))\n",
    "# cat_counts['include'] = cat_counts.loc[:, 'alcohol_cat'] > cutoff\n",
    "# cat_counts"
   ],
   "metadata": {
    "collapsed": false,
    "pycharm": {
     "name": "#%%\n"
    }
   }
  },
  {
   "cell_type": "code",
   "execution_count": 10,
   "outputs": [
    {
     "data": {
      "text/plain": "   alcohol_cat  include\n0            0     True\n1            2     True\n2            4    False\n3            5    False\n4            8    False\n5           12    False\n6            7    False\n7            6    False\n8            3    False",
      "text/html": "<div>\n<style scoped>\n    .dataframe tbody tr th:only-of-type {\n        vertical-align: middle;\n    }\n\n    .dataframe tbody tr th {\n        vertical-align: top;\n    }\n\n    .dataframe thead th {\n        text-align: right;\n    }\n</style>\n<table border=\"1\" class=\"dataframe\">\n  <thead>\n    <tr style=\"text-align: right;\">\n      <th></th>\n      <th>alcohol_cat</th>\n      <th>include</th>\n    </tr>\n  </thead>\n  <tbody>\n    <tr>\n      <th>0</th>\n      <td>0</td>\n      <td>True</td>\n    </tr>\n    <tr>\n      <th>1</th>\n      <td>2</td>\n      <td>True</td>\n    </tr>\n    <tr>\n      <th>2</th>\n      <td>4</td>\n      <td>False</td>\n    </tr>\n    <tr>\n      <th>3</th>\n      <td>5</td>\n      <td>False</td>\n    </tr>\n    <tr>\n      <th>4</th>\n      <td>8</td>\n      <td>False</td>\n    </tr>\n    <tr>\n      <th>5</th>\n      <td>12</td>\n      <td>False</td>\n    </tr>\n    <tr>\n      <th>6</th>\n      <td>7</td>\n      <td>False</td>\n    </tr>\n    <tr>\n      <th>7</th>\n      <td>6</td>\n      <td>False</td>\n    </tr>\n    <tr>\n      <th>8</th>\n      <td>3</td>\n      <td>False</td>\n    </tr>\n  </tbody>\n</table>\n</div>"
     },
     "execution_count": 10,
     "metadata": {},
     "output_type": "execute_result"
    }
   ],
   "source": [
    "# Convert into a lookup table\n",
    "cat_counts.reset_index(inplace=True)\n",
    "cat_counts = cat_counts.drop(['alcohol_cat'], axis=1)\n",
    "cat_counts = cat_counts.rename(columns={'index': 'alcohol_cat'})\n",
    "cat_counts"
   ],
   "metadata": {
    "collapsed": false,
    "pycharm": {
     "name": "#%%\n"
    }
   }
  },
  {
   "cell_type": "code",
   "execution_count": 11,
   "outputs": [
    {
     "data": {
      "text/plain": "                 date  systolic  diastolic  pulse pressure  heart_tablets  \\\n0 2021-12-01 22:30:00     131.0       86.0            45.0              2   \n1 2021-12-01 23:38:00     144.0       79.0            65.0              2   \n6 2021-12-03 00:11:00     124.0       75.0            49.0              2   \n7 2021-12-04 01:18:00     146.0       77.0            69.0              2   \n8 2021-12-04 22:10:00     118.0       67.0            51.0              2   \n\n   alcohol  alcohol_cat  include  \n0        0            0     True  \n1        0            0     True  \n6        0            0     True  \n7        0            0     True  \n8        0            0     True  ",
      "text/html": "<div>\n<style scoped>\n    .dataframe tbody tr th:only-of-type {\n        vertical-align: middle;\n    }\n\n    .dataframe tbody tr th {\n        vertical-align: top;\n    }\n\n    .dataframe thead th {\n        text-align: right;\n    }\n</style>\n<table border=\"1\" class=\"dataframe\">\n  <thead>\n    <tr style=\"text-align: right;\">\n      <th></th>\n      <th>date</th>\n      <th>systolic</th>\n      <th>diastolic</th>\n      <th>pulse pressure</th>\n      <th>heart_tablets</th>\n      <th>alcohol</th>\n      <th>alcohol_cat</th>\n      <th>include</th>\n    </tr>\n  </thead>\n  <tbody>\n    <tr>\n      <th>0</th>\n      <td>2021-12-01 22:30:00</td>\n      <td>131.0</td>\n      <td>86.0</td>\n      <td>45.0</td>\n      <td>2</td>\n      <td>0</td>\n      <td>0</td>\n      <td>True</td>\n    </tr>\n    <tr>\n      <th>1</th>\n      <td>2021-12-01 23:38:00</td>\n      <td>144.0</td>\n      <td>79.0</td>\n      <td>65.0</td>\n      <td>2</td>\n      <td>0</td>\n      <td>0</td>\n      <td>True</td>\n    </tr>\n    <tr>\n      <th>6</th>\n      <td>2021-12-03 00:11:00</td>\n      <td>124.0</td>\n      <td>75.0</td>\n      <td>49.0</td>\n      <td>2</td>\n      <td>0</td>\n      <td>0</td>\n      <td>True</td>\n    </tr>\n    <tr>\n      <th>7</th>\n      <td>2021-12-04 01:18:00</td>\n      <td>146.0</td>\n      <td>77.0</td>\n      <td>69.0</td>\n      <td>2</td>\n      <td>0</td>\n      <td>0</td>\n      <td>True</td>\n    </tr>\n    <tr>\n      <th>8</th>\n      <td>2021-12-04 22:10:00</td>\n      <td>118.0</td>\n      <td>67.0</td>\n      <td>51.0</td>\n      <td>2</td>\n      <td>0</td>\n      <td>0</td>\n      <td>True</td>\n    </tr>\n  </tbody>\n</table>\n</div>"
     },
     "execution_count": 11,
     "metadata": {},
     "output_type": "execute_result"
    }
   ],
   "source": [
    "# Select rows which are above the cutoff\n",
    "dataset = dataset.merge(cat_counts, how='left', left_on='alcohol_cat', right_on='alcohol_cat')\n",
    "dataset = dataset.loc[dataset['include'], :]\n",
    "dataset.head()"
   ],
   "metadata": {
    "collapsed": false,
    "pycharm": {
     "name": "#%%\n"
    }
   }
  },
  {
   "cell_type": "markdown",
   "source": [
    "### Plot"
   ],
   "metadata": {
    "collapsed": false,
    "pycharm": {
     "name": "#%% md\n"
    }
   }
  },
  {
   "cell_type": "code",
   "execution_count": 12,
   "outputs": [
    {
     "data": {
      "text/plain": "[Text(0.5, 0, 'Alcohol as 15ml glasses of wine'),\n Text(0, 0.5, 'observation count')]"
     },
     "execution_count": 12,
     "metadata": {},
     "output_type": "execute_result"
    },
    {
     "data": {
      "text/plain": "<Figure size 720x1584 with 4 Axes>",
      "image/png": "[encoded data removed]"
     },
     "metadata": {},
     "output_type": "display_data"
    }
   ],
   "source": [
    "fig, axes = pyplot.subplots(nrows=4, ncols=1, figsize=(10, 22))\n",
    "\n",
    "# Plot systolic\n",
    "seaborn.boxenplot(data=dataset,\n",
    "                  x='alcohol_cat', y='systolic',\n",
    "                  ax=axes[0], palette=['papayawhip'])\n",
    "\n",
    "# Plot diastolic\n",
    "seaborn.boxenplot(data=dataset,\n",
    "                  x='alcohol_cat', y='diastolic',\n",
    "                  ax=axes[1], palette=['azure'])\n",
    "\n",
    "# Plot pulse pressure\n",
    "seaborn.boxenplot(data=dataset,\n",
    "                  x='alcohol_cat', y='pulse pressure',\n",
    "                  ax=axes[2], palette=['seashell'])\n",
    "\n",
    "# Plot observation counts\n",
    "seaborn.countplot(data=dataset,\n",
    "                  x='alcohol_cat',\n",
    "                  ax=axes[3], palette=['aliceblue'])\n",
    "\n",
    "axes[0].set(xlabel=None)\n",
    "axes[1].set(xlabel=None)\n",
    "axes[2].set(xlabel=None)\n",
    "axes[3].set(xlabel=f\"Alcohol as 15ml glasses of wine\", ylabel='observation count')"
   ],
   "metadata": {
    "collapsed": false,
    "pycharm": {
     "name": "#%%\n"
    }
   }
  },
  {
   "cell_type": "code",
   "source": [
    "# Save the plots\n",
    "fig.savefig(alcohol_jpg)\n",
    "fig.savefig(alcohol_pdf)"
   ],
   "metadata": {
    "collapsed": false,
    "pycharm": {
     "name": "#%%\n"
    }
   },
   "execution_count": 13,
   "outputs": []
  }
 ],
 "metadata": {
  "kernelspec": {
   "display_name": "Python 3",
   "language": "python",
   "name": "python3"
  },
  "language_info": {
   "codemirror_mode": {
    "name": "ipython",
    "version": 2
   },
   "file_extension": ".py",
   "mimetype": "text/x-python",
   "name": "python",
   "nbconvert_exporter": "python",
   "pygments_lexer": "ipython2",
   "version": "2.7.6"
  }
 },
 "nbformat": 4,
 "nbformat_minor": 0
}