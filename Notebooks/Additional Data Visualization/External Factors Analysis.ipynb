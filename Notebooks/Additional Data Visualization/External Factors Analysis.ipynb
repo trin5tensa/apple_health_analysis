{
 "cells": [
  {
   "cell_type": "markdown",
   "metadata": {
    "collapsed": true,
    "pycharm": {
     "name": "#%% md\n"
    }
   },
   "source": [
    "# External Factors Analysis"
   ]
  },
  {
   "cell_type": "markdown",
   "source": [
    "Copyright ©2022. Stephen Rigden. This program is free software: you can redistribute it and/or modify\n",
    "it under the terms of the GNU General Public License as published by the Free Software Foundation, either version 3 of the License, or (at your option) any later version. This program is distributed in the hope that it will be useful, but WITHOUT ANY WARRANTY; without even the implied warranty of MERCHANTABILITY or FITNESS FOR A PARTICULAR PURPOSE. See the GNU General Public License for more details. You should have received a copy of the GNU General Public License along with this program. If not, see https://www.gnu.org/licenses/."
   ],
   "metadata": {
    "collapsed": false
   }
  },
  {
   "cell_type": "code",
   "execution_count": 25,
   "outputs": [],
   "source": [
    "import pandas\n",
    "\n",
    "\n",
    "from pathlib import Path"
   ],
   "metadata": {
    "collapsed": false,
    "pycharm": {
     "name": "#%%\n"
    }
   }
  },
  {
   "cell_type": "code",
   "execution_count": 26,
   "outputs": [
    {
     "name": "stdout",
     "output_type": "stream",
     "text": [
      "<class 'pandas.core.frame.DataFrame'>\n",
      "RangeIndex: 84 entries, 0 to 83\n",
      "Data columns (total 4 columns):\n",
      " #   Column         Non-Null Count  Dtype  \n",
      "---  ------         --------------  -----  \n",
      " 0   date           84 non-null     object \n",
      " 1   heart_tablets  84 non-null     int64  \n",
      " 2   alcohol        51 non-null     float64\n",
      " 3   notes          1 non-null      object \n",
      "dtypes: float64(1), int64(1), object(2)\n",
      "memory usage: 2.8+ KB\n"
     ]
    }
   ],
   "source": [
    "# Change the import_file_name to match the name of current import file.\n",
    "import_file_name = 'External Factors'\n",
    "\n",
    "# Set file paths\n",
    "project_path = Path.cwd().parent.parent\n",
    "extra_data_file = project_path / 'data' / 'raw' / f\"{import_file_name}.csv\"\n",
    "extra_data_pickle = project_path / 'data' / 'processed' / 'extra_data_preprocessed.pickle'\n",
    "\n",
    "# Get the raw data\n",
    "eds = pandas.read_csv(extra_data_file)\n",
    "eds.info()"
   ],
   "metadata": {
    "collapsed": false,
    "pycharm": {
     "name": "#%%\n"
    }
   }
  },
  {
   "cell_type": "code",
   "execution_count": 27,
   "outputs": [
    {
     "data": {
      "text/plain": "       date  heart_tablets  alcohol   notes\n0  6/1/1875              2      NaN  A note\n1  6/2/1875              2    177.0     NaN\n2  6/3/1875              2      NaN     NaN\n3  6/4/1875              2      NaN     NaN\n4  6/5/1875              2     30.0     NaN",
      "text/html": "<div>\n<style scoped>\n    .dataframe tbody tr th:only-of-type {\n        vertical-align: middle;\n    }\n\n    .dataframe tbody tr th {\n        vertical-align: top;\n    }\n\n    .dataframe thead th {\n        text-align: right;\n    }\n</style>\n<table border=\"1\" class=\"dataframe\">\n  <thead>\n    <tr style=\"text-align: right;\">\n      <th></th>\n      <th>date</th>\n      <th>heart_tablets</th>\n      <th>alcohol</th>\n      <th>notes</th>\n    </tr>\n  </thead>\n  <tbody>\n    <tr>\n      <th>0</th>\n      <td>6/1/1875</td>\n      <td>2</td>\n      <td>NaN</td>\n      <td>A note</td>\n    </tr>\n    <tr>\n      <th>1</th>\n      <td>6/2/1875</td>\n      <td>2</td>\n      <td>177.0</td>\n      <td>NaN</td>\n    </tr>\n    <tr>\n      <th>2</th>\n      <td>6/3/1875</td>\n      <td>2</td>\n      <td>NaN</td>\n      <td>NaN</td>\n    </tr>\n    <tr>\n      <th>3</th>\n      <td>6/4/1875</td>\n      <td>2</td>\n      <td>NaN</td>\n      <td>NaN</td>\n    </tr>\n    <tr>\n      <th>4</th>\n      <td>6/5/1875</td>\n      <td>2</td>\n      <td>30.0</td>\n      <td>NaN</td>\n    </tr>\n  </tbody>\n</table>\n</div>"
     },
     "execution_count": 27,
     "metadata": {},
     "output_type": "execute_result"
    }
   ],
   "source": [
    "eds.head()"
   ],
   "metadata": {
    "collapsed": false,
    "pycharm": {
     "name": "#%%\n"
    }
   }
  },
  {
   "cell_type": "code",
   "execution_count": 28,
   "outputs": [
    {
     "data": {
      "text/plain": "         date  heart_tablets  alcohol notes\n79  8/19/1875              1      NaN   NaN\n80  8/20/1875              1     90.0   NaN\n81  8/21/1875              1      NaN   NaN\n82  8/22/1875              2      NaN   NaN\n83  8/23/1875              2      NaN   NaN",
      "text/html": "<div>\n<style scoped>\n    .dataframe tbody tr th:only-of-type {\n        vertical-align: middle;\n    }\n\n    .dataframe tbody tr th {\n        vertical-align: top;\n    }\n\n    .dataframe thead th {\n        text-align: right;\n    }\n</style>\n<table border=\"1\" class=\"dataframe\">\n  <thead>\n    <tr style=\"text-align: right;\">\n      <th></th>\n      <th>date</th>\n      <th>heart_tablets</th>\n      <th>alcohol</th>\n      <th>notes</th>\n    </tr>\n  </thead>\n  <tbody>\n    <tr>\n      <th>79</th>\n      <td>8/19/1875</td>\n      <td>1</td>\n      <td>NaN</td>\n      <td>NaN</td>\n    </tr>\n    <tr>\n      <th>80</th>\n      <td>8/20/1875</td>\n      <td>1</td>\n      <td>90.0</td>\n      <td>NaN</td>\n    </tr>\n    <tr>\n      <th>81</th>\n      <td>8/21/1875</td>\n      <td>1</td>\n      <td>NaN</td>\n      <td>NaN</td>\n    </tr>\n    <tr>\n      <th>82</th>\n      <td>8/22/1875</td>\n      <td>2</td>\n      <td>NaN</td>\n      <td>NaN</td>\n    </tr>\n    <tr>\n      <th>83</th>\n      <td>8/23/1875</td>\n      <td>2</td>\n      <td>NaN</td>\n      <td>NaN</td>\n    </tr>\n  </tbody>\n</table>\n</div>"
     },
     "execution_count": 28,
     "metadata": {},
     "output_type": "execute_result"
    }
   ],
   "source": [
    "eds.tail()"
   ],
   "metadata": {
    "collapsed": false,
    "pycharm": {
     "name": "#%%\n"
    }
   }
  },
  {
   "cell_type": "markdown",
   "source": [
    "### Convert float columns to integer"
   ],
   "metadata": {
    "collapsed": false
   }
  },
  {
   "cell_type": "code",
   "execution_count": 29,
   "outputs": [
    {
     "data": {
      "text/plain": "       date  heart_tablets  alcohol   notes\n0  6/1/1875              2        0  A note\n1  6/2/1875              2      177     NaN\n2  6/3/1875              2        0     NaN\n3  6/4/1875              2        0     NaN\n4  6/5/1875              2       30     NaN",
      "text/html": "<div>\n<style scoped>\n    .dataframe tbody tr th:only-of-type {\n        vertical-align: middle;\n    }\n\n    .dataframe tbody tr th {\n        vertical-align: top;\n    }\n\n    .dataframe thead th {\n        text-align: right;\n    }\n</style>\n<table border=\"1\" class=\"dataframe\">\n  <thead>\n    <tr style=\"text-align: right;\">\n      <th></th>\n      <th>date</th>\n      <th>heart_tablets</th>\n      <th>alcohol</th>\n      <th>notes</th>\n    </tr>\n  </thead>\n  <tbody>\n    <tr>\n      <th>0</th>\n      <td>6/1/1875</td>\n      <td>2</td>\n      <td>0</td>\n      <td>A note</td>\n    </tr>\n    <tr>\n      <th>1</th>\n      <td>6/2/1875</td>\n      <td>2</td>\n      <td>177</td>\n      <td>NaN</td>\n    </tr>\n    <tr>\n      <th>2</th>\n      <td>6/3/1875</td>\n      <td>2</td>\n      <td>0</td>\n      <td>NaN</td>\n    </tr>\n    <tr>\n      <th>3</th>\n      <td>6/4/1875</td>\n      <td>2</td>\n      <td>0</td>\n      <td>NaN</td>\n    </tr>\n    <tr>\n      <th>4</th>\n      <td>6/5/1875</td>\n      <td>2</td>\n      <td>30</td>\n      <td>NaN</td>\n    </tr>\n  </tbody>\n</table>\n</div>"
     },
     "execution_count": 29,
     "metadata": {},
     "output_type": "execute_result"
    }
   ],
   "source": [
    "eds.alcohol = eds.alcohol.astype('Int64')\n",
    "eds.alcohol = eds.alcohol.fillna(0)\n",
    "eds.heart_tablets = eds.heart_tablets.astype('Int64')\n",
    "eds.heart_tablets = eds.heart_tablets.fillna(0)\n",
    "eds.head()"
   ],
   "metadata": {
    "collapsed": false,
    "pycharm": {
     "name": "#%%\n"
    }
   }
  },
  {
   "cell_type": "code",
   "execution_count": 30,
   "outputs": [
    {
     "data": {
      "text/plain": "         date  heart_tablets  alcohol notes\n79  8/19/1875              1        0   NaN\n80  8/20/1875              1       90   NaN\n81  8/21/1875              1        0   NaN\n82  8/22/1875              2        0   NaN\n83  8/23/1875              2        0   NaN",
      "text/html": "<div>\n<style scoped>\n    .dataframe tbody tr th:only-of-type {\n        vertical-align: middle;\n    }\n\n    .dataframe tbody tr th {\n        vertical-align: top;\n    }\n\n    .dataframe thead th {\n        text-align: right;\n    }\n</style>\n<table border=\"1\" class=\"dataframe\">\n  <thead>\n    <tr style=\"text-align: right;\">\n      <th></th>\n      <th>date</th>\n      <th>heart_tablets</th>\n      <th>alcohol</th>\n      <th>notes</th>\n    </tr>\n  </thead>\n  <tbody>\n    <tr>\n      <th>79</th>\n      <td>8/19/1875</td>\n      <td>1</td>\n      <td>0</td>\n      <td>NaN</td>\n    </tr>\n    <tr>\n      <th>80</th>\n      <td>8/20/1875</td>\n      <td>1</td>\n      <td>90</td>\n      <td>NaN</td>\n    </tr>\n    <tr>\n      <th>81</th>\n      <td>8/21/1875</td>\n      <td>1</td>\n      <td>0</td>\n      <td>NaN</td>\n    </tr>\n    <tr>\n      <th>82</th>\n      <td>8/22/1875</td>\n      <td>2</td>\n      <td>0</td>\n      <td>NaN</td>\n    </tr>\n    <tr>\n      <th>83</th>\n      <td>8/23/1875</td>\n      <td>2</td>\n      <td>0</td>\n      <td>NaN</td>\n    </tr>\n  </tbody>\n</table>\n</div>"
     },
     "execution_count": 30,
     "metadata": {},
     "output_type": "execute_result"
    }
   ],
   "source": [
    "eds.tail()"
   ],
   "metadata": {
    "collapsed": false,
    "pycharm": {
     "name": "#%%\n"
    }
   }
  },
  {
   "cell_type": "markdown",
   "source": [
    "### Convert date column to DateSeries"
   ],
   "metadata": {
    "collapsed": false,
    "pycharm": {
     "name": "#%% md\n"
    }
   }
  },
  {
   "cell_type": "code",
   "execution_count": 31,
   "outputs": [
    {
     "name": "stdout",
     "output_type": "stream",
     "text": [
      "<class 'pandas.core.frame.DataFrame'>\n",
      "RangeIndex: 84 entries, 0 to 83\n",
      "Data columns (total 4 columns):\n",
      " #   Column         Non-Null Count  Dtype         \n",
      "---  ------         --------------  -----         \n",
      " 0   date           84 non-null     datetime64[ns]\n",
      " 1   heart_tablets  84 non-null     Int64         \n",
      " 2   alcohol        84 non-null     Int64         \n",
      " 3   notes          1 non-null      object        \n",
      "dtypes: Int64(2), datetime64[ns](1), object(1)\n",
      "memory usage: 2.9+ KB\n"
     ]
    }
   ],
   "source": [
    "eds.date = eds.date.astype('datetime64[ns]')\n",
    "eds.info()"
   ],
   "metadata": {
    "collapsed": false,
    "pycharm": {
     "name": "#%%\n"
    }
   }
  },
  {
   "cell_type": "markdown",
   "source": [
    "### Convert Notes column NaN's to empty strings"
   ],
   "metadata": {
    "collapsed": false
   }
  },
  {
   "cell_type": "code",
   "execution_count": 32,
   "outputs": [
    {
     "data": {
      "text/plain": "        date  heart_tablets  alcohol   notes\n0 1875-06-01              2        0  A note\n1 1875-06-02              2      177        \n2 1875-06-03              2        0        \n3 1875-06-04              2        0        \n4 1875-06-05              2       30        ",
      "text/html": "<div>\n<style scoped>\n    .dataframe tbody tr th:only-of-type {\n        vertical-align: middle;\n    }\n\n    .dataframe tbody tr th {\n        vertical-align: top;\n    }\n\n    .dataframe thead th {\n        text-align: right;\n    }\n</style>\n<table border=\"1\" class=\"dataframe\">\n  <thead>\n    <tr style=\"text-align: right;\">\n      <th></th>\n      <th>date</th>\n      <th>heart_tablets</th>\n      <th>alcohol</th>\n      <th>notes</th>\n    </tr>\n  </thead>\n  <tbody>\n    <tr>\n      <th>0</th>\n      <td>1875-06-01</td>\n      <td>2</td>\n      <td>0</td>\n      <td>A note</td>\n    </tr>\n    <tr>\n      <th>1</th>\n      <td>1875-06-02</td>\n      <td>2</td>\n      <td>177</td>\n      <td></td>\n    </tr>\n    <tr>\n      <th>2</th>\n      <td>1875-06-03</td>\n      <td>2</td>\n      <td>0</td>\n      <td></td>\n    </tr>\n    <tr>\n      <th>3</th>\n      <td>1875-06-04</td>\n      <td>2</td>\n      <td>0</td>\n      <td></td>\n    </tr>\n    <tr>\n      <th>4</th>\n      <td>1875-06-05</td>\n      <td>2</td>\n      <td>30</td>\n      <td></td>\n    </tr>\n  </tbody>\n</table>\n</div>"
     },
     "execution_count": 32,
     "metadata": {},
     "output_type": "execute_result"
    }
   ],
   "source": [
    "eds['notes'] = eds['notes'].fillna('')\n",
    "eds.head()"
   ],
   "metadata": {
    "collapsed": false,
    "pycharm": {
     "name": "#%%\n"
    }
   }
  },
  {
   "cell_type": "code",
   "execution_count": 33,
   "outputs": [
    {
     "data": {
      "text/plain": "         date  heart_tablets  alcohol notes\n79 1875-08-19              1        0      \n80 1875-08-20              1       90      \n81 1875-08-21              1        0      \n82 1875-08-22              2        0      \n83 1875-08-23              2        0      ",
      "text/html": "<div>\n<style scoped>\n    .dataframe tbody tr th:only-of-type {\n        vertical-align: middle;\n    }\n\n    .dataframe tbody tr th {\n        vertical-align: top;\n    }\n\n    .dataframe thead th {\n        text-align: right;\n    }\n</style>\n<table border=\"1\" class=\"dataframe\">\n  <thead>\n    <tr style=\"text-align: right;\">\n      <th></th>\n      <th>date</th>\n      <th>heart_tablets</th>\n      <th>alcohol</th>\n      <th>notes</th>\n    </tr>\n  </thead>\n  <tbody>\n    <tr>\n      <th>79</th>\n      <td>1875-08-19</td>\n      <td>1</td>\n      <td>0</td>\n      <td></td>\n    </tr>\n    <tr>\n      <th>80</th>\n      <td>1875-08-20</td>\n      <td>1</td>\n      <td>90</td>\n      <td></td>\n    </tr>\n    <tr>\n      <th>81</th>\n      <td>1875-08-21</td>\n      <td>1</td>\n      <td>0</td>\n      <td></td>\n    </tr>\n    <tr>\n      <th>82</th>\n      <td>1875-08-22</td>\n      <td>2</td>\n      <td>0</td>\n      <td></td>\n    </tr>\n    <tr>\n      <th>83</th>\n      <td>1875-08-23</td>\n      <td>2</td>\n      <td>0</td>\n      <td></td>\n    </tr>\n  </tbody>\n</table>\n</div>"
     },
     "execution_count": 33,
     "metadata": {},
     "output_type": "execute_result"
    }
   ],
   "source": [
    "eds.tail()"
   ],
   "metadata": {
    "collapsed": false,
    "pycharm": {
     "name": "#%%\n"
    }
   }
  },
  {
   "cell_type": "code",
   "execution_count": 34,
   "outputs": [],
   "source": [
    "eds.to_pickle(extra_data_pickle)"
   ],
   "metadata": {
    "collapsed": false,
    "pycharm": {
     "name": "#%%\n"
    }
   }
  }
 ],
 "metadata": {
  "kernelspec": {
   "display_name": "Python 3",
   "language": "python",
   "name": "python3"
  },
  "language_info": {
   "codemirror_mode": {
    "name": "ipython",
    "version": 2
   },
   "file_extension": ".py",
   "mimetype": "text/x-python",
   "name": "python",
   "nbconvert_exporter": "python",
   "pygments_lexer": "ipython2",
   "version": "2.7.6"
  }
 },
 "nbformat": 4,
 "nbformat_minor": 0
}