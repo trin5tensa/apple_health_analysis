{
 "cells": [
  {
   "cell_type": "markdown",
   "source": [
    "Copyright ©2022. Stephen Rigden. This program is free software: you can redistribute it and/or modify it under the terms of the GNU General Public License as published by the Free Software Foundation, either version 3 of the License, or (at your option) any later version. This program is distributed in the hope that it will be useful, but WITHOUT ANY WARRANTY; without even the implied warranty of MERCHANTABILITY or FITNESS FOR A PARTICULAR PURPOSE. See the GNU General Public License for more details. You should have received a copy of the GNU General Public License along with this program. If not, see http://www.gnu.org/licenses/."
   ],
   "metadata": {
    "collapsed": false
   }
  },
  {
   "cell_type": "code",
   "execution_count": 1,
   "outputs": [],
   "source": [
    "import pandas\n",
    "from pathlib import Path\n",
    "\n",
    "from heart_health import utilities"
   ],
   "metadata": {
    "collapsed": false,
    "pycharm": {
     "name": "#%%\n"
    }
   }
  },
  {
   "cell_type": "code",
   "execution_count": 2,
   "outputs": [],
   "source": [
    "# Set file paths\n",
    "project_path = Path.cwd().parent.parent\n",
    "extra_data_pickle = project_path / 'data' / 'processed' / 'extra_data_preprocessed.pickle'\n",
    "heart_data_pickle = project_path / 'data' / 'processed' / 'heart_preprocessed.pickle'\n",
    "heart_and_externals_pickle = project_path / 'data' / 'processed' / 'heart_and_externals.pickle'"
   ],
   "metadata": {
    "collapsed": false,
    "pycharm": {
     "name": "#%%\n"
    }
   }
  },
  {
   "cell_type": "markdown",
   "source": [
    "### Load and view the data"
   ],
   "metadata": {
    "collapsed": false,
    "pycharm": {
     "name": "#%% md\n"
    }
   }
  },
  {
   "cell_type": "code",
   "execution_count": 3,
   "outputs": [],
   "source": [
    "hds = pandas.read_pickle(heart_data_pickle)\n",
    "eds = pandas.read_pickle(extra_data_pickle)"
   ],
   "metadata": {
    "collapsed": false,
    "pycharm": {
     "name": "#%%\n"
    }
   }
  },
  {
   "cell_type": "code",
   "execution_count": 4,
   "outputs": [
    {
     "name": "stdout",
     "output_type": "stream",
     "text": [
      "<class 'pandas.core.frame.DataFrame'>\n",
      "Int64Index: 181400 entries, 5 to 181404\n",
      "Data columns (total 3 columns):\n",
      " #   Column  Non-Null Count   Dtype         \n",
      "---  ------  --------------   -----         \n",
      " 0   value   181400 non-null  float64       \n",
      " 1   type    181400 non-null  object        \n",
      " 2   date    181400 non-null  datetime64[ns]\n",
      "dtypes: datetime64[ns](1), float64(1), object(1)\n",
      "memory usage: 5.5+ MB\n"
     ]
    }
   ],
   "source": [
    "hds.info()"
   ],
   "metadata": {
    "collapsed": false,
    "pycharm": {
     "name": "#%%\n"
    }
   }
  },
  {
   "cell_type": "code",
   "execution_count": 5,
   "outputs": [
    {
     "data": {
      "text/plain": "   value                               type                date\n5   67.0  HKQuantityTypeIdentifierHeartRate 2020-03-30 20:11:49\n6   67.0  HKQuantityTypeIdentifierHeartRate 2020-03-30 20:16:17\n7   61.0  HKQuantityTypeIdentifierHeartRate 2020-03-30 20:21:09\n8   64.0  HKQuantityTypeIdentifierHeartRate 2020-03-30 20:21:13\n9   63.0  HKQuantityTypeIdentifierHeartRate 2020-03-30 20:21:18",
      "text/html": "<div>\n<style scoped>\n    .dataframe tbody tr th:only-of-type {\n        vertical-align: middle;\n    }\n\n    .dataframe tbody tr th {\n        vertical-align: top;\n    }\n\n    .dataframe thead th {\n        text-align: right;\n    }\n</style>\n<table border=\"1\" class=\"dataframe\">\n  <thead>\n    <tr style=\"text-align: right;\">\n      <th></th>\n      <th>value</th>\n      <th>type</th>\n      <th>date</th>\n    </tr>\n  </thead>\n  <tbody>\n    <tr>\n      <th>5</th>\n      <td>67.0</td>\n      <td>HKQuantityTypeIdentifierHeartRate</td>\n      <td>2020-03-30 20:11:49</td>\n    </tr>\n    <tr>\n      <th>6</th>\n      <td>67.0</td>\n      <td>HKQuantityTypeIdentifierHeartRate</td>\n      <td>2020-03-30 20:16:17</td>\n    </tr>\n    <tr>\n      <th>7</th>\n      <td>61.0</td>\n      <td>HKQuantityTypeIdentifierHeartRate</td>\n      <td>2020-03-30 20:21:09</td>\n    </tr>\n    <tr>\n      <th>8</th>\n      <td>64.0</td>\n      <td>HKQuantityTypeIdentifierHeartRate</td>\n      <td>2020-03-30 20:21:13</td>\n    </tr>\n    <tr>\n      <th>9</th>\n      <td>63.0</td>\n      <td>HKQuantityTypeIdentifierHeartRate</td>\n      <td>2020-03-30 20:21:18</td>\n    </tr>\n  </tbody>\n</table>\n</div>"
     },
     "execution_count": 5,
     "metadata": {},
     "output_type": "execute_result"
    }
   ],
   "source": [
    "hds.head()"
   ],
   "metadata": {
    "collapsed": false,
    "pycharm": {
     "name": "#%%\n"
    }
   }
  },
  {
   "cell_type": "code",
   "execution_count": 6,
   "outputs": [
    {
     "data": {
      "text/plain": "        value                                            type  \\\n181400   78.0  HKQuantityTypeIdentifierBloodPressureDiastolic   \n181401   70.0  HKQuantityTypeIdentifierBloodPressureDiastolic   \n181402   81.0  HKQuantityTypeIdentifierBloodPressureDiastolic   \n181403   79.0  HKQuantityTypeIdentifierBloodPressureDiastolic   \n181404   81.0  HKQuantityTypeIdentifierBloodPressureDiastolic   \n\n                      date  \n181400 2021-12-31 01:19:00  \n181401 2021-12-31 21:59:00  \n181402 2021-12-31 23:13:00  \n181403 2022-01-01 00:11:00  \n181404 2022-01-01 01:25:00  ",
      "text/html": "<div>\n<style scoped>\n    .dataframe tbody tr th:only-of-type {\n        vertical-align: middle;\n    }\n\n    .dataframe tbody tr th {\n        vertical-align: top;\n    }\n\n    .dataframe thead th {\n        text-align: right;\n    }\n</style>\n<table border=\"1\" class=\"dataframe\">\n  <thead>\n    <tr style=\"text-align: right;\">\n      <th></th>\n      <th>value</th>\n      <th>type</th>\n      <th>date</th>\n    </tr>\n  </thead>\n  <tbody>\n    <tr>\n      <th>181400</th>\n      <td>78.0</td>\n      <td>HKQuantityTypeIdentifierBloodPressureDiastolic</td>\n      <td>2021-12-31 01:19:00</td>\n    </tr>\n    <tr>\n      <th>181401</th>\n      <td>70.0</td>\n      <td>HKQuantityTypeIdentifierBloodPressureDiastolic</td>\n      <td>2021-12-31 21:59:00</td>\n    </tr>\n    <tr>\n      <th>181402</th>\n      <td>81.0</td>\n      <td>HKQuantityTypeIdentifierBloodPressureDiastolic</td>\n      <td>2021-12-31 23:13:00</td>\n    </tr>\n    <tr>\n      <th>181403</th>\n      <td>79.0</td>\n      <td>HKQuantityTypeIdentifierBloodPressureDiastolic</td>\n      <td>2022-01-01 00:11:00</td>\n    </tr>\n    <tr>\n      <th>181404</th>\n      <td>81.0</td>\n      <td>HKQuantityTypeIdentifierBloodPressureDiastolic</td>\n      <td>2022-01-01 01:25:00</td>\n    </tr>\n  </tbody>\n</table>\n</div>"
     },
     "execution_count": 6,
     "metadata": {},
     "output_type": "execute_result"
    }
   ],
   "source": [
    "hds.tail()"
   ],
   "metadata": {
    "collapsed": false,
    "pycharm": {
     "name": "#%%\n"
    }
   }
  },
  {
   "cell_type": "code",
   "execution_count": 7,
   "outputs": [
    {
     "name": "stdout",
     "output_type": "stream",
     "text": [
      "<class 'pandas.core.frame.DataFrame'>\n",
      "RangeIndex: 33 entries, 0 to 32\n",
      "Data columns (total 4 columns):\n",
      " #   Column         Non-Null Count  Dtype         \n",
      "---  ------         --------------  -----         \n",
      " 0   date           33 non-null     datetime64[ns]\n",
      " 1   heart_tablets  33 non-null     Int64         \n",
      " 2   alcohol        33 non-null     Int64         \n",
      " 3   notes          33 non-null     object        \n",
      "dtypes: Int64(2), datetime64[ns](1), object(1)\n",
      "memory usage: 1.2+ KB\n"
     ]
    }
   ],
   "source": [
    "eds.info()"
   ],
   "metadata": {
    "collapsed": false,
    "pycharm": {
     "name": "#%%\n"
    }
   }
  },
  {
   "cell_type": "code",
   "execution_count": 8,
   "outputs": [
    {
     "data": {
      "text/plain": "        date  heart_tablets  alcohol notes\n0 2021-12-01              2        0      \n1 2021-12-02              2      177      \n2 2021-12-03              2        0      \n3 2021-12-04              2        0      \n4 2021-12-05              2       30      ",
      "text/html": "<div>\n<style scoped>\n    .dataframe tbody tr th:only-of-type {\n        vertical-align: middle;\n    }\n\n    .dataframe tbody tr th {\n        vertical-align: top;\n    }\n\n    .dataframe thead th {\n        text-align: right;\n    }\n</style>\n<table border=\"1\" class=\"dataframe\">\n  <thead>\n    <tr style=\"text-align: right;\">\n      <th></th>\n      <th>date</th>\n      <th>heart_tablets</th>\n      <th>alcohol</th>\n      <th>notes</th>\n    </tr>\n  </thead>\n  <tbody>\n    <tr>\n      <th>0</th>\n      <td>2021-12-01</td>\n      <td>2</td>\n      <td>0</td>\n      <td></td>\n    </tr>\n    <tr>\n      <th>1</th>\n      <td>2021-12-02</td>\n      <td>2</td>\n      <td>177</td>\n      <td></td>\n    </tr>\n    <tr>\n      <th>2</th>\n      <td>2021-12-03</td>\n      <td>2</td>\n      <td>0</td>\n      <td></td>\n    </tr>\n    <tr>\n      <th>3</th>\n      <td>2021-12-04</td>\n      <td>2</td>\n      <td>0</td>\n      <td></td>\n    </tr>\n    <tr>\n      <th>4</th>\n      <td>2021-12-05</td>\n      <td>2</td>\n      <td>30</td>\n      <td></td>\n    </tr>\n  </tbody>\n</table>\n</div>"
     },
     "execution_count": 8,
     "metadata": {},
     "output_type": "execute_result"
    }
   ],
   "source": [
    "eds.head()"
   ],
   "metadata": {
    "collapsed": false,
    "pycharm": {
     "name": "#%%\n"
    }
   }
  },
  {
   "cell_type": "markdown",
   "source": [
    "### Extract blood pressure data and merge with extra data file"
   ],
   "metadata": {
    "collapsed": false
   }
  },
  {
   "cell_type": "code",
   "execution_count": 9,
   "outputs": [
    {
     "name": "stdout",
     "output_type": "stream",
     "text": [
      "<class 'pandas.core.frame.DataFrame'>\n",
      "Int64Index: 496 entries, 0 to 495\n",
      "Data columns (total 4 columns):\n",
      " #   Column          Non-Null Count  Dtype         \n",
      "---  ------          --------------  -----         \n",
      " 0   date            496 non-null    datetime64[ns]\n",
      " 1   systolic        496 non-null    float64       \n",
      " 2   diastolic       496 non-null    float64       \n",
      " 3   pulse pressure  496 non-null    float64       \n",
      "dtypes: datetime64[ns](1), float64(3)\n",
      "memory usage: 19.4 KB\n"
     ]
    }
   ],
   "source": [
    "bpds = utilities.create_blood_pressure_dataset(hds)\n",
    "bpds.info()"
   ],
   "metadata": {
    "collapsed": false,
    "pycharm": {
     "name": "#%%\n"
    }
   }
  },
  {
   "cell_type": "code",
   "execution_count": 10,
   "outputs": [
    {
     "data": {
      "text/plain": "                 date  systolic  diastolic  pulse pressure\n0 2021-08-06 20:53:00     153.0       79.0            74.0\n1 2021-08-06 20:58:00     136.0       85.0            51.0\n2 2021-08-06 23:13:00     135.0       77.0            58.0\n3 2021-08-07 01:14:00     121.0       73.0            48.0\n4 2021-08-07 22:21:00     132.0       71.0            61.0",
      "text/html": "<div>\n<style scoped>\n    .dataframe tbody tr th:only-of-type {\n        vertical-align: middle;\n    }\n\n    .dataframe tbody tr th {\n        vertical-align: top;\n    }\n\n    .dataframe thead th {\n        text-align: right;\n    }\n</style>\n<table border=\"1\" class=\"dataframe\">\n  <thead>\n    <tr style=\"text-align: right;\">\n      <th></th>\n      <th>date</th>\n      <th>systolic</th>\n      <th>diastolic</th>\n      <th>pulse pressure</th>\n    </tr>\n  </thead>\n  <tbody>\n    <tr>\n      <th>0</th>\n      <td>2021-08-06 20:53:00</td>\n      <td>153.0</td>\n      <td>79.0</td>\n      <td>74.0</td>\n    </tr>\n    <tr>\n      <th>1</th>\n      <td>2021-08-06 20:58:00</td>\n      <td>136.0</td>\n      <td>85.0</td>\n      <td>51.0</td>\n    </tr>\n    <tr>\n      <th>2</th>\n      <td>2021-08-06 23:13:00</td>\n      <td>135.0</td>\n      <td>77.0</td>\n      <td>58.0</td>\n    </tr>\n    <tr>\n      <th>3</th>\n      <td>2021-08-07 01:14:00</td>\n      <td>121.0</td>\n      <td>73.0</td>\n      <td>48.0</td>\n    </tr>\n    <tr>\n      <th>4</th>\n      <td>2021-08-07 22:21:00</td>\n      <td>132.0</td>\n      <td>71.0</td>\n      <td>61.0</td>\n    </tr>\n  </tbody>\n</table>\n</div>"
     },
     "execution_count": 10,
     "metadata": {},
     "output_type": "execute_result"
    }
   ],
   "source": [
    "bpds.head()"
   ],
   "metadata": {
    "collapsed": false,
    "pycharm": {
     "name": "#%%\n"
    }
   }
  },
  {
   "cell_type": "code",
   "execution_count": 11,
   "outputs": [
    {
     "name": "stdout",
     "output_type": "stream",
     "text": [
      "<class 'pandas.core.frame.DataFrame'>\n",
      "Int64Index: 112 entries, 0 to 111\n",
      "Data columns (total 9 columns):\n",
      " #   Column          Non-Null Count  Dtype         \n",
      "---  ------          --------------  -----         \n",
      " 0   date            112 non-null    datetime64[ns]\n",
      " 1   date_x          112 non-null    datetime64[ns]\n",
      " 2   systolic        112 non-null    float64       \n",
      " 3   diastolic       112 non-null    float64       \n",
      " 4   pulse pressure  112 non-null    float64       \n",
      " 5   date_y          112 non-null    datetime64[ns]\n",
      " 6   heart_tablets   112 non-null    Int64         \n",
      " 7   alcohol         112 non-null    Int64         \n",
      " 8   notes           112 non-null    object        \n",
      "dtypes: Int64(2), datetime64[ns](3), float64(3), object(1)\n",
      "memory usage: 9.0+ KB\n"
     ]
    }
   ],
   "source": [
    "day = bpds['date'].dt.date.astype('datetime64[ns]')\n",
    "bpds = bpds.merge(eds, left_on=[day], right_on=['date'])\n",
    "bpds.info()"
   ],
   "metadata": {
    "collapsed": false,
    "pycharm": {
     "name": "#%%\n"
    }
   }
  },
  {
   "cell_type": "code",
   "execution_count": 12,
   "outputs": [
    {
     "name": "stdout",
     "output_type": "stream",
     "text": [
      "<class 'pandas.core.frame.DataFrame'>\n",
      "Int64Index: 112 entries, 0 to 111\n",
      "Data columns (total 6 columns):\n",
      " #   Column          Non-Null Count  Dtype         \n",
      "---  ------          --------------  -----         \n",
      " 0   date            112 non-null    datetime64[ns]\n",
      " 1   systolic        112 non-null    float64       \n",
      " 2   diastolic       112 non-null    float64       \n",
      " 3   pulse pressure  112 non-null    float64       \n",
      " 4   heart_tablets   112 non-null    Int64         \n",
      " 5   alcohol         112 non-null    Int64         \n",
      "dtypes: Int64(2), datetime64[ns](1), float64(3)\n",
      "memory usage: 6.3 KB\n"
     ]
    }
   ],
   "source": [
    "bpds = bpds.loc[:, ['date_x', 'systolic', 'diastolic', 'pulse pressure', 'heart_tablets', 'alcohol']]\n",
    "bpds = bpds.rename(columns={'date_x': 'date'})\n",
    "bpds.info()"
   ],
   "metadata": {
    "collapsed": false,
    "pycharm": {
     "name": "#%%\n"
    }
   }
  },
  {
   "cell_type": "code",
   "execution_count": 13,
   "outputs": [
    {
     "data": {
      "text/plain": "                 date  systolic  diastolic  pulse pressure  heart_tablets  \\\n0 2021-12-01 22:30:00     131.0       86.0            45.0              2   \n1 2021-12-01 23:38:00     144.0       79.0            65.0              2   \n2 2021-12-02 00:22:00     140.0       80.0            60.0              2   \n3 2021-12-02 01:16:00     135.0       78.0            57.0              2   \n4 2021-12-02 22:19:00     131.0       70.0            61.0              2   \n\n   alcohol  \n0        0  \n1        0  \n2      177  \n3      177  \n4      177  ",
      "text/html": "<div>\n<style scoped>\n    .dataframe tbody tr th:only-of-type {\n        vertical-align: middle;\n    }\n\n    .dataframe tbody tr th {\n        vertical-align: top;\n    }\n\n    .dataframe thead th {\n        text-align: right;\n    }\n</style>\n<table border=\"1\" class=\"dataframe\">\n  <thead>\n    <tr style=\"text-align: right;\">\n      <th></th>\n      <th>date</th>\n      <th>systolic</th>\n      <th>diastolic</th>\n      <th>pulse pressure</th>\n      <th>heart_tablets</th>\n      <th>alcohol</th>\n    </tr>\n  </thead>\n  <tbody>\n    <tr>\n      <th>0</th>\n      <td>2021-12-01 22:30:00</td>\n      <td>131.0</td>\n      <td>86.0</td>\n      <td>45.0</td>\n      <td>2</td>\n      <td>0</td>\n    </tr>\n    <tr>\n      <th>1</th>\n      <td>2021-12-01 23:38:00</td>\n      <td>144.0</td>\n      <td>79.0</td>\n      <td>65.0</td>\n      <td>2</td>\n      <td>0</td>\n    </tr>\n    <tr>\n      <th>2</th>\n      <td>2021-12-02 00:22:00</td>\n      <td>140.0</td>\n      <td>80.0</td>\n      <td>60.0</td>\n      <td>2</td>\n      <td>177</td>\n    </tr>\n    <tr>\n      <th>3</th>\n      <td>2021-12-02 01:16:00</td>\n      <td>135.0</td>\n      <td>78.0</td>\n      <td>57.0</td>\n      <td>2</td>\n      <td>177</td>\n    </tr>\n    <tr>\n      <th>4</th>\n      <td>2021-12-02 22:19:00</td>\n      <td>131.0</td>\n      <td>70.0</td>\n      <td>61.0</td>\n      <td>2</td>\n      <td>177</td>\n    </tr>\n  </tbody>\n</table>\n</div>"
     },
     "execution_count": 13,
     "metadata": {},
     "output_type": "execute_result"
    }
   ],
   "source": [
    "bpds.head()"
   ],
   "metadata": {
    "collapsed": false,
    "pycharm": {
     "name": "#%%\n"
    }
   }
  },
  {
   "cell_type": "code",
   "execution_count": 14,
   "outputs": [
    {
     "data": {
      "text/plain": "                   date  systolic  diastolic  pulse pressure  heart_tablets  \\\n107 2021-12-31 01:19:00     137.0       78.0            59.0              2   \n108 2021-12-31 21:59:00     114.0       70.0            44.0              2   \n109 2021-12-31 23:13:00     134.0       81.0            53.0              2   \n110 2022-01-01 00:11:00     135.0       79.0            56.0              2   \n111 2022-01-01 01:25:00     137.0       81.0            56.0              2   \n\n     alcohol  \n107       30  \n108       30  \n109       30  \n110      106  \n111      106  ",
      "text/html": "<div>\n<style scoped>\n    .dataframe tbody tr th:only-of-type {\n        vertical-align: middle;\n    }\n\n    .dataframe tbody tr th {\n        vertical-align: top;\n    }\n\n    .dataframe thead th {\n        text-align: right;\n    }\n</style>\n<table border=\"1\" class=\"dataframe\">\n  <thead>\n    <tr style=\"text-align: right;\">\n      <th></th>\n      <th>date</th>\n      <th>systolic</th>\n      <th>diastolic</th>\n      <th>pulse pressure</th>\n      <th>heart_tablets</th>\n      <th>alcohol</th>\n    </tr>\n  </thead>\n  <tbody>\n    <tr>\n      <th>107</th>\n      <td>2021-12-31 01:19:00</td>\n      <td>137.0</td>\n      <td>78.0</td>\n      <td>59.0</td>\n      <td>2</td>\n      <td>30</td>\n    </tr>\n    <tr>\n      <th>108</th>\n      <td>2021-12-31 21:59:00</td>\n      <td>114.0</td>\n      <td>70.0</td>\n      <td>44.0</td>\n      <td>2</td>\n      <td>30</td>\n    </tr>\n    <tr>\n      <th>109</th>\n      <td>2021-12-31 23:13:00</td>\n      <td>134.0</td>\n      <td>81.0</td>\n      <td>53.0</td>\n      <td>2</td>\n      <td>30</td>\n    </tr>\n    <tr>\n      <th>110</th>\n      <td>2022-01-01 00:11:00</td>\n      <td>135.0</td>\n      <td>79.0</td>\n      <td>56.0</td>\n      <td>2</td>\n      <td>106</td>\n    </tr>\n    <tr>\n      <th>111</th>\n      <td>2022-01-01 01:25:00</td>\n      <td>137.0</td>\n      <td>81.0</td>\n      <td>56.0</td>\n      <td>2</td>\n      <td>106</td>\n    </tr>\n  </tbody>\n</table>\n</div>"
     },
     "execution_count": 14,
     "metadata": {},
     "output_type": "execute_result"
    }
   ],
   "source": [
    "bpds.tail()"
   ],
   "metadata": {
    "collapsed": false,
    "pycharm": {
     "name": "#%%\n"
    }
   }
  },
  {
   "cell_type": "code",
   "execution_count": 15,
   "outputs": [],
   "source": [
    "bpds.to_pickle(heart_and_externals_pickle)"
   ],
   "metadata": {
    "collapsed": false,
    "pycharm": {
     "name": "#%%\n"
    }
   }
  }
 ],
 "metadata": {
  "kernelspec": {
   "display_name": "Python 3",
   "language": "python",
   "name": "python3"
  },
  "language_info": {
   "codemirror_mode": {
    "name": "ipython",
    "version": 2
   },
   "file_extension": ".py",
   "mimetype": "text/x-python",
   "name": "python",
   "nbconvert_exporter": "python",
   "pygments_lexer": "ipython2",
   "version": "2.7.6"
  }
 },
 "nbformat": 4,
 "nbformat_minor": 0
}