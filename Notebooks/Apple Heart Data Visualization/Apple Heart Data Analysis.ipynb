{
 "cells": [
  {
   "cell_type": "markdown",
   "source": [
    "Copyright ©2022. Stephen Rigden.\n",
    "This program is free software: you can redistribute it and/or modify it under the terms of the GNU General Public License as published by the Free Software Foundation, either version 3 of the License, or (at your option) any later version.\n",
    "This program is distributed in the hope that it will be useful, but WITHOUT ANY WARRANTY; without even the implied warranty of MERCHANTABILITY or FITNESS FOR A PARTICULAR PURPOSE.  See the GNU General Public License for more details.\n",
    "You should have received a copy of the GNU General Public License along with this program.  If not, see <http://www.gnu.org/licenses/>."
   ],
   "metadata": {
    "collapsed": false
   }
  },
  {
   "cell_type": "markdown",
   "source": [
    "## Export iPhone Health Data\n",
    "See <<project folder>>README.md for instructions."
   ],
   "metadata": {
    "collapsed": false
   }
  },
  {
   "cell_type": "markdown",
   "source": [
    "## Load and Refine the xml Data File"
   ],
   "metadata": {
    "collapsed": false
   }
  },
  {
   "cell_type": "code",
   "execution_count": 1,
   "outputs": [],
   "source": [
    "# lxml is needed by pandas.read_xml so…\n",
    "# noinspection PyUnresolvedReferences\n",
    "import lxml\n",
    "from pathlib import Path\n",
    "import pandas"
   ],
   "metadata": {
    "collapsed": false,
    "pycharm": {
     "name": "#%% Imports\n"
    }
   }
  },
  {
   "cell_type": "code",
   "execution_count": 2,
   "outputs": [],
   "source": [
    "project_path = Path.cwd().parent.parent\n",
    "iphone_file = project_path / 'data' / 'raw' / f\"export.xml\"\n",
    "heart_rate_pickle = project_path / 'data' / 'processed' / 'heart_preprocessed.pickle'"
   ],
   "metadata": {
    "collapsed": false,
    "pycharm": {
     "name": "#%% Files\n"
    }
   }
  },
  {
   "cell_type": "code",
   "execution_count": 3,
   "outputs": [
    {
     "data": {
      "text/plain": "(1344, 9)"
     },
     "execution_count": 3,
     "metadata": {},
     "output_type": "execute_result"
    }
   ],
   "source": [
    "hf = pandas.read_xml(iphone_file)  # 1.25m records took 2 min on my 4 y.o MacBook Pro.\n",
    "hf.shape"
   ],
   "metadata": {
    "collapsed": false,
    "pycharm": {
     "name": "#%%\n"
    }
   }
  },
  {
   "cell_type": "code",
   "execution_count": 4,
   "outputs": [
    {
     "data": {
      "text/plain": "Index(['startDate', 'value', 'type', 'creationDate', 'endDate', 'sourceName',\n       'sourceVersion', 'unit', 'device'],\n      dtype='object')"
     },
     "execution_count": 4,
     "metadata": {},
     "output_type": "execute_result"
    }
   ],
   "source": [
    "hf.columns"
   ],
   "metadata": {
    "collapsed": false,
    "pycharm": {
     "name": "#%%\n"
    }
   }
  },
  {
   "cell_type": "code",
   "execution_count": 5,
   "outputs": [
    {
     "name": "stdout",
     "output_type": "stream",
     "text": [
      "<class 'pandas.core.frame.DataFrame'>\n",
      "RangeIndex: 1344 entries, 0 to 1343\n",
      "Data columns (total 9 columns):\n",
      " #   Column         Non-Null Count  Dtype \n",
      "---  ------         --------------  ----- \n",
      " 0   startDate      1344 non-null   object\n",
      " 1   value          1344 non-null   int64 \n",
      " 2   type           1344 non-null   object\n",
      " 3   creationDate   1344 non-null   object\n",
      " 4   endDate        1344 non-null   object\n",
      " 5   sourceName     1344 non-null   object\n",
      " 6   sourceVersion  1344 non-null   object\n",
      " 7   unit           1344 non-null   object\n",
      " 8   device         1344 non-null   object\n",
      "dtypes: int64(1), object(8)\n",
      "memory usage: 94.6+ KB\n"
     ]
    }
   ],
   "source": [
    "hf.info()"
   ],
   "metadata": {
    "collapsed": false,
    "pycharm": {
     "name": "#%%\n"
    }
   }
  },
  {
   "cell_type": "markdown",
   "source": [
    "# Refine Dataset\n",
    "\n",
    "Extract columns and rows with useful information."
   ],
   "metadata": {
    "collapsed": false,
    "pycharm": {
     "name": "#%% md\n"
    }
   }
  },
  {
   "cell_type": "markdown",
   "source": [
    "#### Refine columns (pass 1)"
   ],
   "metadata": {
    "collapsed": false
   }
  },
  {
   "cell_type": "code",
   "execution_count": 6,
   "outputs": [
    {
     "data": {
      "text/plain": "(1344, 9)"
     },
     "execution_count": 6,
     "metadata": {},
     "output_type": "execute_result"
    }
   ],
   "source": [
    "health_file = hf.loc[:, ['value', 'type', 'sourceName', 'sourceVersion', 'unit',\n",
    "                         'creationDate', 'startDate', 'endDate', 'device']]\n",
    "health_file.shape"
   ],
   "metadata": {
    "collapsed": false,
    "pycharm": {
     "name": "#%%\n"
    }
   }
  },
  {
   "cell_type": "code",
   "execution_count": 7,
   "outputs": [
    {
     "name": "stdout",
     "output_type": "stream",
     "text": [
      "<class 'pandas.core.frame.DataFrame'>\n",
      "RangeIndex: 1344 entries, 0 to 1343\n",
      "Data columns (total 9 columns):\n",
      " #   Column         Non-Null Count  Dtype \n",
      "---  ------         --------------  ----- \n",
      " 0   value          1344 non-null   int64 \n",
      " 1   type           1344 non-null   object\n",
      " 2   sourceName     1344 non-null   object\n",
      " 3   sourceVersion  1344 non-null   object\n",
      " 4   unit           1344 non-null   object\n",
      " 5   creationDate   1344 non-null   object\n",
      " 6   startDate      1344 non-null   object\n",
      " 7   endDate        1344 non-null   object\n",
      " 8   device         1344 non-null   object\n",
      "dtypes: int64(1), object(8)\n",
      "memory usage: 94.6+ KB\n"
     ]
    }
   ],
   "source": [
    "health_file.info()"
   ],
   "metadata": {
    "collapsed": false,
    "pycharm": {
     "name": "#%%\n"
    }
   }
  },
  {
   "cell_type": "markdown",
   "source": [
    "#### Refine Rows"
   ],
   "metadata": {
    "collapsed": false
   }
  },
  {
   "cell_type": "code",
   "execution_count": 8,
   "outputs": [
    {
     "data": {
      "text/plain": "   value                                            type           sourceName  \\\n0    120   HKQuantityTypeIdentifierBloodPressureSystolic  Mock Data Generator   \n1     79  HKQuantityTypeIdentifierBloodPressureDiastolic  Mock Data Generator   \n2    116   HKQuantityTypeIdentifierBloodPressureSystolic  Mock Data Generator   \n3     85  HKQuantityTypeIdentifierBloodPressureDiastolic  Mock Data Generator   \n4    113   HKQuantityTypeIdentifierBloodPressureSystolic  Mock Data Generator   \n5     90  HKQuantityTypeIdentifierBloodPressureDiastolic  Mock Data Generator   \n6    126   HKQuantityTypeIdentifierBloodPressureSystolic  Mock Data Generator   \n\n   sourceVersion   unit         creationDate            startDate  \\\n0  1e-googolplex  mm Hg  2020-06-01 00:00:00  2020-06-01 00:00:00   \n1  1e-googolplex  mm Hg  2020-06-01 00:00:00  2020-06-01 00:00:00   \n2  1e-googolplex  mm Hg  2020-06-01 06:00:00  2020-06-01 06:00:00   \n3  1e-googolplex  mm Hg  2020-06-01 06:00:00  2020-06-01 06:00:00   \n4  1e-googolplex  mm Hg  2020-06-01 12:00:00  2020-06-01 12:00:00   \n5  1e-googolplex  mm Hg  2020-06-01 12:00:00  2020-06-01 12:00:00   \n6  1e-googolplex  mm Hg  2020-06-01 18:00:00  2020-06-01 18:00:00   \n\n               endDate      device  \n0  2020-06-01 00:00:00  Holy Grail  \n1  2020-06-01 00:00:00  Holy Grail  \n2  2020-06-01 06:00:00  Holy Grail  \n3  2020-06-01 06:00:00  Holy Grail  \n4  2020-06-01 12:00:00  Holy Grail  \n5  2020-06-01 12:00:00  Holy Grail  \n6  2020-06-01 18:00:00  Holy Grail  ",
      "text/html": "<div>\n<style scoped>\n    .dataframe tbody tr th:only-of-type {\n        vertical-align: middle;\n    }\n\n    .dataframe tbody tr th {\n        vertical-align: top;\n    }\n\n    .dataframe thead th {\n        text-align: right;\n    }\n</style>\n<table border=\"1\" class=\"dataframe\">\n  <thead>\n    <tr style=\"text-align: right;\">\n      <th></th>\n      <th>value</th>\n      <th>type</th>\n      <th>sourceName</th>\n      <th>sourceVersion</th>\n      <th>unit</th>\n      <th>creationDate</th>\n      <th>startDate</th>\n      <th>endDate</th>\n      <th>device</th>\n    </tr>\n  </thead>\n  <tbody>\n    <tr>\n      <th>0</th>\n      <td>120</td>\n      <td>HKQuantityTypeIdentifierBloodPressureSystolic</td>\n      <td>Mock Data Generator</td>\n      <td>1e-googolplex</td>\n      <td>mm Hg</td>\n      <td>2020-06-01 00:00:00</td>\n      <td>2020-06-01 00:00:00</td>\n      <td>2020-06-01 00:00:00</td>\n      <td>Holy Grail</td>\n    </tr>\n    <tr>\n      <th>1</th>\n      <td>79</td>\n      <td>HKQuantityTypeIdentifierBloodPressureDiastolic</td>\n      <td>Mock Data Generator</td>\n      <td>1e-googolplex</td>\n      <td>mm Hg</td>\n      <td>2020-06-01 00:00:00</td>\n      <td>2020-06-01 00:00:00</td>\n      <td>2020-06-01 00:00:00</td>\n      <td>Holy Grail</td>\n    </tr>\n    <tr>\n      <th>2</th>\n      <td>116</td>\n      <td>HKQuantityTypeIdentifierBloodPressureSystolic</td>\n      <td>Mock Data Generator</td>\n      <td>1e-googolplex</td>\n      <td>mm Hg</td>\n      <td>2020-06-01 06:00:00</td>\n      <td>2020-06-01 06:00:00</td>\n      <td>2020-06-01 06:00:00</td>\n      <td>Holy Grail</td>\n    </tr>\n    <tr>\n      <th>3</th>\n      <td>85</td>\n      <td>HKQuantityTypeIdentifierBloodPressureDiastolic</td>\n      <td>Mock Data Generator</td>\n      <td>1e-googolplex</td>\n      <td>mm Hg</td>\n      <td>2020-06-01 06:00:00</td>\n      <td>2020-06-01 06:00:00</td>\n      <td>2020-06-01 06:00:00</td>\n      <td>Holy Grail</td>\n    </tr>\n    <tr>\n      <th>4</th>\n      <td>113</td>\n      <td>HKQuantityTypeIdentifierBloodPressureSystolic</td>\n      <td>Mock Data Generator</td>\n      <td>1e-googolplex</td>\n      <td>mm Hg</td>\n      <td>2020-06-01 12:00:00</td>\n      <td>2020-06-01 12:00:00</td>\n      <td>2020-06-01 12:00:00</td>\n      <td>Holy Grail</td>\n    </tr>\n    <tr>\n      <th>5</th>\n      <td>90</td>\n      <td>HKQuantityTypeIdentifierBloodPressureDiastolic</td>\n      <td>Mock Data Generator</td>\n      <td>1e-googolplex</td>\n      <td>mm Hg</td>\n      <td>2020-06-01 12:00:00</td>\n      <td>2020-06-01 12:00:00</td>\n      <td>2020-06-01 12:00:00</td>\n      <td>Holy Grail</td>\n    </tr>\n    <tr>\n      <th>6</th>\n      <td>126</td>\n      <td>HKQuantityTypeIdentifierBloodPressureSystolic</td>\n      <td>Mock Data Generator</td>\n      <td>1e-googolplex</td>\n      <td>mm Hg</td>\n      <td>2020-06-01 18:00:00</td>\n      <td>2020-06-01 18:00:00</td>\n      <td>2020-06-01 18:00:00</td>\n      <td>Holy Grail</td>\n    </tr>\n  </tbody>\n</table>\n</div>"
     },
     "execution_count": 8,
     "metadata": {},
     "output_type": "execute_result"
    }
   ],
   "source": [
    "health_file.head(7)"
   ],
   "metadata": {
    "collapsed": false,
    "pycharm": {
     "name": "#%%\n"
    }
   }
  },
  {
   "cell_type": "code",
   "execution_count": 9,
   "outputs": [
    {
     "data": {
      "text/plain": "      value                                            type  \\\n1339    104   HKQuantityTypeIdentifierBloodPressureSystolic   \n1340     87  HKQuantityTypeIdentifierBloodPressureDiastolic   \n1341    128   HKQuantityTypeIdentifierBloodPressureSystolic   \n1342    114   HKQuantityTypeIdentifierBloodPressureSystolic   \n1343     81  HKQuantityTypeIdentifierBloodPressureDiastolic   \n\n               sourceName  sourceVersion   unit         creationDate  \\\n1339  Mock Data Generator  1e-googolplex  mm Hg  2020-11-15 06:00:00   \n1340  Mock Data Generator  1e-googolplex  mm Hg  2020-11-15 12:00:00   \n1341  Mock Data Generator  1e-googolplex  mm Hg  2020-11-15 12:00:00   \n1342  Mock Data Generator  1e-googolplex  mm Hg  2020-11-15 18:00:00   \n1343  Mock Data Generator  1e-googolplex  mm Hg  2020-11-15 18:00:00   \n\n                startDate              endDate      device  \n1339  2020-11-15 06:00:00  2020-11-15 06:00:00  Holy Grail  \n1340  2020-11-15 12:00:00  2020-11-15 12:00:00  Holy Grail  \n1341  2020-11-15 12:00:00  2020-11-15 12:00:00  Holy Grail  \n1342  2020-11-15 18:00:00  2020-11-15 18:00:00  Holy Grail  \n1343  2020-11-15 18:00:00  2020-11-15 18:00:00  Holy Grail  ",
      "text/html": "<div>\n<style scoped>\n    .dataframe tbody tr th:only-of-type {\n        vertical-align: middle;\n    }\n\n    .dataframe tbody tr th {\n        vertical-align: top;\n    }\n\n    .dataframe thead th {\n        text-align: right;\n    }\n</style>\n<table border=\"1\" class=\"dataframe\">\n  <thead>\n    <tr style=\"text-align: right;\">\n      <th></th>\n      <th>value</th>\n      <th>type</th>\n      <th>sourceName</th>\n      <th>sourceVersion</th>\n      <th>unit</th>\n      <th>creationDate</th>\n      <th>startDate</th>\n      <th>endDate</th>\n      <th>device</th>\n    </tr>\n  </thead>\n  <tbody>\n    <tr>\n      <th>1339</th>\n      <td>104</td>\n      <td>HKQuantityTypeIdentifierBloodPressureSystolic</td>\n      <td>Mock Data Generator</td>\n      <td>1e-googolplex</td>\n      <td>mm Hg</td>\n      <td>2020-11-15 06:00:00</td>\n      <td>2020-11-15 06:00:00</td>\n      <td>2020-11-15 06:00:00</td>\n      <td>Holy Grail</td>\n    </tr>\n    <tr>\n      <th>1340</th>\n      <td>87</td>\n      <td>HKQuantityTypeIdentifierBloodPressureDiastolic</td>\n      <td>Mock Data Generator</td>\n      <td>1e-googolplex</td>\n      <td>mm Hg</td>\n      <td>2020-11-15 12:00:00</td>\n      <td>2020-11-15 12:00:00</td>\n      <td>2020-11-15 12:00:00</td>\n      <td>Holy Grail</td>\n    </tr>\n    <tr>\n      <th>1341</th>\n      <td>128</td>\n      <td>HKQuantityTypeIdentifierBloodPressureSystolic</td>\n      <td>Mock Data Generator</td>\n      <td>1e-googolplex</td>\n      <td>mm Hg</td>\n      <td>2020-11-15 12:00:00</td>\n      <td>2020-11-15 12:00:00</td>\n      <td>2020-11-15 12:00:00</td>\n      <td>Holy Grail</td>\n    </tr>\n    <tr>\n      <th>1342</th>\n      <td>114</td>\n      <td>HKQuantityTypeIdentifierBloodPressureSystolic</td>\n      <td>Mock Data Generator</td>\n      <td>1e-googolplex</td>\n      <td>mm Hg</td>\n      <td>2020-11-15 18:00:00</td>\n      <td>2020-11-15 18:00:00</td>\n      <td>2020-11-15 18:00:00</td>\n      <td>Holy Grail</td>\n    </tr>\n    <tr>\n      <th>1343</th>\n      <td>81</td>\n      <td>HKQuantityTypeIdentifierBloodPressureDiastolic</td>\n      <td>Mock Data Generator</td>\n      <td>1e-googolplex</td>\n      <td>mm Hg</td>\n      <td>2020-11-15 18:00:00</td>\n      <td>2020-11-15 18:00:00</td>\n      <td>2020-11-15 18:00:00</td>\n      <td>Holy Grail</td>\n    </tr>\n  </tbody>\n</table>\n</div>"
     },
     "execution_count": 9,
     "metadata": {},
     "output_type": "execute_result"
    }
   ],
   "source": [
    "health_file.tail()"
   ],
   "metadata": {
    "collapsed": false,
    "pycharm": {
     "name": "#%%\n"
    }
   }
  },
  {
   "cell_type": "code",
   "execution_count": 10,
   "outputs": [
    {
     "data": {
      "text/plain": "HKQuantityTypeIdentifierBloodPressureSystolic     672\nHKQuantityTypeIdentifierBloodPressureDiastolic    672\nName: type, dtype: int64"
     },
     "execution_count": 10,
     "metadata": {},
     "output_type": "execute_result"
    }
   ],
   "source": [
    "health_file['type'].value_counts()"
   ],
   "metadata": {
    "collapsed": false,
    "pycharm": {
     "name": "#%%\n"
    }
   }
  },
  {
   "cell_type": "markdown",
   "source": [
    "#### Select rows with heart types. Refine columns (pass 2)"
   ],
   "metadata": {
    "collapsed": false
   }
  },
  {
   "cell_type": "code",
   "execution_count": 11,
   "outputs": [
    {
     "name": "stdout",
     "output_type": "stream",
     "text": [
      "<class 'pandas.core.frame.DataFrame'>\n",
      "Int64Index: 1344 entries, 0 to 1343\n",
      "Data columns (total 3 columns):\n",
      " #   Column  Non-Null Count  Dtype         \n",
      "---  ------  --------------  -----         \n",
      " 0   value   1344 non-null   float64       \n",
      " 1   type    1344 non-null   object        \n",
      " 2   date    1344 non-null   datetime64[ns]\n",
      "dtypes: datetime64[ns](1), float64(1), object(1)\n",
      "memory usage: 42.0+ KB\n"
     ]
    }
   ],
   "source": [
    "heart_rate = health_file['type'] == 'HKQuantityTypeIdentifierHeartRate'\n",
    "bp_diastolic = health_file['type'] == 'HKQuantityTypeIdentifierBloodPressureDiastolic'\n",
    "bp_systolic = health_file['type'] == 'HKQuantityTypeIdentifierBloodPressureSystolic'\n",
    "ds = health_file.loc[heart_rate | bp_diastolic | bp_systolic, ['value', 'type', 'startDate']]\n",
    "ds.loc[:, 'value'] = ds['value'].astype('float')\n",
    "ds = ds.rename(columns={'startDate': 'date'})\n",
    "ds.loc[:, 'date'] = ds['date'].astype('datetime64[ns]')\n",
    "ds.info()"
   ],
   "metadata": {
    "collapsed": false,
    "pycharm": {
     "name": "#%%\n"
    }
   }
  },
  {
   "cell_type": "code",
   "execution_count": 12,
   "outputs": [
    {
     "data": {
      "text/plain": "Timestamp('2020-06-01 00:00:00')"
     },
     "execution_count": 12,
     "metadata": {},
     "output_type": "execute_result"
    }
   ],
   "source": [
    "ds.date.min()"
   ],
   "metadata": {
    "collapsed": false,
    "pycharm": {
     "name": "#%%\n"
    }
   }
  },
  {
   "cell_type": "code",
   "execution_count": 13,
   "outputs": [
    {
     "data": {
      "text/plain": "Timestamp('2020-11-15 18:00:00')"
     },
     "execution_count": 13,
     "metadata": {},
     "output_type": "execute_result"
    }
   ],
   "source": [
    "ds.date.max()"
   ],
   "metadata": {
    "collapsed": false,
    "pycharm": {
     "name": "#%%\n"
    }
   }
  },
  {
   "cell_type": "code",
   "execution_count": 14,
   "outputs": [],
   "source": [
    "ds.to_pickle(heart_rate_pickle)"
   ],
   "metadata": {
    "collapsed": false,
    "pycharm": {
     "name": "#%%\n"
    }
   }
  }
 ],
 "metadata": {
  "kernelspec": {
   "display_name": "Python 3",
   "language": "python",
   "name": "python3"
  },
  "language_info": {
   "codemirror_mode": {
    "name": "ipython",
    "version": 2
   },
   "file_extension": ".py",
   "mimetype": "text/x-python",
   "name": "python",
   "nbconvert_exporter": "python",
   "pygments_lexer": "ipython2",
   "version": "2.7.6"
  }
 },
 "nbformat": 4,
 "nbformat_minor": 0
}