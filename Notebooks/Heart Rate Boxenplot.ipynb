{
 "cells": [
  {
   "cell_type": "markdown",
   "source": [
    "Copyright ©2021-2022. Stephen Rigden.\n",
    "This program is free software: you can redistribute it and/or modify it under the terms of the GNU General Public License as published by the Free Software Foundation, either version 3 of the License, or (at your option) any later version.\n",
    "This program is distributed in the hope that it will be useful, but WITHOUT ANY WARRANTY; without even the implied warranty of MERCHANTABILITY or FITNESS FOR A PARTICULAR PURPOSE.  See the GNU General Public License for more details.\n",
    "You should have received a copy of the GNU General Public License along with this program.  If not, see <http://www.gnu.org/licenses/>."
   ],
   "metadata": {
    "collapsed": false
   }
  },
  {
   "cell_type": "markdown",
   "metadata": {
    "collapsed": true,
    "pycharm": {
     "name": "#%% md\n"
    }
   },
   "source": [
    "# Plot Heart Rate"
   ]
  },
  {
   "cell_type": "code",
   "execution_count": 98,
   "outputs": [],
   "source": [
    "import pandas\n",
    "from pathlib import Path\n",
    "from matplotlib import pyplot\n",
    "import seaborn\n",
    "\n",
    "from utilities import TimeCategories\n",
    "\n",
    "\n",
    "seaborn.set_style('darkgrid')  # one of {darkgrid, whitegrid, dark, white, ticks}"
   ],
   "metadata": {
    "collapsed": false,
    "pycharm": {
     "name": "#%%\n"
    }
   }
  },
  {
   "cell_type": "code",
   "execution_count": 99,
   "outputs": [],
   "source": [
    "project_path = Path.cwd().parent\n",
    "heart_df_pickle = project_path / 'data' / 'processed' / 'heart_preprocessed.pickle'\n",
    "heart_rate_pdf = project_path / 'reports' / 'heart_rate.pdf'\n",
    "heart_rate_jpg = project_path / 'reports' / 'heart_rate.jpg'"
   ],
   "metadata": {
    "collapsed": false,
    "pycharm": {
     "name": "#%%\n"
    }
   }
  },
  {
   "cell_type": "markdown",
   "source": [],
   "metadata": {
    "collapsed": false,
    "pycharm": {
     "name": "#%% md\n"
    }
   }
  },
  {
   "cell_type": "code",
   "execution_count": 100,
   "outputs": [],
   "source": [
    "ds = pandas.read_pickle(heart_df_pickle)\n",
    "\n",
    "heart_rate = ds['type'] == 'HKQuantityTypeIdentifierHeartRate'\n",
    "ds = ds.loc[heart_rate, ['date', 'value']]\n",
    "ds = ds.rename(columns={'value': 'heart rate'})"
   ],
   "metadata": {
    "collapsed": false,
    "pycharm": {
     "name": "#%%\n"
    }
   }
  },
  {
   "cell_type": "markdown",
   "source": [
    "#### Review the data's structure"
   ],
   "metadata": {
    "collapsed": false
   }
  },
  {
   "cell_type": "code",
   "execution_count": 101,
   "outputs": [
    {
     "name": "stdout",
     "output_type": "stream",
     "text": [
      "<class 'pandas.core.frame.DataFrame'>\n",
      "Int64Index: 176143 entries, 5 to 176147\n",
      "Data columns (total 2 columns):\n",
      " #   Column      Non-Null Count   Dtype         \n",
      "---  ------      --------------   -----         \n",
      " 0   date        176143 non-null  datetime64[ns]\n",
      " 1   heart rate  176143 non-null  float64       \n",
      "dtypes: datetime64[ns](1), float64(1)\n",
      "memory usage: 4.0 MB\n"
     ]
    }
   ],
   "source": [
    "ds.info()"
   ],
   "metadata": {
    "collapsed": false,
    "pycharm": {
     "name": "#%%\n"
    }
   }
  },
  {
   "cell_type": "code",
   "execution_count": 102,
   "outputs": [
    {
     "data": {
      "text/plain": "                 date  heart rate\n5 2020-03-30 20:11:49        67.0\n6 2020-03-30 20:16:17        67.0\n7 2020-03-30 20:21:09        61.0\n8 2020-03-30 20:21:13        64.0\n9 2020-03-30 20:21:18        63.0",
      "text/html": "<div>\n<style scoped>\n    .dataframe tbody tr th:only-of-type {\n        vertical-align: middle;\n    }\n\n    .dataframe tbody tr th {\n        vertical-align: top;\n    }\n\n    .dataframe thead th {\n        text-align: right;\n    }\n</style>\n<table border=\"1\" class=\"dataframe\">\n  <thead>\n    <tr style=\"text-align: right;\">\n      <th></th>\n      <th>date</th>\n      <th>heart rate</th>\n    </tr>\n  </thead>\n  <tbody>\n    <tr>\n      <th>5</th>\n      <td>2020-03-30 20:11:49</td>\n      <td>67.0</td>\n    </tr>\n    <tr>\n      <th>6</th>\n      <td>2020-03-30 20:16:17</td>\n      <td>67.0</td>\n    </tr>\n    <tr>\n      <th>7</th>\n      <td>2020-03-30 20:21:09</td>\n      <td>61.0</td>\n    </tr>\n    <tr>\n      <th>8</th>\n      <td>2020-03-30 20:21:13</td>\n      <td>64.0</td>\n    </tr>\n    <tr>\n      <th>9</th>\n      <td>2020-03-30 20:21:18</td>\n      <td>63.0</td>\n    </tr>\n  </tbody>\n</table>\n</div>"
     },
     "execution_count": 102,
     "metadata": {},
     "output_type": "execute_result"
    }
   ],
   "source": [
    "ds.head()"
   ],
   "metadata": {
    "collapsed": false,
    "pycharm": {
     "name": "#%%\n"
    }
   }
  },
  {
   "cell_type": "code",
   "execution_count": 103,
   "outputs": [
    {
     "data": {
      "text/plain": "Timestamp('2021-12-01 18:19:16')"
     },
     "execution_count": 103,
     "metadata": {},
     "output_type": "execute_result"
    }
   ],
   "source": [
    "ds.date.max()"
   ],
   "metadata": {
    "collapsed": false,
    "pycharm": {
     "name": "#%%\n"
    }
   }
  },
  {
   "cell_type": "code",
   "execution_count": 104,
   "outputs": [
    {
     "data": {
      "text/plain": "Timestamp('2020-03-30 20:11:49')"
     },
     "execution_count": 104,
     "metadata": {},
     "output_type": "execute_result"
    }
   ],
   "source": [
    "ds.date.min()"
   ],
   "metadata": {
    "collapsed": false,
    "pycharm": {
     "name": "#%%\n"
    }
   }
  },
  {
   "cell_type": "markdown",
   "source": [
    "### Divide data into ten time buckets"
   ],
   "metadata": {
    "collapsed": false
   }
  },
  {
   "cell_type": "code",
   "execution_count": 105,
   "outputs": [
    {
     "data": {
      "text/plain": "TimeCategories(start_date=Timestamp('2020-04-01 18:19:16'), end_date=Timestamp('2021-12-01 18:19:16'), bucket_size=61)"
     },
     "execution_count": 105,
     "metadata": {},
     "output_type": "execute_result"
    }
   ],
   "source": [
    "start = ds.date.min()\n",
    "end = ds.date.max()\n",
    "period_of_interest = end - start\n",
    "bucket_size = int(str(period_of_interest.days)) // 10\n",
    "categories = TimeCategories(start, end, bucket_size)\n",
    "categories"
   ],
   "metadata": {
    "collapsed": false,
    "pycharm": {
     "name": "#%%\n"
    }
   }
  },
  {
   "cell_type": "code",
   "execution_count": 106,
   "outputs": [
    {
     "name": "stdout",
     "output_type": "stream",
     "text": [
      "<class 'pandas.core.frame.DataFrame'>\n",
      "Int64Index: 176143 entries, 5 to 176147\n",
      "Data columns (total 3 columns):\n",
      " #   Column      Non-Null Count   Dtype         \n",
      "---  ------      --------------   -----         \n",
      " 0   date        176143 non-null  datetime64[ns]\n",
      " 1   heart rate  176143 non-null  float64       \n",
      " 2   bucket      175826 non-null  object        \n",
      "dtypes: datetime64[ns](1), float64(1), object(1)\n",
      "memory usage: 5.4+ MB\n"
     ]
    }
   ],
   "source": [
    "ds['bucket'] = ds['date'].apply(categories.get_bucket)\n",
    "ds.info()"
   ],
   "metadata": {
    "collapsed": false,
    "pycharm": {
     "name": "#%%\n"
    }
   }
  },
  {
   "cell_type": "markdown",
   "source": [
    "### Box plot"
   ],
   "metadata": {
    "collapsed": false,
    "pycharm": {
     "name": "#%% md\n"
    }
   }
  },
  {
   "cell_type": "code",
   "execution_count": 107,
   "outputs": [
    {
     "data": {
      "text/plain": "<AxesSubplot:xlabel='bucket', ylabel='heart rate'>"
     },
     "execution_count": 107,
     "metadata": {},
     "output_type": "execute_result"
    },
    {
     "data": {
      "text/plain": "<Figure size 1080x432 with 1 Axes>",
      "image/png": "[encoded data removed]"
     },
     "metadata": {},
     "output_type": "display_data"
    }
   ],
   "source": [
    "_, axes = pyplot.subplots(figsize=(15, 6))\n",
    "seaborn.boxplot(data=ds,\n",
    "                x='bucket', y='heart rate',\n",
    "                ax=axes, palette=['azure'])"
   ],
   "metadata": {
    "collapsed": false,
    "pycharm": {
     "name": "#%%\n"
    }
   }
  },
  {
   "cell_type": "markdown",
   "source": [
    "### Boxenplot"
   ],
   "metadata": {
    "collapsed": false
   }
  },
  {
   "cell_type": "code",
   "execution_count": 108,
   "outputs": [
    {
     "data": {
      "text/plain": "<AxesSubplot:xlabel='bucket', ylabel='heart rate'>"
     },
     "execution_count": 108,
     "metadata": {},
     "output_type": "execute_result"
    },
    {
     "data": {
      "text/plain": "<Figure size 1080x432 with 1 Axes>",
      "image/png": "[encoded data removed]"
     },
     "metadata": {},
     "output_type": "display_data"
    }
   ],
   "source": [
    "_, axes = pyplot.subplots(figsize=(15, 6))\n",
    "seaborn.boxenplot(data=ds,\n",
    "                x='bucket', y='heart rate',\n",
    "                ax=axes, palette=['azure'])"
   ],
   "metadata": {
    "collapsed": false,
    "pycharm": {
     "name": "#%%\n"
    }
   }
  },
  {
   "cell_type": "markdown",
   "source": [
    "### Ten period buckets since June 1st, 2021"
   ],
   "metadata": {
    "collapsed": false
   }
  },
  {
   "cell_type": "code",
   "execution_count": 109,
   "outputs": [
    {
     "data": {
      "text/plain": "TimeCategories(start_date=Timestamp('2021-06-05 18:19:16'), end_date=Timestamp('2021-12-01 18:19:16'), bucket_size=18)"
     },
     "execution_count": 109,
     "metadata": {},
     "output_type": "execute_result"
    }
   ],
   "source": [
    "start = pandas.Timestamp(year=2021, month=6, day=1)\n",
    "period_of_interest = end - start\n",
    "bucket_size = int(str(period_of_interest.days)) // 10\n",
    "categories_2 = TimeCategories(start, end, bucket_size)\n",
    "categories_2"
   ],
   "metadata": {
    "collapsed": false,
    "pycharm": {
     "name": "#%%\n"
    }
   }
  },
  {
   "cell_type": "code",
   "execution_count": 110,
   "outputs": [
    {
     "data": {
      "text/plain": "                 date  heart rate\n5 2020-03-30 20:11:49        67.0\n6 2020-03-30 20:16:17        67.0\n7 2020-03-30 20:21:09        61.0\n8 2020-03-30 20:21:13        64.0\n9 2020-03-30 20:21:18        63.0",
      "text/html": "<div>\n<style scoped>\n    .dataframe tbody tr th:only-of-type {\n        vertical-align: middle;\n    }\n\n    .dataframe tbody tr th {\n        vertical-align: top;\n    }\n\n    .dataframe thead th {\n        text-align: right;\n    }\n</style>\n<table border=\"1\" class=\"dataframe\">\n  <thead>\n    <tr style=\"text-align: right;\">\n      <th></th>\n      <th>date</th>\n      <th>heart rate</th>\n    </tr>\n  </thead>\n  <tbody>\n    <tr>\n      <th>5</th>\n      <td>2020-03-30 20:11:49</td>\n      <td>67.0</td>\n    </tr>\n    <tr>\n      <th>6</th>\n      <td>2020-03-30 20:16:17</td>\n      <td>67.0</td>\n    </tr>\n    <tr>\n      <th>7</th>\n      <td>2020-03-30 20:21:09</td>\n      <td>61.0</td>\n    </tr>\n    <tr>\n      <th>8</th>\n      <td>2020-03-30 20:21:13</td>\n      <td>64.0</td>\n    </tr>\n    <tr>\n      <th>9</th>\n      <td>2020-03-30 20:21:18</td>\n      <td>63.0</td>\n    </tr>\n  </tbody>\n</table>\n</div>"
     },
     "execution_count": 110,
     "metadata": {},
     "output_type": "execute_result"
    }
   ],
   "source": [
    "ds2 = ds.loc[:, ['date', 'heart rate']]\n",
    "ds2.head()"
   ],
   "metadata": {
    "collapsed": false,
    "pycharm": {
     "name": "#%%\n"
    }
   }
  },
  {
   "cell_type": "code",
   "execution_count": 111,
   "outputs": [
    {
     "name": "stdout",
     "output_type": "stream",
     "text": [
      "<class 'pandas.core.frame.DataFrame'>\n",
      "Int64Index: 176143 entries, 5 to 176147\n",
      "Data columns (total 3 columns):\n",
      " #   Column      Non-Null Count   Dtype         \n",
      "---  ------      --------------   -----         \n",
      " 0   date        176143 non-null  datetime64[ns]\n",
      " 1   heart rate  176143 non-null  float64       \n",
      " 2   bucket      75964 non-null   object        \n",
      "dtypes: datetime64[ns](1), float64(1), object(1)\n",
      "memory usage: 9.4+ MB\n"
     ]
    }
   ],
   "source": [
    "ds2['bucket'] = ds2['date'].apply(categories_2.get_bucket)\n",
    "ds2.info()"
   ],
   "metadata": {
    "collapsed": false,
    "pycharm": {
     "name": "#%%\n"
    }
   }
  },
  {
   "cell_type": "markdown",
   "source": [
    "### Combination plot: Boxenplot + observation count"
   ],
   "metadata": {
    "collapsed": false
   }
  },
  {
   "cell_type": "code",
   "execution_count": 112,
   "outputs": [
    {
     "data": {
      "text/plain": "[Text(0.5, 0, '18 Day intervals'), Text(0, 0.5, 'observation count')]"
     },
     "execution_count": 112,
     "metadata": {},
     "output_type": "execute_result"
    },
    {
     "data": {
      "text/plain": "<Figure size 1080x864 with 2 Axes>",
      "image/png": "[encoded data removed]"
     },
     "metadata": {},
     "output_type": "display_data"
    }
   ],
   "source": [
    "fig, axes = pyplot.subplots(nrows=2, ncols=1, figsize=(15, 12))\n",
    "\n",
    "seaborn.boxenplot(data=ds2,\n",
    "                  x='bucket', y='heart rate',\n",
    "                  ax=axes[0],\n",
    "                  palette=['azure']\n",
    "                  )\n",
    "\n",
    "seaborn.countplot(data=ds2,\n",
    "                  x='bucket',\n",
    "                  ax=axes[1],\n",
    "                  palette=['aliceblue']\n",
    "                  )\n",
    "\n",
    "axes[0].set(xlabel=f'{bucket_size} Day intervals')\n",
    "axes[1].set(xlabel=f'{bucket_size} Day intervals', ylabel='observation count')"
   ],
   "metadata": {
    "collapsed": false,
    "pycharm": {
     "name": "#%%\n"
    }
   }
  },
  {
   "cell_type": "code",
   "execution_count": 113,
   "outputs": [],
   "source": [
    "# Save the plots\n",
    "fig.savefig(heart_rate_jpg)\n",
    "fig.savefig(heart_rate_pdf)"
   ],
   "metadata": {
    "collapsed": false,
    "pycharm": {
     "name": "#%%\n"
    }
   }
  }
 ],
 "metadata": {
  "kernelspec": {
   "display_name": "Python 3",
   "language": "python",
   "name": "python3"
  },
  "language_info": {
   "codemirror_mode": {
    "name": "ipython",
    "version": 2
   },
   "file_extension": ".py",
   "mimetype": "text/x-python",
   "name": "python",
   "nbconvert_exporter": "python",
   "pygments_lexer": "ipython2",
   "version": "2.7.6"
  }
 },
 "nbformat": 4,
 "nbformat_minor": 0
}